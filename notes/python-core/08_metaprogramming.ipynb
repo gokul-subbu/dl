{
 "cells": [
  {
   "cell_type": "markdown",
   "metadata": {},
   "source": [
    "# metaprogramming"
   ]
  },
  {
   "cell_type": "markdown",
   "metadata": {},
   "source": [
    "For example, if we want to write a \"super duper debugger\", that prints out every function call and the arguments it was called with, we can easily modify (decorate) any function we want to \"debug\" without modifying the function body directly:"
   ]
  },
  {
   "cell_type": "code",
   "execution_count": 1,
   "metadata": {},
   "outputs": [],
   "source": [
    "from functools import wraps\n",
    "\n",
    "def debugger(fn):\n",
    "    @wraps(fn)\n",
    "    def inner(*args, **kwargs):\n",
    "        print(f'{fn.__qualname__}', args, kwargs)\n",
    "        return fn(*args, **kwargs)\n",
    "    return inner"
   ]
  },
  {
   "cell_type": "code",
   "execution_count": 2,
   "metadata": {},
   "outputs": [],
   "source": [
    "@debugger\n",
    "def func_1(*args, **kwargs):\n",
    "    pass\n",
    "\n",
    "@debugger\n",
    "def func_2(*args, **kwargs):\n",
    "    pass"
   ]
  },
  {
   "cell_type": "code",
   "execution_count": 3,
   "metadata": {},
   "outputs": [
    {
     "name": "stdout",
     "output_type": "stream",
     "text": [
      "func_1 (10, 20) {'kw': 'a'}\n"
     ]
    }
   ],
   "source": [
    "func_1(10, 20, kw='a')"
   ]
  },
  {
   "cell_type": "code",
   "execution_count": 4,
   "metadata": {},
   "outputs": [
    {
     "name": "stdout",
     "output_type": "stream",
     "text": [
      "func_2 (10,) {}\n"
     ]
    }
   ],
   "source": [
    "func_2(10)"
   ]
  },
  {
   "cell_type": "code",
   "execution_count": 5,
   "metadata": {},
   "outputs": [],
   "source": [
    "class IntegerField:\n",
    "    def __set_name__(self, owner, name):\n",
    "        self.name = name\n",
    "        \n",
    "    def __get__(self, instance, owner):\n",
    "        return instance.__dict__.get(self.name, None)\n",
    "    \n",
    "    def __set__(self, instance, value):\n",
    "        if not isinstance(value, int):\n",
    "            raise TypeError('Must be an integer.')\n",
    "        instance.__dict__[self.name] = value"
   ]
  },
  {
   "cell_type": "code",
   "execution_count": 6,
   "metadata": {},
   "outputs": [],
   "source": [
    "class Point:\n",
    "    x = IntegerField()\n",
    "    y = IntegerField()\n",
    "    \n",
    "    def __init__(self, x, y):\n",
    "        self.x = x\n",
    "        self.y = y"
   ]
  },
  {
   "cell_type": "code",
   "execution_count": 7,
   "metadata": {},
   "outputs": [],
   "source": [
    "p = Point(10, 20)"
   ]
  },
  {
   "cell_type": "code",
   "execution_count": 8,
   "metadata": {},
   "outputs": [
    {
     "data": {
      "text/plain": [
       "(10, 20)"
      ]
     },
     "execution_count": 8,
     "metadata": {},
     "output_type": "execute_result"
    }
   ],
   "source": [
    "p.x, p.y"
   ]
  },
  {
   "cell_type": "markdown",
   "metadata": {},
   "source": [
    "`__new__` method"
   ]
  },
  {
   "cell_type": "code",
   "execution_count": 9,
   "metadata": {},
   "outputs": [],
   "source": [
    "class Point:\n",
    "    pass"
   ]
  },
  {
   "cell_type": "code",
   "execution_count": 10,
   "metadata": {},
   "outputs": [],
   "source": [
    "p=object.__new__(Point)"
   ]
  },
  {
   "cell_type": "code",
   "execution_count": 11,
   "metadata": {},
   "outputs": [
    {
     "data": {
      "text/plain": [
       "__main__.Point"
      ]
     },
     "execution_count": 11,
     "metadata": {},
     "output_type": "execute_result"
    }
   ],
   "source": [
    "type(p)"
   ]
  },
  {
   "cell_type": "code",
   "execution_count": 12,
   "metadata": {},
   "outputs": [],
   "source": [
    "class Point:\n",
    "    def __init__(self, x,y):\n",
    "        self.x =x\n",
    "        self.y =y"
   ]
  },
  {
   "cell_type": "code",
   "execution_count": 13,
   "metadata": {},
   "outputs": [],
   "source": [
    "p=object.__new__(Point)\n",
    "p.__init__(10, 20)"
   ]
  },
  {
   "cell_type": "code",
   "execution_count": 14,
   "metadata": {},
   "outputs": [
    {
     "data": {
      "text/plain": [
       "{'x': 10, 'y': 20}"
      ]
     },
     "execution_count": 14,
     "metadata": {},
     "output_type": "execute_result"
    }
   ],
   "source": [
    "p.__dict__"
   ]
  },
  {
   "cell_type": "code",
   "execution_count": 15,
   "metadata": {},
   "outputs": [],
   "source": [
    "class Point:\n",
    "    def __new__(cls, x, y):\n",
    "        print('Creating instance...', x, y)\n",
    "        instance = object.__new__(cls)  # delegate to object.__new__\n",
    "        return instance  # don't forget to return the new instance!\n",
    "    \n",
    "    def __init__(self, x, y):\n",
    "        print('Initializing instance...', x, y)\n",
    "        self.x = x\n",
    "        self.y = y"
   ]
  },
  {
   "cell_type": "code",
   "execution_count": 16,
   "metadata": {},
   "outputs": [
    {
     "name": "stdout",
     "output_type": "stream",
     "text": [
      "Creating instance... 10 20\n",
      "Initializing instance... 10 20\n"
     ]
    }
   ],
   "source": [
    "p = Point(10, 20)"
   ]
  },
  {
   "cell_type": "code",
   "execution_count": 17,
   "metadata": {},
   "outputs": [],
   "source": [
    "class Squared(int):\n",
    "    def __new__(cls, x):\n",
    "        return super().__new__(cls, x**2)"
   ]
  },
  {
   "cell_type": "code",
   "execution_count": 18,
   "metadata": {},
   "outputs": [
    {
     "data": {
      "text/plain": [
       "(__main__.Squared, 9)"
      ]
     },
     "execution_count": 18,
     "metadata": {},
     "output_type": "execute_result"
    }
   ],
   "source": [
    "s=Squared(3)\n",
    "type(s), s"
   ]
  },
  {
   "cell_type": "markdown",
   "metadata": {},
   "source": [
    "Trying to do this using `__init__` would not work - the built-in `__init__` for integers does not actually do anything, and does not allow for an argument to be passed:"
   ]
  },
  {
   "cell_type": "code",
   "execution_count": 19,
   "metadata": {},
   "outputs": [],
   "source": [
    "class Squared(int):\n",
    "    def __init__(self, x):\n",
    "        print('calling init...', x)\n",
    "        super().__init__(x**2)"
   ]
  },
  {
   "cell_type": "code",
   "execution_count": 20,
   "metadata": {},
   "outputs": [
    {
     "name": "stdout",
     "output_type": "stream",
     "text": [
      "calling init... 3\n",
      "object.__init__() takes exactly one argument (the instance to initialize)\n"
     ]
    }
   ],
   "source": [
    "try:\n",
    "    result = Squared(3)\n",
    "except TypeError as ex:\n",
    "    print(ex)"
   ]
  },
  {
   "cell_type": "markdown",
   "metadata": {},
   "source": [
    "Most often when we override the `__new__` method we use delegation to the parent class to do some of the work. But of course, as we saw just now we don't have to, we can just use `object.__new__` directly. "
   ]
  },
  {
   "cell_type": "code",
   "execution_count": 21,
   "metadata": {},
   "outputs": [],
   "source": [
    "class Person:\n",
    "    def __new__(cls, name):\n",
    "        print(f'Person: Instantiating {cls.__name__}...')\n",
    "        instance = object.__new__(cls)\n",
    "        return instance\n",
    "        \n",
    "    def __init__(self, name):\n",
    "        print(f'Person: Initializing instance...')\n",
    "        self.name = name"
   ]
  },
  {
   "cell_type": "code",
   "execution_count": 22,
   "metadata": {},
   "outputs": [
    {
     "name": "stdout",
     "output_type": "stream",
     "text": [
      "Person: Instantiating Person...\n",
      "Person: Initializing instance...\n"
     ]
    }
   ],
   "source": [
    "p = Person('Guido')"
   ]
  },
  {
   "cell_type": "markdown",
   "metadata": {},
   "source": [
    "but the problem does not play well with inheritence"
   ]
  },
  {
   "cell_type": "code",
   "execution_count": 23,
   "metadata": {},
   "outputs": [],
   "source": [
    "class Student(Person):\n",
    "    def __new__(cls, name, major):\n",
    "        print(f'student initializing {cls.__name__}', name , major)\n",
    "        instance=object.__new__(cls)\n",
    "        return instance\n",
    "    \n",
    "    def __init__(self, name, major):\n",
    "        print(f'Student initializing instance ', name, major)\n",
    "        super().__init__(name)\n",
    "        self.major=major"
   ]
  },
  {
   "cell_type": "code",
   "execution_count": 24,
   "metadata": {},
   "outputs": [
    {
     "name": "stdout",
     "output_type": "stream",
     "text": [
      "student initializing Student narain btech\n",
      "Student initializing instance  narain btech\n",
      "Person: Initializing instance...\n"
     ]
    }
   ],
   "source": [
    "s=Student('narain', 'btech')"
   ]
  },
  {
   "cell_type": "code",
   "execution_count": 25,
   "metadata": {},
   "outputs": [],
   "source": [
    "class Person:\n",
    "    def __new__(cls, name):\n",
    "        print(f'Person: Instantiating {cls.__name__}...')\n",
    "        instance = super().__new__(cls)\n",
    "        return instance\n",
    "        \n",
    "    def __init__(self, name):\n",
    "        print(f'Person: Initializing instance...')\n",
    "        self.name = name\n",
    "        \n",
    "class Student(Person):\n",
    "    def __new__(cls, name, major):\n",
    "        print(f'Student: Instantiating {cls.__name__}...')\n",
    "        instance = super().__new__(cls, name)\n",
    "        return instance\n",
    "    \n",
    "    def __init__(self, name, major):\n",
    "        print(f'Student: Initializing instance...')\n",
    "        super().__init__(name)\n",
    "        self.major = major"
   ]
  },
  {
   "cell_type": "code",
   "execution_count": 26,
   "metadata": {},
   "outputs": [
    {
     "name": "stdout",
     "output_type": "stream",
     "text": [
      "Student: Instantiating Student...\n",
      "Person: Instantiating Student...\n",
      "Student: Initializing instance...\n",
      "Person: Initializing instance...\n"
     ]
    }
   ],
   "source": [
    "s=Student('narain', 'btech')"
   ]
  },
  {
   "cell_type": "code",
   "execution_count": 27,
   "metadata": {},
   "outputs": [],
   "source": [
    "class Square:\n",
    "    def __new__(cls, w, l):\n",
    "        cls.area= lambda self:self.w*self.l\n",
    "        instance=super().__new__(cls)\n",
    "        return instance\n",
    "    \n",
    "    def __init__(self, w, l):\n",
    "        self.w=w\n",
    "        self.l=l"
   ]
  },
  {
   "cell_type": "code",
   "execution_count": 28,
   "metadata": {},
   "outputs": [],
   "source": [
    "s=Square(11, 23)"
   ]
  },
  {
   "cell_type": "code",
   "execution_count": 29,
   "metadata": {},
   "outputs": [
    {
     "data": {
      "text/plain": [
       "253"
      ]
     },
     "execution_count": 29,
     "metadata": {},
     "output_type": "execute_result"
    }
   ],
   "source": [
    "s.area()"
   ]
  },
  {
   "cell_type": "code",
   "execution_count": 30,
   "metadata": {},
   "outputs": [],
   "source": [
    "class Square:\n",
    "    def __new__(cls, w, l):\n",
    "        setattr(cls, 'area', lambda self: self.w*self.l)\n",
    "        instance=super().__new__(cls)\n",
    "        instance.w=w\n",
    "        instance.l=l\n",
    "        return instance"
   ]
  },
  {
   "cell_type": "code",
   "execution_count": 31,
   "metadata": {},
   "outputs": [
    {
     "data": {
      "text/plain": [
       "253"
      ]
     },
     "execution_count": 31,
     "metadata": {},
     "output_type": "execute_result"
    }
   ],
   "source": [
    "s= Square(11, 23)\n",
    "s.area()"
   ]
  },
  {
   "cell_type": "code",
   "execution_count": 32,
   "metadata": {},
   "outputs": [
    {
     "data": {
      "text/plain": [
       "{'w': 11, 'l': 23}"
      ]
     },
     "execution_count": 32,
     "metadata": {},
     "output_type": "execute_result"
    }
   ],
   "source": [
    "s.__dict__"
   ]
  },
  {
   "cell_type": "code",
   "execution_count": 33,
   "metadata": {},
   "outputs": [
    {
     "data": {
      "text/plain": [
       "9"
      ]
     },
     "execution_count": 33,
     "metadata": {},
     "output_type": "execute_result"
    }
   ],
   "source": [
    "s=Square.__new__(Square, 3,3)\n",
    "s.area()"
   ]
  },
  {
   "cell_type": "code",
   "execution_count": 34,
   "metadata": {},
   "outputs": [
    {
     "data": {
      "text/plain": [
       "{'w': 3, 'l': 3}"
      ]
     },
     "execution_count": 34,
     "metadata": {},
     "output_type": "execute_result"
    }
   ],
   "source": [
    "s.__dict__"
   ]
  },
  {
   "cell_type": "code",
   "execution_count": 35,
   "metadata": {},
   "outputs": [],
   "source": [
    "class Person:\n",
    "    def __new__(cls, name):\n",
    "        print(f'creating instance of {cls.__name__}')\n",
    "        instance=str(name)\n",
    "        return instance\n",
    "    \n",
    "    def __init__(self, name):\n",
    "        print(f'initializing the variables of class {self.__name__} ={name}')\n",
    "        self.name=name"
   ]
  },
  {
   "cell_type": "code",
   "execution_count": 36,
   "metadata": {},
   "outputs": [
    {
     "name": "stdout",
     "output_type": "stream",
     "text": [
      "creating instance of Person\n"
     ]
    }
   ],
   "source": [
    "p=Person('narain')"
   ]
  },
  {
   "cell_type": "code",
   "execution_count": 37,
   "metadata": {},
   "outputs": [
    {
     "data": {
      "text/plain": [
       "(str, 'narain')"
      ]
     },
     "execution_count": 37,
     "metadata": {},
     "output_type": "execute_result"
    }
   ],
   "source": [
    "type(p), p"
   ]
  },
  {
   "cell_type": "code",
   "execution_count": 38,
   "metadata": {},
   "outputs": [],
   "source": [
    "class Person:\n",
    "    def __new__(cls, name, age):\n",
    "        print(f'creating instance of {cls.__name__}')\n",
    "        instance=super().__new__(cls)\n",
    "        instance.name=name\n",
    "        instance.age=age\n",
    "        instance.valid= True if instance.age>18 else False\n",
    "        return instance"
   ]
  },
  {
   "cell_type": "code",
   "execution_count": 39,
   "metadata": {},
   "outputs": [
    {
     "name": "stdout",
     "output_type": "stream",
     "text": [
      "creating instance of Person\n"
     ]
    },
    {
     "data": {
      "text/plain": [
       "{'name': 'narain', 'age': 21, 'valid': True}"
      ]
     },
     "execution_count": 39,
     "metadata": {},
     "output_type": "execute_result"
    }
   ],
   "source": [
    "p=Person('narain', 21)\n",
    "p.__dict__"
   ]
  },
  {
   "cell_type": "code",
   "execution_count": 40,
   "metadata": {},
   "outputs": [
    {
     "name": "stdout",
     "output_type": "stream",
     "text": [
      "creating instance of Person\n"
     ]
    },
    {
     "data": {
      "text/plain": [
       "{'name': 'isai', 'age': 8, 'valid': False}"
      ]
     },
     "execution_count": 40,
     "metadata": {},
     "output_type": "execute_result"
    }
   ],
   "source": [
    "p=Person('isai', 8)\n",
    "p.__dict__"
   ]
  },
  {
   "cell_type": "markdown",
   "metadata": {},
   "source": [
    "## creation of classes"
   ]
  },
  {
   "cell_type": "code",
   "execution_count": 41,
   "metadata": {},
   "outputs": [],
   "source": [
    "from math import pi\n",
    "\n",
    "class Circle:\n",
    "    def __init__(self, x, y,r):\n",
    "        self.x=x\n",
    "        self.y=y\n",
    "        self.r=r\n",
    "        \n",
    "    def area(self)-> float:\n",
    "        return pi*r*r"
   ]
  },
  {
   "cell_type": "code",
   "execution_count": 42,
   "metadata": {},
   "outputs": [
    {
     "data": {
      "text/plain": [
       "type"
      ]
     },
     "execution_count": 42,
     "metadata": {},
     "output_type": "execute_result"
    }
   ],
   "source": [
    "type(Circle)"
   ]
  },
  {
   "cell_type": "markdown",
   "metadata": {},
   "source": [
    "There are four main steps involved with creating instances of a class:\n",
    "\n",
    "1. The class body is extracted - think of it as just a lump of text that contains code.\n",
    "2. The class dictionary (used for the **class** state) is created for the class namespace\n",
    "3. The body (extracted in 1), is executed in the class namespace (created in 2), thereby populating the class dictionary (in this case with two symbols, `__init__` and `area`)\n",
    "4. A new `type` **instance** is constructed using the name of the class, the base classes (remember Python supports multiple inheritance), and that dictionary."
   ]
  },
  {
   "cell_type": "code",
   "execution_count": 43,
   "metadata": {},
   "outputs": [],
   "source": [
    "namespc={}\n",
    "\n",
    "exec('''\n",
    "area=10\n",
    "perimeter=20\n",
    "''', globals(), namespc)"
   ]
  },
  {
   "cell_type": "code",
   "execution_count": 44,
   "metadata": {},
   "outputs": [
    {
     "data": {
      "text/plain": [
       "({'area': 10, 'perimeter': 20}, 10, 20)"
      ]
     },
     "execution_count": 44,
     "metadata": {},
     "output_type": "execute_result"
    }
   ],
   "source": [
    "namespc, namespc['area'], namespc['perimeter']"
   ]
  },
  {
   "cell_type": "code",
   "execution_count": 45,
   "metadata": {},
   "outputs": [],
   "source": [
    "exec('''\n",
    "def add(a, b):\n",
    "    return a + b\n",
    "    \n",
    "def mul(a, b):\n",
    "    return a * b\n",
    "''', globals(), namespc)"
   ]
  },
  {
   "cell_type": "code",
   "execution_count": 46,
   "metadata": {},
   "outputs": [],
   "source": [
    "del Circle"
   ]
  },
  {
   "cell_type": "code",
   "execution_count": 47,
   "metadata": {},
   "outputs": [],
   "source": [
    "class_name='Circle'\n",
    "\n",
    "class_body='''\n",
    "def __init__(self, x, y, r):\n",
    "    self.x=x\n",
    "    self.y=y\n",
    "    self.r=r\n",
    "    \n",
    "def area(self):\n",
    "    return pi*self.r*self.r'''"
   ]
  },
  {
   "cell_type": "code",
   "execution_count": 48,
   "metadata": {},
   "outputs": [],
   "source": [
    "class_bases=()\n",
    "class_dict={}"
   ]
  },
  {
   "cell_type": "code",
   "execution_count": 49,
   "metadata": {},
   "outputs": [],
   "source": [
    "exec(class_body, globals(), class_dict)"
   ]
  },
  {
   "cell_type": "code",
   "execution_count": 50,
   "metadata": {},
   "outputs": [
    {
     "data": {
      "text/plain": [
       "{'__init__': <function __main__.__init__(self, x, y, r)>,\n",
       " 'area': <function __main__.area(self)>}"
      ]
     },
     "execution_count": 50,
     "metadata": {},
     "output_type": "execute_result"
    }
   ],
   "source": [
    "class_dict"
   ]
  },
  {
   "cell_type": "code",
   "execution_count": 51,
   "metadata": {},
   "outputs": [],
   "source": [
    "Circle=type(class_name, class_bases, class_dict)"
   ]
  },
  {
   "cell_type": "code",
   "execution_count": 52,
   "metadata": {},
   "outputs": [
    {
     "data": {
      "text/plain": [
       "__main__.Circle"
      ]
     },
     "execution_count": 52,
     "metadata": {},
     "output_type": "execute_result"
    }
   ],
   "source": [
    "Circle"
   ]
  },
  {
   "cell_type": "code",
   "execution_count": 53,
   "metadata": {},
   "outputs": [
    {
     "data": {
      "text/plain": [
       "type"
      ]
     },
     "execution_count": 53,
     "metadata": {},
     "output_type": "execute_result"
    }
   ],
   "source": [
    "type(Circle)"
   ]
  },
  {
   "cell_type": "code",
   "execution_count": 54,
   "metadata": {},
   "outputs": [
    {
     "data": {
      "text/plain": [
       "mappingproxy({'__init__': <function __main__.__init__(self, x, y, r)>,\n",
       "              'area': <function __main__.area(self)>,\n",
       "              '__module__': '__main__',\n",
       "              '__dict__': <attribute '__dict__' of 'Circle' objects>,\n",
       "              '__weakref__': <attribute '__weakref__' of 'Circle' objects>,\n",
       "              '__doc__': None})"
      ]
     },
     "execution_count": 54,
     "metadata": {},
     "output_type": "execute_result"
    }
   ],
   "source": [
    "Circle.__dict__"
   ]
  },
  {
   "cell_type": "code",
   "execution_count": 55,
   "metadata": {},
   "outputs": [
    {
     "data": {
      "text/plain": [
       "28.274333882308138"
      ]
     },
     "execution_count": 55,
     "metadata": {},
     "output_type": "execute_result"
    }
   ],
   "source": [
    "Circle(0,0,3).area()"
   ]
  },
  {
   "cell_type": "markdown",
   "metadata": {},
   "source": [
    "### to create a class from the callable type "
   ]
  },
  {
   "cell_type": "code",
   "execution_count": 56,
   "metadata": {},
   "outputs": [],
   "source": [
    "Circle = type(class_name, class_bases, class_dict)"
   ]
  },
  {
   "cell_type": "code",
   "execution_count": 57,
   "metadata": {},
   "outputs": [
    {
     "data": {
      "text/plain": [
       "type"
      ]
     },
     "execution_count": 57,
     "metadata": {},
     "output_type": "execute_result"
    }
   ],
   "source": [
    "type(Circle)"
   ]
  },
  {
   "cell_type": "code",
   "execution_count": 58,
   "metadata": {},
   "outputs": [],
   "source": [
    "class CustomType(type):\n",
    "    def __new__(cls, name, bases, class_dict):\n",
    "        print('customized type creation')\n",
    "        cls_obj= super().__new__(cls, name, bases, class_dict)\n",
    "        cls_obj.circle= lambda self: 2* pi* self.r\n",
    "        return cls_obj"
   ]
  },
  {
   "cell_type": "code",
   "execution_count": 60,
   "metadata": {},
   "outputs": [
    {
     "name": "stdout",
     "output_type": "stream",
     "text": [
      "customized type creation\n"
     ]
    }
   ],
   "source": [
    "Circle = CustomType('Circle', (), class_dict)"
   ]
  },
  {
   "cell_type": "code",
   "execution_count": 61,
   "metadata": {},
   "outputs": [
    {
     "data": {
      "text/plain": [
       "__main__.CustomType"
      ]
     },
     "execution_count": 61,
     "metadata": {},
     "output_type": "execute_result"
    }
   ],
   "source": [
    "type(Circle)"
   ]
  },
  {
   "cell_type": "code",
   "execution_count": 68,
   "metadata": {},
   "outputs": [],
   "source": [
    "class CustomType(type):\n",
    "    def __new__(mcls, name, bases, class_dict):\n",
    "        print(f'Using custom metaclass {mcls} to create class {name}...')\n",
    "        cls_obj = super().__new__(mcls, name, bases, class_dict)\n",
    "        cls_obj.circ = lambda self: 2 * pi * self.r\n",
    "        return cls_obj"
   ]
  },
  {
   "cell_type": "code",
   "execution_count": 71,
   "metadata": {},
   "outputs": [
    {
     "name": "stdout",
     "output_type": "stream",
     "text": [
      "Using custom metaclass <class '__main__.CustomType'> to create class Circle...\n"
     ]
    }
   ],
   "source": [
    "class Circle(metaclass=CustomType):\n",
    "    def __init__(self, x, y, r):\n",
    "        self.x = x\n",
    "        self.y = y\n",
    "        self.r = r\n",
    "        \n",
    "    def area(self):\n",
    "        return pi * self.r ** 2"
   ]
  },
  {
   "cell_type": "code",
   "execution_count": 72,
   "metadata": {},
   "outputs": [
    {
     "name": "stdout",
     "output_type": "stream",
     "text": [
      "3.141592653589793\n",
      "6.283185307179586\n"
     ]
    }
   ],
   "source": [
    "c = Circle(0, 0, 1)\n",
    "print(c.area())\n",
    "print(c.circ())"
   ]
  },
  {
   "cell_type": "markdown",
   "metadata": {},
   "source": [
    "## class decorators"
   ]
  },
  {
   "cell_type": "code",
   "execution_count": 73,
   "metadata": {},
   "outputs": [],
   "source": [
    "def savings(cls):\n",
    "    cls.account_type= 'savings'\n",
    "    return cls\n",
    "\n",
    "def checking(cls):\n",
    "    cls.account_type= 'chacking'\n",
    "    return cls"
   ]
  },
  {
   "cell_type": "code",
   "execution_count": 75,
   "metadata": {},
   "outputs": [],
   "source": [
    "class Account:\n",
    "    pass\n",
    "\n",
    "@savings\n",
    "class BankAcc1(Account):\n",
    "    pass\n",
    "\n",
    "@savings\n",
    "class BankAcc2(Account):\n",
    "    pass\n",
    "\n",
    "@checking\n",
    "class BankSav1(Account):\n",
    "    pass\n",
    "\n",
    "@checking\n",
    "class BankSav2(Account):\n",
    "    pass"
   ]
  },
  {
   "cell_type": "code",
   "execution_count": 77,
   "metadata": {},
   "outputs": [
    {
     "data": {
      "text/plain": [
       "'savings'"
      ]
     },
     "execution_count": 77,
     "metadata": {},
     "output_type": "execute_result"
    }
   ],
   "source": [
    "BankAcc1.account_type"
   ]
  },
  {
   "cell_type": "code",
   "execution_count": 78,
   "metadata": {},
   "outputs": [],
   "source": [
    "def account_type(type_):\n",
    "    def dec(cls):\n",
    "        cls.account_type=type_\n",
    "        return cls\n",
    "    return dec"
   ]
  },
  {
   "cell_type": "code",
   "execution_count": 79,
   "metadata": {},
   "outputs": [
    {
     "data": {
      "text/plain": [
       "'savings'"
      ]
     },
     "execution_count": 79,
     "metadata": {},
     "output_type": "execute_result"
    }
   ],
   "source": [
    "@account_type('savings')\n",
    "class BankAcc3(Account):\n",
    "    pass\n",
    "\n",
    "BankAcc3.account_type"
   ]
  },
  {
   "cell_type": "code",
   "execution_count": 82,
   "metadata": {},
   "outputs": [],
   "source": [
    "from functools import wraps\n",
    "\n",
    "def func_logger(fn):\n",
    "    @wraps(fn)\n",
    "    def inner(*args, **kwargs):\n",
    "        result = fn(*args, **kwargs)\n",
    "        print(f'log: {fn.__qualname__}({args}, {kwargs}) = {result}')\n",
    "        return result\n",
    "    return inner    "
   ]
  },
  {
   "cell_type": "code",
   "execution_count": 83,
   "metadata": {},
   "outputs": [],
   "source": [
    "def class_logger(cls):\n",
    "    for name, obj in vars(cls).items():\n",
    "        if callable(obj):\n",
    "            print('decorating:', cls, name)\n",
    "            setattr(cls, name, func_logger(obj))\n",
    "    return cls"
   ]
  },
  {
   "cell_type": "code",
   "execution_count": 84,
   "metadata": {},
   "outputs": [
    {
     "name": "stdout",
     "output_type": "stream",
     "text": [
      "decorating: <class '__main__.Person'> __init__\n",
      "decorating: <class '__main__.Person'> greet\n"
     ]
    }
   ],
   "source": [
    "@class_logger\n",
    "class Person:\n",
    "    def __init__(self, name, age):\n",
    "        self.name = name\n",
    "        self.age = age\n",
    "    \n",
    "    def greet(self):\n",
    "        return f'Hello, my name is {self.name} and I am {self.age}'"
   ]
  },
  {
   "cell_type": "code",
   "execution_count": null,
   "metadata": {},
   "outputs": [],
   "source": []
  }
 ],
 "metadata": {
  "kernelspec": {
   "display_name": "torch_aug",
   "language": "python",
   "name": "torch"
  },
  "language_info": {
   "codemirror_mode": {
    "name": "ipython",
    "version": 3
   },
   "file_extension": ".py",
   "mimetype": "text/x-python",
   "name": "python",
   "nbconvert_exporter": "python",
   "pygments_lexer": "ipython3",
   "version": "3.7.5"
  }
 },
 "nbformat": 4,
 "nbformat_minor": 2
}
