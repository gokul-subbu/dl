{
 "cells": [
  {
   "cell_type": "code",
   "execution_count": 1,
   "metadata": {},
   "outputs": [],
   "source": [
    "class Point2D:\n",
    "    _fields = ['x', 'y']\n",
    "    \n",
    "    def __init__(self, x, y):\n",
    "        self._x = x\n",
    "        self._y = y\n",
    "    \n",
    "class Point3D:\n",
    "    _fields = ['x', 'y', 'z']\n",
    "    \n",
    "    def __init__(self, x, y, z):\n",
    "        self._x = x\n",
    "        self._y = y\n",
    "        self._z = z"
   ]
  },
  {
   "cell_type": "code",
   "execution_count": 2,
   "metadata": {},
   "outputs": [],
   "source": [
    "class SlottedStruct(type):\n",
    "    def __new__(cls, name, bases, class_dict):\n",
    "        cls_object = super().__new__(cls, name, bases, class_dict)\n",
    "        \n",
    "        # setup the __slots__\n",
    "        setattr(cls_object, '__slots__', [f'_{field}' for field in cls_object._fields])\n",
    "            \n",
    "        # create read-only property for each field\n",
    "        for field in cls_object._fields:\n",
    "            slot = f'_{field}'\n",
    "            # this will not work!\n",
    "            # remember about how closures work! The free variable is resolved when the function is called!\n",
    "            #     setattr(cls_object, field, property(fget=lambda self: getattr(self, slot)))\n",
    "            # so instead we have to use this workaround, by specifying the slot as a defaulted argument\n",
    "            setattr(cls_object, field, property(fget=lambda self, attrib=slot: getattr(self, attrib)))\n",
    "\n",
    "        return cls_object"
   ]
  },
  {
   "cell_type": "code",
   "execution_count": null,
   "metadata": {},
   "outputs": [],
   "source": []
  }
 ],
 "metadata": {
  "kernelspec": {
   "display_name": "torch_aug",
   "language": "python",
   "name": "torch"
  },
  "language_info": {
   "codemirror_mode": {
    "name": "ipython",
    "version": 3
   },
   "file_extension": ".py",
   "mimetype": "text/x-python",
   "name": "python",
   "nbconvert_exporter": "python",
   "pygments_lexer": "ipython3",
   "version": "3.7.5"
  }
 },
 "nbformat": 4,
 "nbformat_minor": 2
}
