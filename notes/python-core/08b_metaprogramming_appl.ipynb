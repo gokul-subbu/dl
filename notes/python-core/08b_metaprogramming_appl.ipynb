{
 "cells": [
  {
   "cell_type": "code",
   "execution_count": 1,
   "metadata": {},
   "outputs": [],
   "source": [
    "class Point2D:\n",
    "    _fields = ['x', 'y']\n",
    "    \n",
    "    def __init__(self, x, y):\n",
    "        self._x = x\n",
    "        self._y = y\n",
    "    \n",
    "class Point3D:\n",
    "    _fields = ['x', 'y', 'z']\n",
    "    \n",
    "    def __init__(self, x, y, z):\n",
    "        self._x = x\n",
    "        self._y = y\n",
    "        self._z = z"
   ]
  },
  {
   "cell_type": "code",
   "execution_count": 2,
   "metadata": {},
   "outputs": [],
   "source": [
    "class SlottedStruct(type):\n",
    "    def __new__(cls, name, bases, class_dict):\n",
    "        cls_object = super().__new__(cls, name, bases, class_dict)\n",
    "        \n",
    "        # setup the __slots__\n",
    "        setattr(cls_object, '__slots__', [f'_{field}' for field in cls_object._fields])\n",
    "            \n",
    "        # create read-only property for each field\n",
    "        for field in cls_object._fields:\n",
    "            slot = f'_{field}'\n",
    "            # this will not work!\n",
    "            # remember about how closures work! The free variable is resolved when the function is called!\n",
    "            #     setattr(cls_object, field, property(fget=lambda self: getattr(self, slot)))\n",
    "            # so instead we have to use this workaround, by specifying the slot as a defaulted argument\n",
    "            setattr(cls_object, field, property(fget=lambda self, attrib=slot: getattr(self, attrib)))\n",
    "\n",
    "        return cls_object"
   ]
  },
  {
   "cell_type": "code",
   "execution_count": 3,
   "metadata": {},
   "outputs": [],
   "source": [
    "class Person(metaclass=SlottedStruct):\n",
    "    _fields = ['name', 'age']\n",
    "    \n",
    "    def __init__(self, name, age):\n",
    "        self._name = name\n",
    "        self._age = age"
   ]
  },
  {
   "cell_type": "code",
   "execution_count": 4,
   "metadata": {},
   "outputs": [
    {
     "data": {
      "text/plain": [
       "mappingproxy({'__module__': '__main__',\n",
       "              '_fields': ['name', 'age'],\n",
       "              '__init__': <function __main__.Person.__init__(self, name, age)>,\n",
       "              '__dict__': <attribute '__dict__' of 'Person' objects>,\n",
       "              '__weakref__': <attribute '__weakref__' of 'Person' objects>,\n",
       "              '__doc__': None,\n",
       "              '__slots__': ['_name', '_age'],\n",
       "              'name': <property at 0x1d163899598>,\n",
       "              'age': <property at 0x1d163899b88>})"
      ]
     },
     "execution_count": 4,
     "metadata": {},
     "output_type": "execute_result"
    }
   ],
   "source": [
    "vars(Person)"
   ]
  },
  {
   "cell_type": "code",
   "execution_count": 5,
   "metadata": {},
   "outputs": [],
   "source": [
    "class SlottedStruct(type):\n",
    "    def __new__(cls, name, bases, class_dict):\n",
    "        cls_object = super().__new__(cls, name, bases, class_dict)\n",
    "        \n",
    "        # setup the __slots__\n",
    "        setattr(cls_object, '__slots__', [f'_{field}' for field in cls_object._fields])\n",
    "            \n",
    "        # create read-only property for each field\n",
    "        for field in cls_object._fields:\n",
    "            slot = f'_{field}'\n",
    "            # this will not work!\n",
    "            #     setattr(cls_object, field, property(fget=lambda self: getattr(self, slot)))\n",
    "            # Remember about how closures work! The free variable is resolved when the function is called!\n",
    "            # So instead we have to use this workaround, by specifying the slot as a defaulted argument\n",
    "            setattr(cls_object, field, property(fget=lambda self, attrib=slot: getattr(self, attrib)))\n",
    "\n",
    "        # create __eq__ method\n",
    "        def eq(self, other):\n",
    "            if isinstance(other, cls_object):\n",
    "                # ensure each corresponding field is equal\n",
    "                self_fields = [getattr(self, field) for field in cls_object._fields]\n",
    "                other_fields = [getattr(other, field) for field in cls_object._fields]\n",
    "                return self_fields == other_fields\n",
    "            return False\n",
    "        setattr(cls_object, '__eq__', eq)\n",
    "\n",
    "        # create __hash__ method\n",
    "        def hash_(self):\n",
    "            field_values = (getattr(self, field) for field in cls_object._fields)\n",
    "            return hash(tuple(field_values))\n",
    "        setattr(cls_object, '__hash__', hash_)\n",
    "        \n",
    "        # create __str__ method\n",
    "        def str_(self):\n",
    "            field_values = (getattr(self, field) for field in cls_object._fields)\n",
    "            field_values_joined = ', '.join(map(str, field_values))  # make every value a string\n",
    "            return f'{cls_object.__name__}({field_values_joined})'\n",
    "        setattr(cls_object, '__str__', str_)\n",
    "        \n",
    "        # create __repr__ method\n",
    "        def repr_(self):\n",
    "            field_values = (getattr(self, field) for field in cls_object._fields)\n",
    "            field_key_values = (f'{key}={value}' for key, value in zip(cls_object._fields, field_values))\n",
    "            field_key_values_str = ', '.join(field_key_values)\n",
    "            return f'{cls_object.__name__}({field_key_values_str})'\n",
    "        setattr(cls_object, '__repr__', repr_)\n",
    "        \n",
    "        return cls_object"
   ]
  },
  {
   "cell_type": "code",
   "execution_count": 6,
   "metadata": {},
   "outputs": [],
   "source": [
    "class Person(metaclass=SlottedStruct):\n",
    "    _fields = ['name']\n",
    "    \n",
    "    def __init__(self, name):\n",
    "        self._name = name"
   ]
  },
  {
   "cell_type": "code",
   "execution_count": 7,
   "metadata": {},
   "outputs": [],
   "source": [
    "p1 = Person('Alex')\n",
    "p2 = Person('Alex')"
   ]
  },
  {
   "cell_type": "code",
   "execution_count": 8,
   "metadata": {},
   "outputs": [
    {
     "data": {
      "text/plain": [
       "True"
      ]
     },
     "execution_count": 8,
     "metadata": {},
     "output_type": "execute_result"
    }
   ],
   "source": [
    "p1==p2"
   ]
  },
  {
   "cell_type": "code",
   "execution_count": 9,
   "metadata": {},
   "outputs": [],
   "source": [
    "class Point2D(metaclass=SlottedStruct):\n",
    "    _fields = ['x', 'y']\n",
    "    \n",
    "    def __init__(self, x, y):\n",
    "        self._x = x\n",
    "        self._y = y\n",
    "        \n",
    "class Point3D(metaclass=SlottedStruct):\n",
    "    _fields = ['x', 'y', 'z']\n",
    "    \n",
    "    def __init__(self, x, y, z):\n",
    "        self._x = x\n",
    "        self._y = y\n",
    "        self._z = z"
   ]
  },
  {
   "cell_type": "code",
   "execution_count": 10,
   "metadata": {},
   "outputs": [],
   "source": [
    "p1 = Point2D(1, 2)\n",
    "p2 = Point2D(1, 2)\n",
    "p3 = Point2D(0, 0)"
   ]
  },
  {
   "cell_type": "code",
   "execution_count": 11,
   "metadata": {},
   "outputs": [
    {
     "data": {
      "text/plain": [
       "(False, True)"
      ]
     },
     "execution_count": 11,
     "metadata": {},
     "output_type": "execute_result"
    }
   ],
   "source": [
    "p1 is p2, p1 == p2"
   ]
  },
  {
   "cell_type": "code",
   "execution_count": 12,
   "metadata": {},
   "outputs": [
    {
     "data": {
      "text/plain": [
       "(False, False)"
      ]
     },
     "execution_count": 12,
     "metadata": {},
     "output_type": "execute_result"
    }
   ],
   "source": [
    "p1 is p3, p1 == p3"
   ]
  },
  {
   "cell_type": "code",
   "execution_count": 13,
   "metadata": {},
   "outputs": [],
   "source": [
    "p1 = Point3D(1, 2, 3)\n",
    "p2 = Point3D(1, 2, 3)\n",
    "p3 = Point3D(0, 0, 0)"
   ]
  },
  {
   "cell_type": "code",
   "execution_count": 15,
   "metadata": {},
   "outputs": [],
   "source": [
    "class Singleton(type):\n",
    "    def __call__(cls, *args, **kwargs):\n",
    "        print(f'Request received to create an instance of class: {cls}...')\n",
    "        if getattr(cls, 'existing_instance', None) is None:\n",
    "            print('Creating instance for the first time...')\n",
    "            setattr(cls, 'existing_instance', super().__call__(*args, **kwargs))\n",
    "        else:\n",
    "            print('Using existing instance...')\n",
    "        return getattr(cls, 'existing_instance')"
   ]
  },
  {
   "cell_type": "code",
   "execution_count": 16,
   "metadata": {},
   "outputs": [],
   "source": [
    "class Hundred(metaclass=Singleton):\n",
    "    value = 100"
   ]
  },
  {
   "cell_type": "code",
   "execution_count": 17,
   "metadata": {},
   "outputs": [
    {
     "name": "stdout",
     "output_type": "stream",
     "text": [
      "Request received to create an instance of class: <class '__main__.Hundred'>...\n",
      "Creating instance for the first time...\n"
     ]
    }
   ],
   "source": [
    "h1 = Hundred()"
   ]
  },
  {
   "cell_type": "code",
   "execution_count": 18,
   "metadata": {},
   "outputs": [
    {
     "name": "stdout",
     "output_type": "stream",
     "text": [
      "Request received to create an instance of class: <class '__main__.Hundred'>...\n",
      "Using existing instance...\n"
     ]
    }
   ],
   "source": [
    "h2=Hundred()"
   ]
  },
  {
   "cell_type": "markdown",
   "metadata": {},
   "source": [
    "## workin out through inheritence"
   ]
  },
  {
   "cell_type": "code",
   "execution_count": 19,
   "metadata": {},
   "outputs": [],
   "source": [
    "class Singleton(type):\n",
    "    instances = {}\n",
    "    \n",
    "    def __call__(cls, *args, **kwargs):\n",
    "        print(f'Request received to create an instance of class: {cls}...')\n",
    "        existing_instance = Singleton.instances.get(cls, None)\n",
    "        if existing_instance is None:\n",
    "            print('Creating instance for the first time...')\n",
    "            existing_instance = super().__call__(*args, **kwargs)\n",
    "            Singleton.instances[cls] = existing_instance\n",
    "        else:\n",
    "            print('Using existing instance...')\n",
    "        return existing_instance"
   ]
  },
  {
   "cell_type": "code",
   "execution_count": 20,
   "metadata": {},
   "outputs": [],
   "source": [
    "class Hundred(metaclass=Singleton):\n",
    "    value = 100\n",
    "    \n",
    "class Thousand(metaclass=Singleton):\n",
    "    value = 1000\n",
    "    \n",
    "class HundredFold(Hundred):\n",
    "    value = 100 * 100"
   ]
  },
  {
   "cell_type": "code",
   "execution_count": 21,
   "metadata": {},
   "outputs": [
    {
     "name": "stdout",
     "output_type": "stream",
     "text": [
      "Request received to create an instance of class: <class '__main__.Hundred'>...\n",
      "Creating instance for the first time...\n",
      "Request received to create an instance of class: <class '__main__.Hundred'>...\n",
      "Using existing instance...\n"
     ]
    }
   ],
   "source": [
    "h1 = Hundred()\n",
    "h2 = Hundred()"
   ]
  },
  {
   "cell_type": "code",
   "execution_count": 22,
   "metadata": {},
   "outputs": [
    {
     "name": "stdout",
     "output_type": "stream",
     "text": [
      "Request received to create an instance of class: <class '__main__.Thousand'>...\n",
      "Creating instance for the first time...\n",
      "Request received to create an instance of class: <class '__main__.Thousand'>...\n",
      "Using existing instance...\n"
     ]
    }
   ],
   "source": [
    "t1 = Thousand()\n",
    "t2 = Thousand()"
   ]
  },
  {
   "cell_type": "code",
   "execution_count": 23,
   "metadata": {},
   "outputs": [
    {
     "name": "stdout",
     "output_type": "stream",
     "text": [
      "Request received to create an instance of class: <class '__main__.HundredFold'>...\n",
      "Creating instance for the first time...\n",
      "Request received to create an instance of class: <class '__main__.HundredFold'>...\n",
      "Using existing instance...\n"
     ]
    }
   ],
   "source": [
    "hf1 = HundredFold()\n",
    "hf2 = HundredFold()"
   ]
  },
  {
   "cell_type": "code",
   "execution_count": null,
   "metadata": {},
   "outputs": [],
   "source": []
  }
 ],
 "metadata": {
  "kernelspec": {
   "display_name": "torch_aug",
   "language": "python",
   "name": "torch"
  },
  "language_info": {
   "codemirror_mode": {
    "name": "ipython",
    "version": 3
   },
   "file_extension": ".py",
   "mimetype": "text/x-python",
   "name": "python",
   "nbconvert_exporter": "python",
   "pygments_lexer": "ipython3",
   "version": "3.7.5"
  }
 },
 "nbformat": 4,
 "nbformat_minor": 2
}
