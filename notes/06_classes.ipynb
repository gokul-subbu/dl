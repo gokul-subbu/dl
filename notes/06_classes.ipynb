{
 "cells": [
  {
   "cell_type": "markdown",
   "metadata": {},
   "source": [
    "# classes"
   ]
  },
  {
   "cell_type": "code",
   "execution_count": 2,
   "metadata": {},
   "outputs": [],
   "source": [
    "class person:\n",
    "    def __init__(self, name):\n",
    "        self.name=name\n",
    "        \n",
    "p=person('narain')"
   ]
  },
  {
   "cell_type": "code",
   "execution_count": 3,
   "metadata": {},
   "outputs": [
    {
     "data": {
      "text/plain": [
       "{'name': 'narain'}"
      ]
     },
     "execution_count": 3,
     "metadata": {},
     "output_type": "execute_result"
    }
   ],
   "source": [
    "p.__dict__"
   ]
  },
  {
   "cell_type": "code",
   "execution_count": 4,
   "metadata": {},
   "outputs": [
    {
     "data": {
      "text/plain": [
       "'narain'"
      ]
     },
     "execution_count": 4,
     "metadata": {},
     "output_type": "execute_result"
    }
   ],
   "source": [
    "p.name"
   ]
  },
  {
   "cell_type": "code",
   "execution_count": 6,
   "metadata": {},
   "outputs": [
    {
     "data": {
      "text/plain": [
       "'narain'"
      ]
     },
     "execution_count": 6,
     "metadata": {},
     "output_type": "execute_result"
    }
   ],
   "source": [
    "getattr(p, 'name')"
   ]
  },
  {
   "cell_type": "code",
   "execution_count": 7,
   "metadata": {},
   "outputs": [
    {
     "data": {
      "text/plain": [
       "'jones'"
      ]
     },
     "execution_count": 7,
     "metadata": {},
     "output_type": "execute_result"
    }
   ],
   "source": [
    "setattr(p, 'name','jones')\n",
    "p.name"
   ]
  },
  {
   "cell_type": "code",
   "execution_count": 15,
   "metadata": {},
   "outputs": [],
   "source": [
    "class person:\n",
    "    'this is a person object'\n",
    "    def __init__(self, name):\n",
    "        self._name=name\n",
    "    \n",
    "    @property\n",
    "    def name(self):\n",
    "        return self._name"
   ]
  },
  {
   "cell_type": "code",
   "execution_count": 16,
   "metadata": {},
   "outputs": [
    {
     "data": {
      "text/plain": [
       "'alex'"
      ]
     },
     "execution_count": 16,
     "metadata": {},
     "output_type": "execute_result"
    }
   ],
   "source": [
    "p=person('alex')\n",
    "p.name"
   ]
  },
  {
   "cell_type": "code",
   "execution_count": 17,
   "metadata": {},
   "outputs": [],
   "source": [
    "class Person:\n",
    "    def __init__(self, name):\n",
    "        self._name = name\n",
    "        \n",
    "    @property\n",
    "    def name(self):\n",
    "        return self._name\n",
    "    \n",
    "    # what's the property name now? --> name\n",
    "    # so name has a setter callable\n",
    "    @name.setter\n",
    "    def name(self, value):\n",
    "        self._name = value"
   ]
  },
  {
   "cell_type": "markdown",
   "metadata": {},
   "source": [
    "# the property docstring is only set in the getter"
   ]
  },
  {
   "cell_type": "code",
   "execution_count": 19,
   "metadata": {},
   "outputs": [],
   "source": [
    "class Person:\n",
    "    def __init__(self, name):\n",
    "        self._name = name\n",
    "        \n",
    "    @property\n",
    "    def name(self):\n",
    "        \"\"\"The Person's name.\"\"\"\n",
    "        return self._name\n",
    "    \n",
    "    @name.setter\n",
    "    def name(self, value):\n",
    "        self._name = value"
   ]
  },
  {
   "cell_type": "code",
   "execution_count": 21,
   "metadata": {},
   "outputs": [
    {
     "name": "stdout",
     "output_type": "stream",
     "text": [
      "Help on property:\n",
      "\n",
      "    The Person's name.\n",
      "\n"
     ]
    }
   ],
   "source": [
    "help(Person.name)"
   ]
  },
  {
   "cell_type": "code",
   "execution_count": 22,
   "metadata": {},
   "outputs": [],
   "source": [
    "class Person:\n",
    "    def __init__(self, name):\n",
    "        self._name = name\n",
    "        \n",
    "    name = property(doc='Write-only name property.')\n",
    "    \n",
    "    @name.setter\n",
    "    def name(self, value):\n",
    "        self._name = value"
   ]
  },
  {
   "cell_type": "markdown",
   "metadata": {},
   "source": [
    "# read only properties"
   ]
  },
  {
   "cell_type": "code",
   "execution_count": 24,
   "metadata": {},
   "outputs": [],
   "source": [
    "from math import pi\n",
    "\n",
    "class Circle:\n",
    "    def __init__(self, radius):\n",
    "        self.radius = radius\n",
    "        \n",
    "    @property\n",
    "    def area(self):\n",
    "        print('calculating area...')\n",
    "        return pi * (self.radius ** 2)"
   ]
  },
  {
   "cell_type": "code",
   "execution_count": 25,
   "metadata": {},
   "outputs": [
    {
     "name": "stdout",
     "output_type": "stream",
     "text": [
      "calculating area...\n"
     ]
    },
    {
     "data": {
      "text/plain": [
       "3.141592653589793"
      ]
     },
     "execution_count": 25,
     "metadata": {},
     "output_type": "execute_result"
    }
   ],
   "source": [
    "c = Circle(1)\n",
    "c.area"
   ]
  },
  {
   "cell_type": "code",
   "execution_count": 26,
   "metadata": {},
   "outputs": [],
   "source": [
    "class Circle:\n",
    "    def __init__(self, radius):\n",
    "        self.radius = radius\n",
    "        self._area = None\n",
    "        \n",
    "    @property\n",
    "    def radius(self):\n",
    "        return self._radius\n",
    "    \n",
    "    @radius.setter\n",
    "    def radius(self, value):\n",
    "        # if radius value is set we invalidate our cached _area value\n",
    "        # we could make this more intelligent and see if the radius has actually changed\n",
    "        # but keeping it simple\n",
    "        self._area = None\n",
    "        # we could even add validation here, like value has to be numeric, non-negative, etc\n",
    "        self._radius = value\n",
    "        \n",
    "    @property\n",
    "    def area(self):\n",
    "        if self._area is None:\n",
    "            # value not cached - calculate it\n",
    "            print('Calculating area...')\n",
    "            self._area = pi * (self.radius ** 2)\n",
    "        return self._area"
   ]
  },
  {
   "cell_type": "code",
   "execution_count": 27,
   "metadata": {},
   "outputs": [
    {
     "name": "stdout",
     "output_type": "stream",
     "text": [
      "Calculating area...\n"
     ]
    },
    {
     "data": {
      "text/plain": [
       "3.141592653589793"
      ]
     },
     "execution_count": 27,
     "metadata": {},
     "output_type": "execute_result"
    }
   ],
   "source": [
    "c = Circle(1)\n",
    "c.area"
   ]
  },
  {
   "cell_type": "code",
   "execution_count": 28,
   "metadata": {},
   "outputs": [],
   "source": [
    "class WebPage:\n",
    "    def __init__(self, url):\n",
    "        self.url = url\n",
    "        self._page = None\n",
    "        self._load_time_secs = None\n",
    "        self._page_size = None\n",
    "        \n",
    "    @property\n",
    "    def url(self):\n",
    "        return self._url\n",
    "    \n",
    "    @url.setter\n",
    "    def url(self, value):\n",
    "        self._url = value\n",
    "        self._page = None\n",
    "        # we'll lazy load the page - i.e. we wait until some property is requested\n",
    "        \n",
    "    @property\n",
    "    def page(self):\n",
    "        if self._page is None:\n",
    "            self.download_page()\n",
    "        return self._page\n",
    "    \n",
    "    @property\n",
    "    def page_size(self):\n",
    "        if self._page is None:\n",
    "            # need to first download the page\n",
    "            self.download_page()\n",
    "        return self._page_size\n",
    "        \n",
    "    @property\n",
    "    def time_elapsed(self):\n",
    "        if self._page is None:\n",
    "            self.download_page()\n",
    "        return self._load_time_secs\n",
    "            \n",
    "    def download_page(self):\n",
    "        self._page_size = None\n",
    "        self._load_time_secs = None\n",
    "        start_time = perf_counter()\n",
    "        with urllib.request.urlopen(self.url) as f:\n",
    "            self._page = f.read()\n",
    "        end_time = perf_counter()\n",
    "        \n",
    "        self._page_size = len(self._page)\n",
    "        self._load_time_secs = end_time - start_time"
   ]
  },
  {
   "cell_type": "code",
   "execution_count": 31,
   "metadata": {},
   "outputs": [
    {
     "name": "stdout",
     "output_type": "stream",
     "text": [
      "https://www.google.com \tsize=14_466 \telapsed=0.72 secs\n",
      "https://www.python.org \tsize=48_811 \telapsed=0.41 secs\n",
      "https://www.yahoo.com \tsize=463_396 \telapsed=5.72 secs\n"
     ]
    }
   ],
   "source": [
    "from time import perf_counter\n",
    "import urllib\n",
    "\n",
    "urls = [\n",
    "    'https://www.google.com',\n",
    "    'https://www.python.org',\n",
    "    'https://www.yahoo.com'\n",
    "]\n",
    "\n",
    "for url in urls:\n",
    "    page = WebPage(url)\n",
    "    print(f'{url} \\tsize={format(page.page_size, \"_\")} \\telapsed={page.time_elapsed:.2f} secs')"
   ]
  },
  {
   "cell_type": "code",
   "execution_count": 32,
   "metadata": {},
   "outputs": [],
   "source": [
    "class Person:\n",
    "    def __init__(self, name):\n",
    "        self.name = name\n",
    "\n",
    "    @property\n",
    "    def name(self):\n",
    "        print('getting name property value...')\n",
    "        return self._name\n",
    "    \n",
    "    @name.setter\n",
    "    def name(self, value):\n",
    "        \"\"\"Person name\"\"\"\n",
    "        print(f'setting name property to {value}...')\n",
    "        self._name = value\n",
    "    \n",
    "    @name.deleter\n",
    "    def name(self):\n",
    "        # delete the underlying data\n",
    "        print('deleting name property value...')\n",
    "        del self._name"
   ]
  },
  {
   "cell_type": "markdown",
   "metadata": {},
   "source": [
    "# static methods"
   ]
  },
  {
   "cell_type": "code",
   "execution_count": 1,
   "metadata": {},
   "outputs": [],
   "source": [
    "class MyClass:\n",
    "    def hello():\n",
    "        # this IS an instance method, we just forgot to add a parameter to capture the instance\n",
    "        # when this is called from an instance - so this will fail\n",
    "        print('hello...')\n",
    "        \n",
    "    def instance_hello(arg):\n",
    "        print(f'hello from {arg}')\n",
    "        \n",
    "    @classmethod\n",
    "    def class_hello(arg):\n",
    "        print(f'hello from {arg}')"
   ]
  },
  {
   "cell_type": "code",
   "execution_count": 2,
   "metadata": {},
   "outputs": [],
   "source": [
    "m=MyClass()"
   ]
  },
  {
   "cell_type": "code",
   "execution_count": 3,
   "metadata": {},
   "outputs": [
    {
     "name": "stdout",
     "output_type": "stream",
     "text": [
      "hello...\n"
     ]
    }
   ],
   "source": [
    "MyClass.hello()"
   ]
  },
  {
   "cell_type": "code",
   "execution_count": 4,
   "metadata": {},
   "outputs": [
    {
     "name": "stdout",
     "output_type": "stream",
     "text": [
      "hello() takes 0 positional arguments but 1 was given\n"
     ]
    }
   ],
   "source": [
    "try:\n",
    "    m.hello()\n",
    "except TypeError as ex:\n",
    "    print(ex)"
   ]
  },
  {
   "cell_type": "code",
   "execution_count": 5,
   "metadata": {},
   "outputs": [
    {
     "name": "stdout",
     "output_type": "stream",
     "text": [
      "hello from <__main__.MyClass object at 0x000002273C303748>\n"
     ]
    }
   ],
   "source": [
    "m.instance_hello()"
   ]
  },
  {
   "cell_type": "code",
   "execution_count": 6,
   "metadata": {},
   "outputs": [
    {
     "name": "stdout",
     "output_type": "stream",
     "text": [
      "instance_hello() missing 1 required positional argument: 'arg'\n"
     ]
    }
   ],
   "source": [
    "try:\n",
    "    MyClass.instance_hello()\n",
    "except TypeError as ex:\n",
    "    print(ex)"
   ]
  },
  {
   "cell_type": "markdown",
   "metadata": {},
   "source": [
    "As you can see, the instance method needs to be called from the instance. If we call it from the class, no argument is passed to the function, so we end up with an exception.\n",
    "\n",
    "This is not the case with class methods - whether we call the method from the class, or the instance, that first argument will always be provided by Python, and will be the class object (not the instance).\n",
    "\n",
    "Notice how the bindings are different:"
   ]
  },
  {
   "cell_type": "code",
   "execution_count": 7,
   "metadata": {},
   "outputs": [
    {
     "data": {
      "text/plain": [
       "<bound method MyClass.class_hello of <class '__main__.MyClass'>>"
      ]
     },
     "execution_count": 7,
     "metadata": {},
     "output_type": "execute_result"
    }
   ],
   "source": [
    "MyClass.class_hello"
   ]
  },
  {
   "cell_type": "code",
   "execution_count": 8,
   "metadata": {},
   "outputs": [
    {
     "data": {
      "text/plain": [
       "<bound method MyClass.class_hello of <class '__main__.MyClass'>>"
      ]
     },
     "execution_count": 8,
     "metadata": {},
     "output_type": "execute_result"
    }
   ],
   "source": [
    "m.class_hello"
   ]
  },
  {
   "cell_type": "code",
   "execution_count": 9,
   "metadata": {},
   "outputs": [
    {
     "name": "stdout",
     "output_type": "stream",
     "text": [
      "hello from <class '__main__.MyClass'>\n"
     ]
    }
   ],
   "source": [
    "MyClass.class_hello()"
   ]
  },
  {
   "cell_type": "code",
   "execution_count": 10,
   "metadata": {},
   "outputs": [
    {
     "name": "stdout",
     "output_type": "stream",
     "text": [
      "hello from <class '__main__.MyClass'>\n"
     ]
    }
   ],
   "source": [
    "m.class_hello()"
   ]
  },
  {
   "cell_type": "markdown",
   "metadata": {},
   "source": [
    "# static methods"
   ]
  },
  {
   "cell_type": "code",
   "execution_count": 11,
   "metadata": {},
   "outputs": [],
   "source": [
    "class MyClass:\n",
    "    def instance_hello(self):\n",
    "        print(f'Instance method bound to {self}')\n",
    "        \n",
    "    @classmethod\n",
    "    def class_hello(cls):\n",
    "        print(f'Class method bound to {cls}')\n",
    "        \n",
    "    @staticmethod\n",
    "    def static_hello():\n",
    "        print('Static method not bound to anything')"
   ]
  },
  {
   "cell_type": "code",
   "execution_count": 12,
   "metadata": {},
   "outputs": [
    {
     "name": "stdout",
     "output_type": "stream",
     "text": [
      "Instance method bound to <__main__.MyClass object at 0x000002273CD58788>\n"
     ]
    }
   ],
   "source": [
    "m = MyClass()\n",
    "\n",
    "m.instance_hello()"
   ]
  },
  {
   "cell_type": "code",
   "execution_count": 13,
   "metadata": {},
   "outputs": [
    {
     "name": "stdout",
     "output_type": "stream",
     "text": [
      "Class method bound to <class '__main__.MyClass'>\n"
     ]
    }
   ],
   "source": [
    "MyClass.class_hello()"
   ]
  },
  {
   "cell_type": "code",
   "execution_count": 14,
   "metadata": {},
   "outputs": [
    {
     "name": "stdout",
     "output_type": "stream",
     "text": [
      "Class method bound to <class '__main__.MyClass'>\n"
     ]
    }
   ],
   "source": [
    "m.class_hello()"
   ]
  },
  {
   "cell_type": "code",
   "execution_count": 15,
   "metadata": {},
   "outputs": [
    {
     "data": {
      "text/plain": [
       "<function __main__.MyClass.static_hello()>"
      ]
     },
     "execution_count": 15,
     "metadata": {},
     "output_type": "execute_result"
    }
   ],
   "source": [
    "MyClass.static_hello"
   ]
  },
  {
   "cell_type": "code",
   "execution_count": 16,
   "metadata": {},
   "outputs": [
    {
     "data": {
      "text/plain": [
       "<function __main__.MyClass.static_hello()>"
      ]
     },
     "execution_count": 16,
     "metadata": {},
     "output_type": "execute_result"
    }
   ],
   "source": [
    "m.static_hello"
   ]
  },
  {
   "cell_type": "code",
   "execution_count": 17,
   "metadata": {},
   "outputs": [
    {
     "name": "stdout",
     "output_type": "stream",
     "text": [
      "Static method not bound to anything\n"
     ]
    }
   ],
   "source": [
    "MyClass.static_hello()"
   ]
  },
  {
   "cell_type": "code",
   "execution_count": 18,
   "metadata": {},
   "outputs": [
    {
     "name": "stdout",
     "output_type": "stream",
     "text": [
      "Static method not bound to anything\n"
     ]
    }
   ],
   "source": [
    "m.static_hello()"
   ]
  },
  {
   "cell_type": "code",
   "execution_count": 19,
   "metadata": {},
   "outputs": [],
   "source": [
    "from datetime import datetime, timezone, timedelta\n",
    "\n",
    "class Timer:\n",
    "    tz = timezone.utc  # class variable to store the timezone - default to UTC\n",
    "    \n",
    "    @classmethod\n",
    "    def set_tz(cls, offset, name):\n",
    "        cls.tz = timezone(timedelta(hours=offset), name)"
   ]
  },
  {
   "cell_type": "markdown",
   "metadata": {},
   "source": [
    "So `tz` is a class attribute, and we can set it using a class method `set_timezone` - any instances will share the same `tz` value (unless we override it at the instance level)"
   ]
  },
  {
   "cell_type": "code",
   "execution_count": 20,
   "metadata": {},
   "outputs": [],
   "source": [
    "Timer.set_tz(+5.30, 'MST')"
   ]
  },
  {
   "cell_type": "code",
   "execution_count": 22,
   "metadata": {},
   "outputs": [
    {
     "data": {
      "text/plain": [
       "datetime.timezone(datetime.timedelta(seconds=19080), 'MST')"
      ]
     },
     "execution_count": 22,
     "metadata": {},
     "output_type": "execute_result"
    }
   ],
   "source": [
    "Timer.tz"
   ]
  },
  {
   "cell_type": "code",
   "execution_count": 23,
   "metadata": {},
   "outputs": [],
   "source": [
    "t1 = Timer()\n",
    "t2 = Timer()"
   ]
  },
  {
   "cell_type": "code",
   "execution_count": 25,
   "metadata": {},
   "outputs": [
    {
     "data": {
      "text/plain": [
       "(datetime.timezone(datetime.timedelta(seconds=19080), 'MST'),\n",
       " datetime.timezone(datetime.timedelta(seconds=19080), 'MST'))"
      ]
     },
     "execution_count": 25,
     "metadata": {},
     "output_type": "execute_result"
    }
   ],
   "source": [
    "t1.tz, t2.tz"
   ]
  },
  {
   "cell_type": "code",
   "execution_count": 26,
   "metadata": {},
   "outputs": [],
   "source": [
    "class Timer:\n",
    "    tz = timezone.utc  # class variable to store the timezone - default to UTC\n",
    "    \n",
    "    @staticmethod\n",
    "    def current_dt_utc():\n",
    "        return datetime.now(timezone.utc)\n",
    "    \n",
    "    @classmethod\n",
    "    def set_tz(cls, offset, name):\n",
    "        cls.tz = timezone(timedelta(hours=offset), name)"
   ]
  },
  {
   "cell_type": "code",
   "execution_count": 27,
   "metadata": {},
   "outputs": [
    {
     "data": {
      "text/plain": [
       "datetime.datetime(2019, 12, 17, 8, 54, 51, 509820, tzinfo=datetime.timezone.utc)"
      ]
     },
     "execution_count": 27,
     "metadata": {},
     "output_type": "execute_result"
    }
   ],
   "source": [
    "Timer.current_dt_utc()"
   ]
  },
  {
   "cell_type": "code",
   "execution_count": 28,
   "metadata": {},
   "outputs": [
    {
     "data": {
      "text/plain": [
       "datetime.datetime(2019, 12, 17, 8, 55, 22, 51659, tzinfo=datetime.timezone.utc)"
      ]
     },
     "execution_count": 28,
     "metadata": {},
     "output_type": "execute_result"
    }
   ],
   "source": [
    "t= Timer()\n",
    "t.current_dt_utc()"
   ]
  },
  {
   "cell_type": "markdown",
   "metadata": {},
   "source": [
    "Next we want a method that will return the current time based on the set time zone. Obviously the time zone is a class variable, so we'll need to access that, but we don't need any instance data, so this is a prime candidate for a class method:"
   ]
  },
  {
   "cell_type": "code",
   "execution_count": 29,
   "metadata": {},
   "outputs": [],
   "source": [
    "class Timer:\n",
    "    tz = timezone.utc  # class variable to store the timezone - default to UTC\n",
    "    \n",
    "    @staticmethod\n",
    "    def current_dt_utc():\n",
    "        return datetime.now(timezone.utc)\n",
    "    \n",
    "    @classmethod\n",
    "    def set_tz(cls, offset, name):\n",
    "        cls.tz = timezone(timedelta(hours=offset), name)\n",
    "        \n",
    "    @classmethod\n",
    "    def current_dt(cls):\n",
    "        return datetime.now(cls.tz)"
   ]
  },
  {
   "cell_type": "code",
   "execution_count": 30,
   "metadata": {},
   "outputs": [
    {
     "data": {
      "text/plain": [
       "(datetime.datetime(2019, 12, 17, 8, 59, 48, 45984, tzinfo=datetime.timezone.utc),\n",
       " datetime.datetime(2019, 12, 17, 8, 59, 48, 45984, tzinfo=datetime.timezone.utc))"
      ]
     },
     "execution_count": 30,
     "metadata": {},
     "output_type": "execute_result"
    }
   ],
   "source": [
    "Timer.current_dt_utc(), Timer.current_dt()"
   ]
  },
  {
   "cell_type": "code",
   "execution_count": 31,
   "metadata": {},
   "outputs": [
    {
     "data": {
      "text/plain": [
       "(datetime.datetime(2019, 12, 17, 9, 4, 59, 560767, tzinfo=datetime.timezone.utc),\n",
       " datetime.datetime(2019, 12, 17, 9, 4, 59, 560767, tzinfo=datetime.timezone.utc))"
      ]
     },
     "execution_count": 31,
     "metadata": {},
     "output_type": "execute_result"
    }
   ],
   "source": [
    "t1=Timer()\n",
    "t1.current_dt_utc(), t1.current_dt()"
   ]
  },
  {
   "cell_type": "code",
   "execution_count": 32,
   "metadata": {},
   "outputs": [
    {
     "data": {
      "text/plain": [
       "datetime.datetime(2019, 12, 17, 9, 13, 47, 691446, tzinfo=datetime.timezone.utc)"
      ]
     },
     "execution_count": 32,
     "metadata": {},
     "output_type": "execute_result"
    }
   ],
   "source": [
    "t2 = Timer()\n",
    "t2.current_dt()"
   ]
  },
  {
   "cell_type": "code",
   "execution_count": 34,
   "metadata": {},
   "outputs": [],
   "source": [
    "t2.set_tz(-7, 'MST')"
   ]
  },
  {
   "cell_type": "code",
   "execution_count": 35,
   "metadata": {},
   "outputs": [
    {
     "data": {
      "text/plain": [
       "(datetime.datetime(2019, 12, 17, 9, 14, 23, 111886, tzinfo=datetime.timezone.utc),\n",
       " datetime.datetime(2019, 12, 17, 2, 14, 23, 111886, tzinfo=datetime.timezone(datetime.timedelta(days=-1, seconds=61200), 'MST')),\n",
       " datetime.datetime(2019, 12, 17, 2, 14, 23, 111886, tzinfo=datetime.timezone(datetime.timedelta(days=-1, seconds=61200), 'MST')),\n",
       " datetime.datetime(2019, 12, 17, 2, 14, 23, 111886, tzinfo=datetime.timezone(datetime.timedelta(days=-1, seconds=61200), 'MST')))"
      ]
     },
     "execution_count": 35,
     "metadata": {},
     "output_type": "execute_result"
    }
   ],
   "source": [
    "Timer.current_dt_utc(), Timer.current_dt(), t1.current_dt(), t2.current_dt()"
   ]
  },
  {
   "cell_type": "code",
   "execution_count": 36,
   "metadata": {},
   "outputs": [],
   "source": [
    "class TimerError(Exception):\n",
    "    \"\"\"A custom exception used for Timer class\"\"\"\n",
    "    # (since \"\"\"...\"\"\" is a statement, we don't need to pass)\n",
    "    \n",
    "class Timer:\n",
    "    tz = timezone.utc  # class variable to store the timezone - default to UTC\n",
    "    \n",
    "    def __init__(self):\n",
    "        # use these instance variables to keep track of start/end times\n",
    "        self._time_start = None\n",
    "        self._time_end = None\n",
    "        \n",
    "    @staticmethod\n",
    "    def current_dt_utc():\n",
    "        \"\"\"Returns non-naive current UTC\"\"\"\n",
    "        return datetime.now(timezone.utc)\n",
    "    \n",
    "    @classmethod\n",
    "    def set_tz(cls, offset, name):\n",
    "        cls.tz = timezone(timedelta(hours=offset), name)\n",
    "        \n",
    "    @classmethod\n",
    "    def current_dt(cls):\n",
    "        return datetime.now(cls.tz)\n",
    "    \n",
    "    def start(self):\n",
    "        # internally we always non-naive UTC\n",
    "        self._time_start = self.current_dt_utc()\n",
    "        self._time_end = None\n",
    "        \n",
    "    def stop(self):\n",
    "        if self._time_start is None:\n",
    "            # cannot stop if timer was not started!\n",
    "            raise TimerError('Timer must be started before it can be stopped.')\n",
    "        self._time_end = self.current_dt_utc()\n",
    "        \n",
    "    @property\n",
    "    def start_time(self):\n",
    "        if self._time_start is None:\n",
    "            raise TimerError('Timer has not been started.')\n",
    "        # since tz is a class variable, we can just as easily access it from self\n",
    "        return self._time_start.astimezone(self.tz)  \n",
    "        \n",
    "    @property\n",
    "    def end_time(self):\n",
    "        if self._time_end is None:\n",
    "            raise TimerError('Timer has not been stopped.')\n",
    "        return self._time_end.astimezone(self.tz)\n",
    "    \n",
    "    @property\n",
    "    def elapsed(self):\n",
    "        if self._time_start is None:\n",
    "            raise TimerError('Timer must be started before an elapsed time is available')\n",
    "            \n",
    "        if self._time_end is None:\n",
    "            # timer has not ben stopped, calculate elapsed between start and now\n",
    "            elapsed_time = self.current_dt_utc() - self._time_start\n",
    "        else:\n",
    "            # timer has been stopped, calculate elapsed between start and end\n",
    "            elapsed_time = self._time_end - self._time_start\n",
    "            \n",
    "        return elapsed_time.total_seconds()"
   ]
  },
  {
   "cell_type": "code",
   "execution_count": 37,
   "metadata": {},
   "outputs": [
    {
     "name": "stdout",
     "output_type": "stream",
     "text": [
      "Start time: 2019-12-17 09:24:42.408961+00:00\n",
      "End time: 2019-12-17 09:24:44.411074+00:00\n",
      "Elapsed: 2.002113 seconds\n"
     ]
    }
   ],
   "source": [
    "from time import sleep\n",
    "\n",
    "t1 = Timer()\n",
    "t1.start()\n",
    "sleep(2)\n",
    "t1.stop()\n",
    "print(f'Start time: {t1.start_time}')\n",
    "print(f'End time: {t1.end_time}')\n",
    "print(f'Elapsed: {t1.elapsed} seconds')"
   ]
  },
  {
   "cell_type": "code",
   "execution_count": 38,
   "metadata": {},
   "outputs": [
    {
     "name": "stdout",
     "output_type": "stream",
     "text": [
      "Start time: 2019-12-17 09:24:57.164129+00:00\n",
      "End time: 2019-12-17 09:25:00.164826+00:00\n",
      "Elapsed: 3.000697 seconds\n"
     ]
    }
   ],
   "source": [
    "t2 = Timer()\n",
    "t2.start()\n",
    "sleep(3)\n",
    "t2.stop()\n",
    "print(f'Start time: {t2.start_time}')\n",
    "print(f'End time: {t2.end_time}')\n",
    "print(f'Elapsed: {t2.elapsed} seconds')"
   ]
  },
  {
   "cell_type": "code",
   "execution_count": 39,
   "metadata": {},
   "outputs": [],
   "source": [
    "Timer.set_tz(-7, 'MST')"
   ]
  },
  {
   "cell_type": "code",
   "execution_count": 40,
   "metadata": {},
   "outputs": [
    {
     "name": "stdout",
     "output_type": "stream",
     "text": [
      "Start time: 2019-12-17 02:24:42.408961-07:00\n",
      "End time: 2019-12-17 02:24:44.411074-07:00\n",
      "Elapsed: 2.002113 seconds\n"
     ]
    }
   ],
   "source": [
    "print(f'Start time: {t1.start_time}')\n",
    "print(f'End time: {t1.end_time}')\n",
    "print(f'Elapsed: {t1.elapsed} seconds')"
   ]
  },
  {
   "cell_type": "code",
   "execution_count": 41,
   "metadata": {},
   "outputs": [
    {
     "name": "stdout",
     "output_type": "stream",
     "text": [
      "Start time: 2019-12-17 02:24:57.164129-07:00\n",
      "End time: 2019-12-17 02:25:00.164826-07:00\n",
      "Elapsed: 3.000697 seconds\n"
     ]
    }
   ],
   "source": [
    "print(f'Start time: {t2.start_time}')\n",
    "print(f'End time: {t2.end_time}')\n",
    "print(f'Elapsed: {t2.elapsed} seconds')"
   ]
  },
  {
   "cell_type": "markdown",
   "metadata": {},
   "source": [
    "# class body scope"
   ]
  },
  {
   "cell_type": "code",
   "execution_count": 42,
   "metadata": {},
   "outputs": [],
   "source": [
    "class Language:\n",
    "    MAJOR = 3\n",
    "    MINOR = 7\n",
    "    REVISION = 4\n",
    "    \n",
    "    @property\n",
    "    def version(self):\n",
    "        return '{}.{}.{}'.format(self.MAJOR, self.MINOR, self.REVISION)\n",
    "    \n",
    "    @classmethod\n",
    "    def cls_version(cls):\n",
    "        return '{}.{}.{}'.format(cls.MAJOR, cls.MINOR, cls.REVISION)\n",
    "    \n",
    "    @staticmethod\n",
    "    def static_version():\n",
    "        return '{}.{}.{}'.format(Language.MAJOR, Language.MINOR, Language.REVISION)"
   ]
  },
  {
   "cell_type": "code",
   "execution_count": 43,
   "metadata": {},
   "outputs": [
    {
     "data": {
      "text/plain": [
       "'3.7.4'"
      ]
     },
     "execution_count": 43,
     "metadata": {},
     "output_type": "execute_result"
    }
   ],
   "source": [
    "l = Language()\n",
    "l.version"
   ]
  },
  {
   "cell_type": "code",
   "execution_count": 44,
   "metadata": {},
   "outputs": [
    {
     "data": {
      "text/plain": [
       "'3.7.4'"
      ]
     },
     "execution_count": 44,
     "metadata": {},
     "output_type": "execute_result"
    }
   ],
   "source": [
    "Language.cls_version()"
   ]
  },
  {
   "cell_type": "code",
   "execution_count": 45,
   "metadata": {},
   "outputs": [
    {
     "data": {
      "text/plain": [
       "'3.7.4'"
      ]
     },
     "execution_count": 45,
     "metadata": {},
     "output_type": "execute_result"
    }
   ],
   "source": [
    "Language.static_version()"
   ]
  },
  {
   "cell_type": "code",
   "execution_count": 46,
   "metadata": {},
   "outputs": [],
   "source": [
    "def full_version():\n",
    " return '{}.{}.{}'.format(Language.MAJOR, Language.MINOR, Language.REVISION)"
   ]
  },
  {
   "cell_type": "code",
   "execution_count": 48,
   "metadata": {},
   "outputs": [
    {
     "data": {
      "text/plain": [
       "'3.7.4'"
      ]
     },
     "execution_count": 48,
     "metadata": {},
     "output_type": "execute_result"
    }
   ],
   "source": [
    "full_version()"
   ]
  },
  {
   "cell_type": "markdown",
   "metadata": {},
   "source": [
    "# arithmetic operators"
   ]
  },
  {
   "cell_type": "code",
   "execution_count": 50,
   "metadata": {},
   "outputs": [],
   "source": [
    "from numbers import Real\n",
    "from math import sqrt\n",
    "\n",
    "class Vector:\n",
    "    def __init__(self, *components):\n",
    "        # validate number of components is at least one, and all of them are real numbers\n",
    "        if len(components) < 1:\n",
    "            raise ValueError('Cannot create an empty Vector.')\n",
    "        for component in components:\n",
    "            if not isinstance(component, Real):\n",
    "                raise ValueError(f'Vector components must all be real numbers - {component} is invalid.')\n",
    "        \n",
    "        # use immutable storage for vector\n",
    "        self._components = tuple(components)\n",
    "        \n",
    "    def __len__(self):\n",
    "        return len(self._components)\n",
    "        \n",
    "    @property\n",
    "    def components(self):\n",
    "        return self._components\n",
    "    \n",
    "    def __repr__(self):\n",
    "        # works - but unwieldy for high dimension vectors\n",
    "        return f'Vector{self._components}'\n",
    "    \n",
    "    def validate_type_and_dimension(self, v):\n",
    "        return isinstance(v, Vector) and len(v) == len(self)\n",
    "            \n",
    "    def __add__(self, other):\n",
    "        if not self.validate_type_and_dimension(other):\n",
    "            return NotImplemented\n",
    "        components = (x + y for x, y in zip(self.components, other.components))\n",
    "        return Vector(*components)\n",
    "            \n",
    "    def __sub__(self, other):\n",
    "        if not self.validate_type_and_dimension(other):\n",
    "            return NotImplemented\n",
    "        components = (x - y for x, y in zip(self.components, other.components))\n",
    "        return Vector(*components)\n",
    "    \n",
    "    def __mul__(self, other):\n",
    "        print('__mul__ called...')\n",
    "        if isinstance(other, Real):\n",
    "            components = (other * x for x in self.components)\n",
    "            return Vector(*components)\n",
    "        if self.validate_type_and_dimension(other):\n",
    "            # dot product\n",
    "            components = (x * y for x, y in zip(self.components, other.components))\n",
    "            return sum(components)\n",
    "        return NotImplemented\n",
    "    \n",
    "    def __rmul__(self, other):\n",
    "        print('__rmul__ called...')\n",
    "        # for us, multiplication is commutative, so we can leverage our existing __mul__ method\n",
    "        return self * other\n",
    "    \n",
    "    def __iadd__(self, other):\n",
    "        print('__radd__ called...')\n",
    "        if self.validate_type_and_dimension(other):\n",
    "            components = (x + y for x, y in zip(self.components, other.components))\n",
    "            self._components = tuple(components)  # mutating our Vector object\n",
    "            return self # don't forget to return the result of the operation!\n",
    "        return NotImplemented\n",
    "        \n",
    "    def __neg__(self):\n",
    "        print('__neg__ called...')\n",
    "        components = (-x for x in self.components)\n",
    "        return Vector(*components)\n",
    "    \n",
    "    def __abs__(self):\n",
    "        print('__abs__ called...')\n",
    "        return sqrt(sum(x ** 2 for x in self.components))"
   ]
  },
  {
   "cell_type": "markdown",
   "metadata": {},
   "source": [
    "## 'Complete callables ****'"
   ]
  },
  {
   "cell_type": "code",
   "execution_count": null,
   "metadata": {},
   "outputs": [],
   "source": []
  }
 ],
 "metadata": {
  "kernelspec": {
   "display_name": "torch_aug",
   "language": "python",
   "name": "torch"
  },
  "language_info": {
   "codemirror_mode": {
    "name": "ipython",
    "version": 3
   },
   "file_extension": ".py",
   "mimetype": "text/x-python",
   "name": "python",
   "nbconvert_exporter": "python",
   "pygments_lexer": "ipython3",
   "version": "3.7.5"
  }
 },
 "nbformat": 4,
 "nbformat_minor": 2
}
