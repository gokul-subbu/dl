{
 "cells": [
  {
   "cell_type": "code",
   "execution_count": 7,
   "metadata": {},
   "outputs": [],
   "source": [
    "import pandas as pd\n",
    "import numpy as np\n",
    "from pathlib import Path\n",
    "import subprocess\n",
    "Path.ls = lambda x: list(x.iterdir())"
   ]
  },
  {
   "cell_type": "code",
   "execution_count": 5,
   "metadata": {},
   "outputs": [
    {
     "data": {
      "text/plain": [
       "[WindowsPath('D:/datasets/ashrae/building_metadata.csv'),\n",
       " WindowsPath('D:/datasets/ashrae/sample_submission.csv'),\n",
       " WindowsPath('D:/datasets/ashrae/test.csv'),\n",
       " WindowsPath('D:/datasets/ashrae/train.csv'),\n",
       " WindowsPath('D:/datasets/ashrae/weather_test.csv'),\n",
       " WindowsPath('D:/datasets/ashrae/weather_train.csv')]"
      ]
     },
     "execution_count": 5,
     "metadata": {},
     "output_type": "execute_result"
    }
   ],
   "source": [
    "path_datasets=Path(r'D:\\datasets\\ashrae')\n",
    "path_datasets.ls()"
   ]
  },
  {
   "cell_type": "code",
   "execution_count": 15,
   "metadata": {},
   "outputs": [],
   "source": [
    "df_train = pd.read_csv(files[3])\n",
    "df_train_weather = pd.read_csv(files[5])\n",
    "df_test = pd.read_csv(files[2])\n",
    "df_test_weather = pd.read_csv(files[4])\n",
    "df_building = pd.read_csv(files[0])"
   ]
  },
  {
   "cell_type": "code",
   "execution_count": null,
   "metadata": {},
   "outputs": [],
   "source": []
  }
 ],
 "metadata": {
  "kernelspec": {
   "display_name": "python (ML)",
   "language": "python",
   "name": "ml"
  },
  "language_info": {
   "codemirror_mode": {
    "name": "ipython",
    "version": 3
   },
   "file_extension": ".py",
   "mimetype": "text/x-python",
   "name": "python",
   "nbconvert_exporter": "python",
   "pygments_lexer": "ipython3",
   "version": "3.7.5"
  }
 },
 "nbformat": 4,
 "nbformat_minor": 2
}
