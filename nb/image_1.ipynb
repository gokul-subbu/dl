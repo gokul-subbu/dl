{
 "cells": [
  {
   "cell_type": "code",
   "execution_count": 2,
   "metadata": {},
   "outputs": [],
   "source": [
    "from PIL import Image\n",
    "from skimage import feature"
   ]
  },
  {
   "cell_type": "code",
   "execution_count": 14,
   "metadata": {},
   "outputs": [],
   "source": [
    "from pathlib import Path\n",
    "import numpy as np\n",
    "import matplotlib.pyplot as plt\n",
    "\n",
    "Path.ls=lambda x: list(x.iterdir())"
   ]
  },
  {
   "cell_type": "code",
   "execution_count": 7,
   "metadata": {},
   "outputs": [],
   "source": [
    "path=Path('e:\\images')"
   ]
  },
  {
   "cell_type": "code",
   "execution_count": 8,
   "metadata": {},
   "outputs": [
    {
     "data": {
      "text/plain": [
       "[WindowsPath('e:/images/02-S-Mutlu-Hair-Study-Portrait-Drawings-www-designstack-co.jpg'),\n",
       " WindowsPath('e:/images/4ea58fa7db7bbebbe8a9cf550b8067f5.jpg'),\n",
       " WindowsPath('e:/images/50119012_286884595327721_307038324404949527_n.jpg'),\n",
       " WindowsPath('e:/images/6-1.jpg'),\n",
       " WindowsPath('e:/images/629dfd10b0cbb678824e1e6e698f72b6.jpg'),\n",
       " WindowsPath('e:/images/69094983_159673485183943_4783301729010977272_n.jpg'),\n",
       " WindowsPath('e:/images/70859806_151128492794469_5032552349258220526_n.jpg'),\n",
       " WindowsPath('e:/images/70943276_193778021637319_5327184051027661019_n.jpg'),\n",
       " WindowsPath('e:/images/71045705_2356026748045467_4281355158880551922_n.jpg'),\n",
       " WindowsPath('e:/images/71196550_2373506689352025_670030776325852846_n.jpg'),\n",
       " WindowsPath('e:/images/713fb738ad9cdb8be176f62b31f1b9a6.jpg'),\n",
       " WindowsPath('e:/images/73082566_569407567167034_8587791412540795707_n.jpg'),\n",
       " WindowsPath('e:/images/779b3b6049ec51995d45c0fab1b8f4df.jpg'),\n",
       " WindowsPath('e:/images/82d33ca5f6e4f0b0ecb019423e883973.jpg'),\n",
       " WindowsPath('e:/images/84575eed3e7806b99688a030a024ed18.jpg'),\n",
       " WindowsPath('e:/images/b5c101ea227d320f9c588ff852f32492.jpg'),\n",
       " WindowsPath('e:/images/charlie-039-s-angels-7680x4320-charlies-angels-naomi-scott-elena-houghlin-4k-8k-18972.jpg'),\n",
       " WindowsPath('e:/images/gxh1q4kd2od31.jpg'),\n",
       " WindowsPath('e:/images/holy.png'),\n",
       " WindowsPath('e:/images/janhvi-kapoor-3600x2237-bollywood-actress-4k-19027.jpg'),\n",
       " WindowsPath('e:/images/janhvi-kapoor-3840x2600-bollywood-actress-4k-19008.jpg'),\n",
       " WindowsPath('e:/images/New folder'),\n",
       " WindowsPath('e:/images/original (1).jpg'),\n",
       " WindowsPath('e:/images/original (2).jpg'),\n",
       " WindowsPath('e:/images/original.jpg'),\n",
       " WindowsPath('e:/images/Personal-Work-Pin-Blogger-bleistiftzeichnungen-notitle.jpg'),\n",
       " WindowsPath('e:/images/tumblr_ppp2whLODQ1s2gtru_1280.jpg'),\n",
       " WindowsPath('e:/images/wallpaper')]"
      ]
     },
     "execution_count": 8,
     "metadata": {},
     "output_type": "execute_result"
    }
   ],
   "source": [
    "path.ls()"
   ]
  },
  {
   "cell_type": "code",
   "execution_count": 9,
   "metadata": {},
   "outputs": [],
   "source": [
    "path_img=path.joinpath('holy.png')"
   ]
  },
  {
   "cell_type": "code",
   "execution_count": 13,
   "metadata": {},
   "outputs": [],
   "source": [
    "img_arr = np.array(Image.open(path_img), dtype=np.uint8)"
   ]
  },
  {
   "cell_type": "code",
   "execution_count": 54,
   "metadata": {},
   "outputs": [],
   "source": [
    "from skimage.color import rgb2gray\n",
    "img_gray = rgb2gray(img_arr)\n",
    "edges1 = feature.canny(img_gray, sigma=3, low_threshold=0.05, high_threshold=0.2)"
   ]
  },
  {
   "cell_type": "code",
   "execution_count": 55,
   "metadata": {},
   "outputs": [
    {
     "data": {
      "text/plain": [
       "<matplotlib.image.AxesImage at 0x2adc46794e0>"
      ]
     },
     "execution_count": 55,
     "metadata": {},
     "output_type": "execute_result"
    },
    {
     "data": {
      "image/png": "[encoded data removed]",
      "text/plain": [
       "<Figure size 432x288 with 1 Axes>"
      ]
     },
     "metadata": {
      "needs_background": "light"
     },
     "output_type": "display_data"
    }
   ],
   "source": [
    "plt.imshow(edges1)"
   ]
  },
  {
   "cell_type": "code",
   "execution_count": null,
   "metadata": {},
   "outputs": [],
   "source": []
  }
 ],
 "metadata": {
  "kernelspec": {
   "display_name": "Python 3",
   "language": "python",
   "name": "python3"
  },
  "language_info": {
   "codemirror_mode": {
    "name": "ipython",
    "version": 3
   },
   "file_extension": ".py",
   "mimetype": "text/x-python",
   "name": "python",
   "nbconvert_exporter": "python",
   "pygments_lexer": "ipython3",
   "version": "3.7.3"
  }
 },
 "nbformat": 4,
 "nbformat_minor": 2
}
