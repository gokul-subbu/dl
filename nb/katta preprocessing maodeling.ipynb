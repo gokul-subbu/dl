{
 "cells": [
  {
   "cell_type": "code",
   "execution_count": 1,
   "metadata": {},
   "outputs": [],
   "source": [
    "%load_ext autoreload\n",
    "%autoreload 2\n",
    "\n",
    "%matplotlib inline"
   ]
  },
  {
   "cell_type": "code",
   "execution_count": 2,
   "metadata": {},
   "outputs": [],
   "source": [
    "import pandas as pd\n",
    "import numpy as np\n",
    "import matplotlib.pyplot as plt"
   ]
  },
  {
   "cell_type": "code",
   "execution_count": 5,
   "metadata": {},
   "outputs": [
    {
     "data": {
      "text/plain": [
       "[WindowsPath('d:/datasets/small_datasets/katta/data_casestudy.xlsx'),\n",
       " WindowsPath('d:/datasets/small_datasets/katta/df_1.csv'),\n",
       " WindowsPath('d:/datasets/small_datasets/katta/Odometer & Registration Year Data.xlsx')]"
      ]
     },
     "execution_count": 5,
     "metadata": {},
     "output_type": "execute_result"
    }
   ],
   "source": [
    "from pathlib import Path\n",
    "\n",
    "path_dataset=Path(r'd:\\datasets\\small_datasets\\katta')\n",
    "list(path_dataset.iterdir())"
   ]
  },
  {
   "cell_type": "code",
   "execution_count": 8,
   "metadata": {},
   "outputs": [
    {
     "data": {
      "text/html": [
       "<div>\n",
       "<style scoped>\n",
       "    .dataframe tbody tr th:only-of-type {\n",
       "        vertical-align: middle;\n",
       "    }\n",
       "\n",
       "    .dataframe tbody tr th {\n",
       "        vertical-align: top;\n",
       "    }\n",
       "\n",
       "    .dataframe thead th {\n",
       "        text-align: right;\n",
       "    }\n",
       "</style>\n",
       "<table border=\"1\" class=\"dataframe\">\n",
       "  <thead>\n",
       "    <tr style=\"text-align: right;\">\n",
       "      <th></th>\n",
       "      <th>lead_id</th>\n",
       "      <th>make</th>\n",
       "      <th>model</th>\n",
       "      <th>variant</th>\n",
       "      <th>HVB</th>\n",
       "      <th>totalRFC_summary</th>\n",
       "      <th>acCoolingIsNormal_airConditioning</th>\n",
       "      <th>acFanAndCompressorNoiseIsNormal_airConditioning</th>\n",
       "      <th>autoClimateControl_airConditioning</th>\n",
       "      <th>heaterOperationIsNormalAndEffective_airConditioning</th>\n",
       "      <th>...</th>\n",
       "      <th>number_of_dealers</th>\n",
       "      <th>rating_accessoriesFeatures</th>\n",
       "      <th>rating_airConditioning</th>\n",
       "      <th>rating_electricalsInterior</th>\n",
       "      <th>rating_engineTransmission</th>\n",
       "      <th>rating_exteriorTyres</th>\n",
       "      <th>rating_steeringSuspensionBrakes</th>\n",
       "      <th>number_of_dealers.1</th>\n",
       "      <th>year</th>\n",
       "      <th>odometer</th>\n",
       "    </tr>\n",
       "  </thead>\n",
       "  <tbody>\n",
       "    <tr>\n",
       "      <th>0</th>\n",
       "      <td>1000000199</td>\n",
       "      <td>HONDA</td>\n",
       "      <td>CIVIC</td>\n",
       "      <td>1.8V AT</td>\n",
       "      <td>160000</td>\n",
       "      <td>39500</td>\n",
       "      <td>Yes</td>\n",
       "      <td>No</td>\n",
       "      <td>Yes</td>\n",
       "      <td>Yes</td>\n",
       "      <td>...</td>\n",
       "      <td>4</td>\n",
       "      <td>5</td>\n",
       "      <td>3</td>\n",
       "      <td>3</td>\n",
       "      <td>4</td>\n",
       "      <td>3</td>\n",
       "      <td>3</td>\n",
       "      <td>4</td>\n",
       "      <td>2008.0</td>\n",
       "      <td>56749.0</td>\n",
       "    </tr>\n",
       "    <tr>\n",
       "      <th>1</th>\n",
       "      <td>1000000494</td>\n",
       "      <td>MARUTI SUZUKI</td>\n",
       "      <td>RITZ</td>\n",
       "      <td>LXI BS IV</td>\n",
       "      <td>130000</td>\n",
       "      <td>27500</td>\n",
       "      <td>Yes</td>\n",
       "      <td>Yes</td>\n",
       "      <td>NaN</td>\n",
       "      <td>Yes</td>\n",
       "      <td>...</td>\n",
       "      <td>4</td>\n",
       "      <td>5</td>\n",
       "      <td>5</td>\n",
       "      <td>4</td>\n",
       "      <td>5</td>\n",
       "      <td>2</td>\n",
       "      <td>4</td>\n",
       "      <td>4</td>\n",
       "      <td>2010.0</td>\n",
       "      <td>84215.0</td>\n",
       "    </tr>\n",
       "    <tr>\n",
       "      <th>2</th>\n",
       "      <td>1000000593</td>\n",
       "      <td>HYUNDAI</td>\n",
       "      <td>EON</td>\n",
       "      <td>MAGNA PLUS</td>\n",
       "      <td>199000</td>\n",
       "      <td>28000</td>\n",
       "      <td>Yes</td>\n",
       "      <td>Yes</td>\n",
       "      <td>NaN</td>\n",
       "      <td>Yes</td>\n",
       "      <td>...</td>\n",
       "      <td>6</td>\n",
       "      <td>5</td>\n",
       "      <td>5</td>\n",
       "      <td>4</td>\n",
       "      <td>4</td>\n",
       "      <td>3</td>\n",
       "      <td>4</td>\n",
       "      <td>6</td>\n",
       "      <td>2015.0</td>\n",
       "      <td>34794.0</td>\n",
       "    </tr>\n",
       "    <tr>\n",
       "      <th>3</th>\n",
       "      <td>1000000794</td>\n",
       "      <td>FORD</td>\n",
       "      <td>FIGO</td>\n",
       "      <td>ZXI DURATEC 1.2</td>\n",
       "      <td>104000</td>\n",
       "      <td>27200</td>\n",
       "      <td>No</td>\n",
       "      <td>Yes</td>\n",
       "      <td>NaN</td>\n",
       "      <td>Yes</td>\n",
       "      <td>...</td>\n",
       "      <td>3</td>\n",
       "      <td>5</td>\n",
       "      <td>3</td>\n",
       "      <td>3</td>\n",
       "      <td>3</td>\n",
       "      <td>3</td>\n",
       "      <td>3</td>\n",
       "      <td>3</td>\n",
       "      <td>2010.0</td>\n",
       "      <td>72326.0</td>\n",
       "    </tr>\n",
       "    <tr>\n",
       "      <th>4</th>\n",
       "      <td>1000002298</td>\n",
       "      <td>HYUNDAI</td>\n",
       "      <td>VERNA</td>\n",
       "      <td>FLUIDIC 1.6 EX CRDI</td>\n",
       "      <td>412000</td>\n",
       "      <td>47500</td>\n",
       "      <td>Yes</td>\n",
       "      <td>Yes</td>\n",
       "      <td>Yes</td>\n",
       "      <td>Yes</td>\n",
       "      <td>...</td>\n",
       "      <td>12</td>\n",
       "      <td>5</td>\n",
       "      <td>5</td>\n",
       "      <td>4</td>\n",
       "      <td>3</td>\n",
       "      <td>3</td>\n",
       "      <td>4</td>\n",
       "      <td>12</td>\n",
       "      <td>2012.0</td>\n",
       "      <td>76961.0</td>\n",
       "    </tr>\n",
       "  </tbody>\n",
       "</table>\n",
       "<p>5 rows × 49 columns</p>\n",
       "</div>"
      ],
      "text/plain": [
       "      lead_id           make  model              variant     HVB  \\\n",
       "0  1000000199          HONDA  CIVIC              1.8V AT  160000   \n",
       "1  1000000494  MARUTI SUZUKI   RITZ            LXI BS IV  130000   \n",
       "2  1000000593        HYUNDAI    EON           MAGNA PLUS  199000   \n",
       "3  1000000794           FORD   FIGO      ZXI DURATEC 1.2  104000   \n",
       "4  1000002298        HYUNDAI  VERNA  FLUIDIC 1.6 EX CRDI  412000   \n",
       "\n",
       "   totalRFC_summary acCoolingIsNormal_airConditioning  \\\n",
       "0             39500                               Yes   \n",
       "1             27500                               Yes   \n",
       "2             28000                               Yes   \n",
       "3             27200                                No   \n",
       "4             47500                               Yes   \n",
       "\n",
       "  acFanAndCompressorNoiseIsNormal_airConditioning  \\\n",
       "0                                              No   \n",
       "1                                             Yes   \n",
       "2                                             Yes   \n",
       "3                                             Yes   \n",
       "4                                             Yes   \n",
       "\n",
       "  autoClimateControl_airConditioning  \\\n",
       "0                                Yes   \n",
       "1                                NaN   \n",
       "2                                NaN   \n",
       "3                                NaN   \n",
       "4                                Yes   \n",
       "\n",
       "  heaterOperationIsNormalAndEffective_airConditioning  ... number_of_dealers  \\\n",
       "0                                                Yes   ...                 4   \n",
       "1                                                Yes   ...                 4   \n",
       "2                                                Yes   ...                 6   \n",
       "3                                                Yes   ...                 3   \n",
       "4                                                Yes   ...                12   \n",
       "\n",
       "  rating_accessoriesFeatures rating_airConditioning  \\\n",
       "0                          5                      3   \n",
       "1                          5                      5   \n",
       "2                          5                      5   \n",
       "3                          5                      3   \n",
       "4                          5                      5   \n",
       "\n",
       "  rating_electricalsInterior rating_engineTransmission rating_exteriorTyres  \\\n",
       "0                          3                         4                    3   \n",
       "1                          4                         5                    2   \n",
       "2                          4                         4                    3   \n",
       "3                          3                         3                    3   \n",
       "4                          4                         3                    3   \n",
       "\n",
       "  rating_steeringSuspensionBrakes number_of_dealers.1    year odometer  \n",
       "0                               3                   4  2008.0  56749.0  \n",
       "1                               4                   4  2010.0  84215.0  \n",
       "2                               4                   6  2015.0  34794.0  \n",
       "3                               3                   3  2010.0  72326.0  \n",
       "4                               4                  12  2012.0  76961.0  \n",
       "\n",
       "[5 rows x 49 columns]"
      ]
     },
     "execution_count": 8,
     "metadata": {},
     "output_type": "execute_result"
    }
   ],
   "source": [
    "df1=pd.read_csv(list(path_dataset.iterdir())[1], index_col=0)\n",
    "df1.head()"
   ]
  },
  {
   "cell_type": "code",
   "execution_count": 44,
   "metadata": {},
   "outputs": [
    {
     "data": {
      "text/plain": [
       "lead_id                                                     0.000000\n",
       "make                                                        0.000000\n",
       "model                                                       0.000000\n",
       "variant                                                     0.000000\n",
       "HVB                                                         0.000000\n",
       "totalRFC_summary                                            0.000000\n",
       "acCoolingIsNormal_airConditioning                           0.006123\n",
       "acFanAndCompressorNoiseIsNormal_airConditioning             0.006095\n",
       "autoClimateControl_airConditioning                          0.760638\n",
       "heaterOperationIsNormalAndEffective_airConditioning         0.009624\n",
       "interstateNocIssued_documentDetails                         0.000000\n",
       "isUnderHypothecation_documentDetails                        0.000000\n",
       "roadTaxPaidInterstate_documentDetails                       0.000000\n",
       "toBeScrapped_documentDetails                                0.000000\n",
       "allDisplayLightsIsWorkingProperly_electricalsInterior       0.000000\n",
       "doorFunctionsProperly_electricalsInterior                   0.000000\n",
       "musicSystemWorksFine_electricalsInterior                    0.041658\n",
       "powerWindowWorkingProperly_electricalsInterior              0.108349\n",
       "reverseCameraParkingSensor_electricalsInterior              0.694755\n",
       "batteryPerformanceSatisfactory_engineTransmission           0.000000\n",
       "clutchOperatesSmoothlyWithoutSlipping_engineTransmission    0.021148\n",
       "coolant_engineTransmission                                  0.000000\n",
       "engineExcessiveBlowByOrBack_engineTransmission              0.000000\n",
       "engineExhaustSmoke_engineTransmission                       0.000000\n",
       "engineOil_engineTransmission                                0.000000\n",
       "engineSoundIsNormal_engineTransmission                      0.000000\n",
       "gearShiftingWorksProperly_engineTransmission                0.000000\n",
       "bonnet_exteriorTyres                                        0.000000\n",
       "bothOutsideRearViewMirrorsAreOk_exteriorTyres               0.000000\n",
       "isChassisPlateAvailable_exteriorTyres                       0.000000\n",
       "lhsApron_exteriorTyres                                      0.000000\n",
       "lhsFrontDoor_exteriorTyres                                  0.000000\n",
       "lhsRearDoor_exteriorTyres                                   0.000000\n",
       "rearDefoggerWorkProperly_exteriorTyres                      0.000000\n",
       "rhsApron_exteriorTyres                                      0.000000\n",
       "rhsFrontDoor_exteriorTyres                                  0.000000\n",
       "rhsRearDoor_exteriorTyres                                   0.000000\n",
       "fuel_type                                                   0.000000\n",
       "owner_number                                                0.000000\n",
       "number_of_dealers                                           0.000000\n",
       "rating_accessoriesFeatures                                  0.000000\n",
       "rating_airConditioning                                      0.000000\n",
       "rating_electricalsInterior                                  0.000000\n",
       "rating_engineTransmission                                   0.000000\n",
       "rating_exteriorTyres                                        0.000000\n",
       "rating_steeringSuspensionBrakes                             0.000000\n",
       "number_of_dealers.1                                         0.000000\n",
       "year                                                        0.066336\n",
       "odometer                                                    0.066336\n",
       "dtype: float64"
      ]
     },
     "execution_count": 44,
     "metadata": {},
     "output_type": "execute_result"
    }
   ],
   "source": [
    "df1.isna().mean()"
   ]
  },
  {
   "cell_type": "code",
   "execution_count": 11,
   "metadata": {},
   "outputs": [
    {
     "data": {
      "text/plain": [
       "<matplotlib.axes._subplots.AxesSubplot at 0x27e7a648448>"
      ]
     },
     "execution_count": 11,
     "metadata": {},
     "output_type": "execute_result"
    },
    {
     "data": {
      "image/png": "[encoded data removed]",
      "text/plain": [
       "<Figure size 432x288 with 1 Axes>"
      ]
     },
     "metadata": {
      "needs_background": "light"
     },
     "output_type": "display_data"
    }
   ],
   "source": [
    "df1.year.plot(kind='hist')"
   ]
  },
  {
   "cell_type": "code",
   "execution_count": 16,
   "metadata": {},
   "outputs": [
    {
     "data": {
      "text/plain": [
       "<matplotlib.axes._subplots.AxesSubplot at 0x27e018bda88>"
      ]
     },
     "execution_count": 16,
     "metadata": {},
     "output_type": "execute_result"
    },
    {
     "data": {
      "image/png": "[encoded data removed]",
      "text/plain": [
       "<Figure size 432x288 with 1 Axes>"
      ]
     },
     "metadata": {
      "needs_background": "light"
     },
     "output_type": "display_data"
    }
   ],
   "source": [
    "df1.odometer.plot(kind='box')"
   ]
  },
  {
   "cell_type": "code",
   "execution_count": 57,
   "metadata": {},
   "outputs": [
    {
     "data": {
      "text/plain": [
       "<matplotlib.axes._subplots.AxesSubplot at 0x27e075bf788>"
      ]
     },
     "execution_count": 57,
     "metadata": {},
     "output_type": "execute_result"
    },
    {
     "data": {
      "image/png": "[encoded data removed]",
      "text/plain": [
       "<Figure size 432x288 with 1 Axes>"
      ]
     },
     "metadata": {
      "needs_background": "light"
     },
     "output_type": "display_data"
    }
   ],
   "source": [
    "df1.totalRFC_summary.plot(kind='box')"
   ]
  },
  {
   "cell_type": "code",
   "execution_count": 17,
   "metadata": {},
   "outputs": [
    {
     "data": {
      "text/plain": [
       "1389567.0"
      ]
     },
     "execution_count": 17,
     "metadata": {},
     "output_type": "execute_result"
    }
   ],
   "source": [
    "df1.odometer.max()"
   ]
  },
  {
   "cell_type": "code",
   "execution_count": 21,
   "metadata": {},
   "outputs": [
    {
     "data": {
      "text/html": [
       "<div>\n",
       "<style scoped>\n",
       "    .dataframe tbody tr th:only-of-type {\n",
       "        vertical-align: middle;\n",
       "    }\n",
       "\n",
       "    .dataframe tbody tr th {\n",
       "        vertical-align: top;\n",
       "    }\n",
       "\n",
       "    .dataframe thead th {\n",
       "        text-align: right;\n",
       "    }\n",
       "</style>\n",
       "<table border=\"1\" class=\"dataframe\">\n",
       "  <thead>\n",
       "    <tr style=\"text-align: right;\">\n",
       "      <th></th>\n",
       "      <th>lead_id</th>\n",
       "      <th>make</th>\n",
       "      <th>model</th>\n",
       "      <th>variant</th>\n",
       "      <th>HVB</th>\n",
       "      <th>totalRFC_summary</th>\n",
       "      <th>acCoolingIsNormal_airConditioning</th>\n",
       "      <th>acFanAndCompressorNoiseIsNormal_airConditioning</th>\n",
       "      <th>autoClimateControl_airConditioning</th>\n",
       "      <th>heaterOperationIsNormalAndEffective_airConditioning</th>\n",
       "      <th>...</th>\n",
       "      <th>number_of_dealers</th>\n",
       "      <th>rating_accessoriesFeatures</th>\n",
       "      <th>rating_airConditioning</th>\n",
       "      <th>rating_electricalsInterior</th>\n",
       "      <th>rating_engineTransmission</th>\n",
       "      <th>rating_exteriorTyres</th>\n",
       "      <th>rating_steeringSuspensionBrakes</th>\n",
       "      <th>number_of_dealers.1</th>\n",
       "      <th>year</th>\n",
       "      <th>odometer</th>\n",
       "    </tr>\n",
       "  </thead>\n",
       "  <tbody>\n",
       "    <tr>\n",
       "      <th>45900</th>\n",
       "      <td>1037434496</td>\n",
       "      <td>MARUTI SUZUKI</td>\n",
       "      <td>SWIFT</td>\n",
       "      <td>VDI</td>\n",
       "      <td>185000</td>\n",
       "      <td>93500</td>\n",
       "      <td>Yes</td>\n",
       "      <td>No</td>\n",
       "      <td>NaN</td>\n",
       "      <td>Yes</td>\n",
       "      <td>...</td>\n",
       "      <td>7</td>\n",
       "      <td>5</td>\n",
       "      <td>4</td>\n",
       "      <td>3</td>\n",
       "      <td>3</td>\n",
       "      <td>4</td>\n",
       "      <td>3</td>\n",
       "      <td>7</td>\n",
       "      <td>2008.0</td>\n",
       "      <td>1389567.0</td>\n",
       "    </tr>\n",
       "  </tbody>\n",
       "</table>\n",
       "<p>1 rows × 49 columns</p>\n",
       "</div>"
      ],
      "text/plain": [
       "          lead_id           make  model variant     HVB  totalRFC_summary  \\\n",
       "45900  1037434496  MARUTI SUZUKI  SWIFT     VDI  185000             93500   \n",
       "\n",
       "      acCoolingIsNormal_airConditioning  \\\n",
       "45900                               Yes   \n",
       "\n",
       "      acFanAndCompressorNoiseIsNormal_airConditioning  \\\n",
       "45900                                              No   \n",
       "\n",
       "      autoClimateControl_airConditioning  \\\n",
       "45900                                NaN   \n",
       "\n",
       "      heaterOperationIsNormalAndEffective_airConditioning  ...  \\\n",
       "45900                                                Yes   ...   \n",
       "\n",
       "      number_of_dealers rating_accessoriesFeatures rating_airConditioning  \\\n",
       "45900                 7                          5                      4   \n",
       "\n",
       "      rating_electricalsInterior rating_engineTransmission  \\\n",
       "45900                          3                         3   \n",
       "\n",
       "      rating_exteriorTyres rating_steeringSuspensionBrakes  \\\n",
       "45900                    4                               3   \n",
       "\n",
       "      number_of_dealers.1    year   odometer  \n",
       "45900                   7  2008.0  1389567.0  \n",
       "\n",
       "[1 rows x 49 columns]"
      ]
     },
     "execution_count": 21,
     "metadata": {},
     "output_type": "execute_result"
    }
   ],
   "source": [
    "df1[df1.odometer==1389567]"
   ]
  },
  {
   "cell_type": "code",
   "execution_count": 29,
   "metadata": {},
   "outputs": [],
   "source": [
    "from sklearn.impute import SimpleImputer\n",
    "from sklearn.compose import ColumnTransformer\n",
    "from sklearn.pipeline import Pipeline\n",
    "\n",
    "from sklearn.model_selection import train_test_split"
   ]
  },
  {
   "cell_type": "code",
   "execution_count": 41,
   "metadata": {},
   "outputs": [],
   "source": [
    "cols=list(df1.columns)\n",
    "dep_col='totalRFC_summary'\n",
    "cols.remove(dep_col)"
   ]
  },
  {
   "cell_type": "code",
   "execution_count": 42,
   "metadata": {},
   "outputs": [
    {
     "data": {
      "text/plain": [
       "((49385, 48), (21165, 48))"
      ]
     },
     "execution_count": 42,
     "metadata": {},
     "output_type": "execute_result"
    }
   ],
   "source": [
    "X_train, X_test, y_train, y_test = train_test_split(df1[cols], # just the features\n",
    "                                                    df1[dep_col], # the target\n",
    "                                                    test_size=0.3, # the percentage of obs in the test set\n",
    "                                                    random_state=0) # for reproducibility\n",
    "X_train.shape, X_test.shape"
   ]
  },
  {
   "cell_type": "code",
   "execution_count": 43,
   "metadata": {},
   "outputs": [
    {
     "data": {
      "text/plain": [
       "(70550, 49)"
      ]
     },
     "execution_count": 43,
     "metadata": {},
     "output_type": "execute_result"
    }
   ],
   "source": [
    "df1.shape"
   ]
  },
  {
   "cell_type": "code",
   "execution_count": 52,
   "metadata": {},
   "outputs": [
    {
     "data": {
      "text/plain": [
       "lead_id                                                      True\n",
       "make                                                        False\n",
       "model                                                       False\n",
       "variant                                                     False\n",
       "HVB                                                          True\n",
       "acCoolingIsNormal_airConditioning                           False\n",
       "acFanAndCompressorNoiseIsNormal_airConditioning             False\n",
       "autoClimateControl_airConditioning                          False\n",
       "heaterOperationIsNormalAndEffective_airConditioning         False\n",
       "interstateNocIssued_documentDetails                         False\n",
       "isUnderHypothecation_documentDetails                        False\n",
       "roadTaxPaidInterstate_documentDetails                       False\n",
       "toBeScrapped_documentDetails                                False\n",
       "allDisplayLightsIsWorkingProperly_electricalsInterior       False\n",
       "doorFunctionsProperly_electricalsInterior                   False\n",
       "musicSystemWorksFine_electricalsInterior                    False\n",
       "powerWindowWorkingProperly_electricalsInterior              False\n",
       "reverseCameraParkingSensor_electricalsInterior              False\n",
       "batteryPerformanceSatisfactory_engineTransmission           False\n",
       "clutchOperatesSmoothlyWithoutSlipping_engineTransmission    False\n",
       "coolant_engineTransmission                                  False\n",
       "engineExcessiveBlowByOrBack_engineTransmission              False\n",
       "engineExhaustSmoke_engineTransmission                       False\n",
       "engineOil_engineTransmission                                False\n",
       "engineSoundIsNormal_engineTransmission                      False\n",
       "gearShiftingWorksProperly_engineTransmission                False\n",
       "bonnet_exteriorTyres                                        False\n",
       "bothOutsideRearViewMirrorsAreOk_exteriorTyres               False\n",
       "isChassisPlateAvailable_exteriorTyres                       False\n",
       "lhsApron_exteriorTyres                                      False\n",
       "lhsFrontDoor_exteriorTyres                                  False\n",
       "lhsRearDoor_exteriorTyres                                   False\n",
       "rearDefoggerWorkProperly_exteriorTyres                      False\n",
       "rhsApron_exteriorTyres                                      False\n",
       "rhsFrontDoor_exteriorTyres                                  False\n",
       "rhsRearDoor_exteriorTyres                                   False\n",
       "fuel_type                                                   False\n",
       "owner_number                                                 True\n",
       "number_of_dealers                                            True\n",
       "rating_accessoriesFeatures                                   True\n",
       "rating_airConditioning                                       True\n",
       "rating_electricalsInterior                                   True\n",
       "rating_engineTransmission                                    True\n",
       "rating_exteriorTyres                                         True\n",
       "rating_steeringSuspensionBrakes                              True\n",
       "number_of_dealers.1                                          True\n",
       "year                                                         True\n",
       "odometer                                                     True\n",
       "dtype: bool"
      ]
     },
     "execution_count": 52,
     "metadata": {},
     "output_type": "execute_result"
    }
   ],
   "source": [
    "num_cols=X_train.dtypes!=object; num_cols"
   ]
  },
  {
   "cell_type": "code",
   "execution_count": 53,
   "metadata": {},
   "outputs": [
    {
     "name": "stderr",
     "output_type": "stream",
     "text": [
      "D:\\narain\\anaconda3\\envs\\ml\\lib\\site-packages\\ipykernel_launcher.py:2: UserWarning: Boolean Series key will be reindexed to match DataFrame index.\n",
      "  \n"
     ]
    },
    {
     "ename": "IndexingError",
     "evalue": "Unalignable boolean Series provided as indexer (index of the boolean Series and of the indexed object do not match).",
     "output_type": "error",
     "traceback": [
      "\u001b[1;31m---------------------------------------------------------------------------\u001b[0m",
      "\u001b[1;31mIndexingError\u001b[0m                             Traceback (most recent call last)",
      "\u001b[1;32m<ipython-input-53-066dc02b32fb>\u001b[0m in \u001b[0;36m<module>\u001b[1;34m\u001b[0m\n\u001b[0;32m      1\u001b[0m \u001b[0mmean_imputer\u001b[0m\u001b[1;33m=\u001b[0m \u001b[0mSimpleImputer\u001b[0m\u001b[1;33m(\u001b[0m\u001b[0mstrategy\u001b[0m\u001b[1;33m=\u001b[0m\u001b[1;34m'mean'\u001b[0m\u001b[1;33m)\u001b[0m\u001b[1;33m\u001b[0m\u001b[1;33m\u001b[0m\u001b[0m\n\u001b[1;32m----> 2\u001b[1;33m \u001b[0mmean_imputer\u001b[0m\u001b[1;33m.\u001b[0m\u001b[0mfit\u001b[0m\u001b[1;33m(\u001b[0m\u001b[0mX_train\u001b[0m\u001b[1;33m[\u001b[0m\u001b[0mnum_cols\u001b[0m\u001b[1;33m]\u001b[0m\u001b[1;33m)\u001b[0m\u001b[1;33m\u001b[0m\u001b[1;33m\u001b[0m\u001b[0m\n\u001b[0m",
      "\u001b[1;32mD:\\narain\\anaconda3\\envs\\ml\\lib\\site-packages\\pandas\\core\\frame.py\u001b[0m in \u001b[0;36m__getitem__\u001b[1;34m(self, key)\u001b[0m\n\u001b[0;32m   2984\u001b[0m         \u001b[1;31m# Do we have a (boolean) 1d indexer?\u001b[0m\u001b[1;33m\u001b[0m\u001b[1;33m\u001b[0m\u001b[1;33m\u001b[0m\u001b[0m\n\u001b[0;32m   2985\u001b[0m         \u001b[1;32mif\u001b[0m \u001b[0mcom\u001b[0m\u001b[1;33m.\u001b[0m\u001b[0mis_bool_indexer\u001b[0m\u001b[1;33m(\u001b[0m\u001b[0mkey\u001b[0m\u001b[1;33m)\u001b[0m\u001b[1;33m:\u001b[0m\u001b[1;33m\u001b[0m\u001b[1;33m\u001b[0m\u001b[0m\n\u001b[1;32m-> 2986\u001b[1;33m             \u001b[1;32mreturn\u001b[0m \u001b[0mself\u001b[0m\u001b[1;33m.\u001b[0m\u001b[0m_getitem_bool_array\u001b[0m\u001b[1;33m(\u001b[0m\u001b[0mkey\u001b[0m\u001b[1;33m)\u001b[0m\u001b[1;33m\u001b[0m\u001b[1;33m\u001b[0m\u001b[0m\n\u001b[0m\u001b[0;32m   2987\u001b[0m \u001b[1;33m\u001b[0m\u001b[0m\n\u001b[0;32m   2988\u001b[0m         \u001b[1;31m# We are left with two options: a single key, and a collection of keys,\u001b[0m\u001b[1;33m\u001b[0m\u001b[1;33m\u001b[0m\u001b[1;33m\u001b[0m\u001b[0m\n",
      "\u001b[1;32mD:\\narain\\anaconda3\\envs\\ml\\lib\\site-packages\\pandas\\core\\frame.py\u001b[0m in \u001b[0;36m_getitem_bool_array\u001b[1;34m(self, key)\u001b[0m\n\u001b[0;32m   3036\u001b[0m         \u001b[1;31m# check_bool_indexer will throw exception if Series key cannot\u001b[0m\u001b[1;33m\u001b[0m\u001b[1;33m\u001b[0m\u001b[1;33m\u001b[0m\u001b[0m\n\u001b[0;32m   3037\u001b[0m         \u001b[1;31m# be reindexed to match DataFrame rows\u001b[0m\u001b[1;33m\u001b[0m\u001b[1;33m\u001b[0m\u001b[1;33m\u001b[0m\u001b[0m\n\u001b[1;32m-> 3038\u001b[1;33m         \u001b[0mkey\u001b[0m \u001b[1;33m=\u001b[0m \u001b[0mcheck_bool_indexer\u001b[0m\u001b[1;33m(\u001b[0m\u001b[0mself\u001b[0m\u001b[1;33m.\u001b[0m\u001b[0mindex\u001b[0m\u001b[1;33m,\u001b[0m \u001b[0mkey\u001b[0m\u001b[1;33m)\u001b[0m\u001b[1;33m\u001b[0m\u001b[1;33m\u001b[0m\u001b[0m\n\u001b[0m\u001b[0;32m   3039\u001b[0m         \u001b[0mindexer\u001b[0m \u001b[1;33m=\u001b[0m \u001b[0mkey\u001b[0m\u001b[1;33m.\u001b[0m\u001b[0mnonzero\u001b[0m\u001b[1;33m(\u001b[0m\u001b[1;33m)\u001b[0m\u001b[1;33m[\u001b[0m\u001b[1;36m0\u001b[0m\u001b[1;33m]\u001b[0m\u001b[1;33m\u001b[0m\u001b[1;33m\u001b[0m\u001b[0m\n\u001b[0;32m   3040\u001b[0m         \u001b[1;32mreturn\u001b[0m \u001b[0mself\u001b[0m\u001b[1;33m.\u001b[0m\u001b[0mtake\u001b[0m\u001b[1;33m(\u001b[0m\u001b[0mindexer\u001b[0m\u001b[1;33m,\u001b[0m \u001b[0maxis\u001b[0m\u001b[1;33m=\u001b[0m\u001b[1;36m0\u001b[0m\u001b[1;33m)\u001b[0m\u001b[1;33m\u001b[0m\u001b[1;33m\u001b[0m\u001b[0m\n",
      "\u001b[1;32mD:\\narain\\anaconda3\\envs\\ml\\lib\\site-packages\\pandas\\core\\indexing.py\u001b[0m in \u001b[0;36mcheck_bool_indexer\u001b[1;34m(index, key)\u001b[0m\n\u001b[0;32m   2409\u001b[0m         \u001b[1;32mif\u001b[0m \u001b[0mmask\u001b[0m\u001b[1;33m.\u001b[0m\u001b[0many\u001b[0m\u001b[1;33m(\u001b[0m\u001b[1;33m)\u001b[0m\u001b[1;33m:\u001b[0m\u001b[1;33m\u001b[0m\u001b[1;33m\u001b[0m\u001b[0m\n\u001b[0;32m   2410\u001b[0m             raise IndexingError(\n\u001b[1;32m-> 2411\u001b[1;33m                 \u001b[1;34m\"Unalignable boolean Series provided as \"\u001b[0m\u001b[1;33m\u001b[0m\u001b[1;33m\u001b[0m\u001b[0m\n\u001b[0m\u001b[0;32m   2412\u001b[0m                 \u001b[1;34m\"indexer (index of the boolean Series and of \"\u001b[0m\u001b[1;33m\u001b[0m\u001b[1;33m\u001b[0m\u001b[0m\n\u001b[0;32m   2413\u001b[0m                 \u001b[1;34m\"the indexed object do not match).\"\u001b[0m\u001b[1;33m\u001b[0m\u001b[1;33m\u001b[0m\u001b[0m\n",
      "\u001b[1;31mIndexingError\u001b[0m: Unalignable boolean Series provided as indexer (index of the boolean Series and of the indexed object do not match)."
     ]
    }
   ],
   "source": [
    "mean_imputer= SimpleImputer(strategy='mean')\n",
    "mean_imputer.fit(X_train[num_cols])"
   ]
  },
  {
   "cell_type": "code",
   "execution_count": null,
   "metadata": {},
   "outputs": [],
   "source": []
  }
 ],
 "metadata": {
  "kernelspec": {
   "display_name": "python ml",
   "language": "python",
   "name": "ml"
  },
  "language_info": {
   "codemirror_mode": {
    "name": "ipython",
    "version": 3
   },
   "file_extension": ".py",
   "mimetype": "text/x-python",
   "name": "python",
   "nbconvert_exporter": "python",
   "pygments_lexer": "ipython3",
   "version": "3.7.5"
  }
 },
 "nbformat": 4,
 "nbformat_minor": 2
}
