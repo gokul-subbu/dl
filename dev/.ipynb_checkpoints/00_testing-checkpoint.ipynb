{
 "cells": [
  {
   "cell_type": "code",
   "execution_count": 158,
   "metadata": {},
   "outputs": [],
   "source": [
    "#export\n",
    "from functools import partial, reduce\n",
    "from operator import *\n",
    "from typing import *\n",
    "from pathlib import Path\n",
    "import re, itertools, sys, operator"
   ]
  },
  {
   "cell_type": "code",
   "execution_count": 15,
   "metadata": {},
   "outputs": [],
   "source": [
    "#export\n",
    "Path.ls =  lambda x: list(x.iterdir)\n",
    "def test_op(x, y, op:Callable):\n",
    "    return eq(x, y)"
   ]
  },
  {
   "cell_type": "code",
   "execution_count": 12,
   "metadata": {},
   "outputs": [],
   "source": [
    "#export\n",
    "test_eq= partial(test_op,op=eq)\n",
    "test_ne= partial(test_op, op=ne)\n",
    "test_abs= partial(test_op, op=neg)"
   ]
  },
  {
   "cell_type": "code",
   "execution_count": 228,
   "metadata": {},
   "outputs": [],
   "source": [
    "#export\n",
    "def listify(x):\n",
    "    if x is None: return []\n",
    "    if isinstance(x, list): return x\n",
    "    if isinstance(x, str): return [x]\n",
    "    if isinstance(x, (Iterable, Generator)): return list(x)\n",
    "    return [x]"
   ]
  },
  {
   "cell_type": "code",
   "execution_count": 229,
   "metadata": {},
   "outputs": [
    {
     "data": {
      "text/plain": [
       "True"
      ]
     },
     "execution_count": 229,
     "metadata": {},
     "output_type": "execute_result"
    }
   ],
   "source": [
    "test_eq(listify('narain'), ['narain'])\n",
    "test_eq(listify({1,2,3,4,5}), list(range(1,6)))\n",
    "test_eq(listify(range(5)), list(range(5)))\n",
    "test_eq(listify((1,2,3)), [1,2,3])"
   ]
  },
  {
   "cell_type": "code",
   "execution_count": 230,
   "metadata": {},
   "outputs": [],
   "source": [
    "#export\n",
    "def setify(x): return set(listify(x))"
   ]
  },
  {
   "cell_type": "code",
   "execution_count": 231,
   "metadata": {},
   "outputs": [],
   "source": [
    "#export\n",
    "def is_indexer(idx):\n",
    "    return isinstance(idx,int) or not getattr(idx,'ndim',1)"
   ]
  },
  {
   "cell_type": "code",
   "execution_count": 240,
   "metadata": {},
   "outputs": [],
   "source": [
    "#export\n",
    "def is_iter(o):\n",
    "    \"Test whether `o` can be used in a `for` loop\"\n",
    "    #Rank 0 tensors in PyTorch are not really iterable\n",
    "    return isinstance(o, (Iterable,Generator))"
   ]
  },
  {
   "cell_type": "code",
   "execution_count": 233,
   "metadata": {},
   "outputs": [
    {
     "data": {
      "text/plain": [
       "True"
      ]
     },
     "execution_count": 233,
     "metadata": {},
     "output_type": "execute_result"
    }
   ],
   "source": [
    "is_iter([1,3])"
   ]
  },
  {
   "cell_type": "code",
   "execution_count": 244,
   "metadata": {},
   "outputs": [],
   "source": [
    "#export\n",
    "class L():\n",
    "    def __init__(self, x):\n",
    "        self.x= listify(x)\n",
    "        \n",
    "    def __len__(self): return len(self.x)\n",
    "    def new(self, x): return type(self)(x) \n",
    "    \n",
    "    def __getitem__(self, i): return self._get(i) if is_indexer(i) else L(self._get(i))\n",
    "        \n",
    "    def _get(self, i):\n",
    "        if is_indexer(i) or isinstance(i,slice): return getattr(self.x,'iloc',self.x)[i]\n",
    "        i = mask2idxs(i)\n",
    "        return (self.x.iloc[list(i)] if hasattr(self.x,'iloc')\n",
    "                else self.x.__array__()[(i,)] if hasattr(self.x,'__array__')\n",
    "                else [self.x[i_] for i_ in i])\n",
    "    \n",
    "    def __setitem__(self, i, o):\n",
    "        i = i if is_iter(i) else listify(i)\n",
    "        if not is_iter(o): o = [o]*len(i)\n",
    "        print(i)\n",
    "        for i_,o_ in zip(i,o):\n",
    "            self.x[i_] = o_\n",
    "    \n",
    "    def __repr__(self):\n",
    "        return f'(#{len(self.x)}) [' + ','.join(itertools.islice(map(repr,self.x), 10)) + (\n",
    "        '...' if len(self.x)>10 else '') + ']'\n",
    "    \n",
    "    def __iter__(self): return iter(self.x.itertuples() if hasattr(self.x,'iloc') else self.x)\n",
    "    def __contains__(self,b): return b in self.x\n",
    "    def __invert__(self): return self.new(not i for i in self)\n",
    "    def __eq__(self,b): return False if isinstance(b, (str,dict,set)) else all_equal(b,self)\n",
    "    def __mul__ (a,b): return a._new(a.items*b)\n",
    "    def __add__ (a,b): return a._new(a.items+_listify(b))\n",
    "    def __radd__(a,b): return a._new(b)+a\n",
    "    def __addi__(a,b):\n",
    "        a.items += list(b)\n",
    "        return a\n",
    "\n",
    "    def append(self,o): return self.x.append(o)\n",
    "    def remove(self,o): return self.x.remove(o)\n",
    "    def count (self,o): return self.x.count(o)\n",
    "    def reverse(self ): return self.x.reverse()\n",
    "    def pop(self,o=-1): return self.x.pop(o)\n",
    "    def clear(self   ): return self.x.clear()\n",
    "    def index(self, value, start=0, stop=sys.maxsize): return self.x.index(value, start=start, stop=stop)\n",
    "    def sort(self, key=None, reverse=False): return self.x.sort(key=key, reverse=reverse)\n",
    "    def reduce(self, f, initial=None): return reduce(f, self) if initial is None else reduce(f, self, initial)\n",
    "    def sum(self): return self.reduce(operator.add)\n",
    "    def product(self): return self.reduce(operator.mul)"
   ]
  },
  {
   "cell_type": "code",
   "execution_count": 245,
   "metadata": {},
   "outputs": [
    {
     "data": {
      "text/plain": [
       "(#11) [0,1,2,3,4,5,6,7,8,9...]"
      ]
     },
     "execution_count": 245,
     "metadata": {},
     "output_type": "execute_result"
    }
   ],
   "source": [
    "l=L(range(11)); l"
   ]
  },
  {
   "cell_type": "code",
   "execution_count": 246,
   "metadata": {
    "scrolled": true
   },
   "outputs": [
    {
     "name": "stdout",
     "output_type": "stream",
     "text": [
      "[slice(1, 7, None)]\n"
     ]
    },
    {
     "ename": "TypeError",
     "evalue": "can only assign an iterable",
     "output_type": "error",
     "traceback": [
      "\u001b[1;31m---------------------------------------------------------------------------\u001b[0m",
      "\u001b[1;31mTypeError\u001b[0m                                 Traceback (most recent call last)",
      "\u001b[1;32m<ipython-input-246-a30cb7815f70>\u001b[0m in \u001b[0;36m<module>\u001b[1;34m\u001b[0m\n\u001b[1;32m----> 1\u001b[1;33m \u001b[0ml\u001b[0m\u001b[1;33m[\u001b[0m\u001b[1;36m1\u001b[0m\u001b[1;33m:\u001b[0m\u001b[1;36m7\u001b[0m\u001b[1;33m]\u001b[0m\u001b[1;33m=\u001b[0m\u001b[1;36m0\u001b[0m\u001b[1;33m\u001b[0m\u001b[1;33m\u001b[0m\u001b[0m\n\u001b[0m",
      "\u001b[1;32m<ipython-input-244-d2f81b21fae9>\u001b[0m in \u001b[0;36m__setitem__\u001b[1;34m(self, i, o)\u001b[0m\n\u001b[0;32m     21\u001b[0m         \u001b[0mprint\u001b[0m\u001b[1;33m(\u001b[0m\u001b[0mi\u001b[0m\u001b[1;33m)\u001b[0m\u001b[1;33m\u001b[0m\u001b[1;33m\u001b[0m\u001b[0m\n\u001b[0;32m     22\u001b[0m         \u001b[1;32mfor\u001b[0m \u001b[0mi_\u001b[0m\u001b[1;33m,\u001b[0m\u001b[0mo_\u001b[0m \u001b[1;32min\u001b[0m \u001b[0mzip\u001b[0m\u001b[1;33m(\u001b[0m\u001b[0mi\u001b[0m\u001b[1;33m,\u001b[0m\u001b[0mo\u001b[0m\u001b[1;33m)\u001b[0m\u001b[1;33m:\u001b[0m\u001b[1;33m\u001b[0m\u001b[1;33m\u001b[0m\u001b[0m\n\u001b[1;32m---> 23\u001b[1;33m             \u001b[0mself\u001b[0m\u001b[1;33m.\u001b[0m\u001b[0mx\u001b[0m\u001b[1;33m[\u001b[0m\u001b[0mi_\u001b[0m\u001b[1;33m]\u001b[0m \u001b[1;33m=\u001b[0m \u001b[0mo_\u001b[0m\u001b[1;33m\u001b[0m\u001b[1;33m\u001b[0m\u001b[0m\n\u001b[0m\u001b[0;32m     24\u001b[0m \u001b[1;33m\u001b[0m\u001b[0m\n\u001b[0;32m     25\u001b[0m     \u001b[1;32mdef\u001b[0m \u001b[0m__repr__\u001b[0m\u001b[1;33m(\u001b[0m\u001b[0mself\u001b[0m\u001b[1;33m)\u001b[0m\u001b[1;33m:\u001b[0m\u001b[1;33m\u001b[0m\u001b[1;33m\u001b[0m\u001b[0m\n",
      "\u001b[1;31mTypeError\u001b[0m: can only assign an iterable"
     ]
    }
   ],
   "source": [
    "l[1:7]=0"
   ]
  },
  {
   "cell_type": "code",
   "execution_count": 237,
   "metadata": {
    "scrolled": true
   },
   "outputs": [
    {
     "data": {
      "text/plain": [
       "(#14) [1,2,3,4,5,6,7,8,9,1...]"
      ]
     },
     "execution_count": 237,
     "metadata": {},
     "output_type": "execute_result"
    }
   ],
   "source": [
    "L([1,2,3,4,5,6,7,8,9,1,2,3,4,5])"
   ]
  },
  {
   "cell_type": "code",
   "execution_count": 238,
   "metadata": {},
   "outputs": [
    {
     "data": {
      "text/plain": [
       "(#5) [1,2,3,4,5]"
      ]
     },
     "execution_count": 238,
     "metadata": {},
     "output_type": "execute_result"
    }
   ],
   "source": [
    "L([1,2,3,4,5])"
   ]
  },
  {
   "cell_type": "code",
   "execution_count": null,
   "metadata": {},
   "outputs": [],
   "source": []
  }
 ],
 "metadata": {
  "kernelspec": {
   "display_name": "python (ml)",
   "language": "python",
   "name": "ml"
  },
  "language_info": {
   "codemirror_mode": {
    "name": "ipython",
    "version": 3
   },
   "file_extension": ".py",
   "mimetype": "text/x-python",
   "name": "python",
   "nbconvert_exporter": "python",
   "pygments_lexer": "ipython3",
   "version": "3.7.6"
  }
 },
 "nbformat": 4,
 "nbformat_minor": 2
}
