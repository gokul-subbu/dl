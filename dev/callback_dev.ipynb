{
 "cells": [
  {
   "cell_type": "code",
   "execution_count": 48,
   "metadata": {},
   "outputs": [],
   "source": [
    "from typing import List, Callable\n",
    "from time import sleep"
   ]
  },
  {
   "cell_type": "code",
   "execution_count": 52,
   "metadata": {},
   "outputs": [],
   "source": [
    "class StatsMgr:\n",
    "    def __init__(self, name:str, update_fn:Callable):\n",
    "        self.loss= 0.\n",
    "        self.name=name\n",
    "        \n",
    "    def reset(self):\n",
    "        self.loss= 0\n",
    "    \n",
    "    def update(self, val):\n",
    "        self.loss= update_fn(x)\n",
    "        \n",
    "    def __repr__(self):\n",
    "        return f'{self.name} : {self.loss}'"
   ]
  },
  {
   "cell_type": "code",
   "execution_count": 53,
   "metadata": {},
   "outputs": [],
   "source": [
    "val=StatsMgr('value', update_fn=lambda x: self.loss+x)"
   ]
  },
  {
   "cell_type": "code",
   "execution_count": 54,
   "metadata": {},
   "outputs": [],
   "source": [
    "l=loss('loss')"
   ]
  },
  {
   "cell_type": "code",
   "execution_count": 42,
   "metadata": {},
   "outputs": [
    {
     "name": "stdout",
     "output_type": "stream",
     "text": [
      "loss : 0.0\n",
      "loss : 1.0\n",
      "loss : 3.0\n",
      "loss : 6.0\n",
      "loss : 10.0\n",
      "loss : 15.0\n",
      "loss : 21.0\n",
      "loss : 28.0\n",
      "loss : 36.0\n",
      "loss : 45.0\n"
     ]
    }
   ],
   "source": [
    "for i in range(10):\n",
    "    l.update(i)\n",
    "    print(l)"
   ]
  },
  {
   "cell_type": "code",
   "execution_count": 55,
   "metadata": {},
   "outputs": [],
   "source": [
    "class Callback():\n",
    "    def before_calc(self):\n",
    "        pass\n",
    "    \n",
    "    def after_calc(self):\n",
    "        pass"
   ]
  },
  {
   "cell_type": "code",
   "execution_count": 68,
   "metadata": {},
   "outputs": [],
   "source": [
    "class PrintStats(Callback):\n",
    "    def before_calc(self,i):\n",
    "        print(end='')\n",
    "    def after_calc(self, i, val):\n",
    "        print(val)"
   ]
  },
  {
   "cell_type": "code",
   "execution_count": 69,
   "metadata": {},
   "outputs": [],
   "source": [
    "def slow_calculation(cb=None):\n",
    "    res=0\n",
    "    for i in range(5):\n",
    "        if cb: cb.before_calc(i)\n",
    "        res += i*i\n",
    "        sleep(1)\n",
    "        if cb: cb.after_calc(i, val=res)\n",
    "    return True"
   ]
  },
  {
   "cell_type": "code",
   "execution_count": 70,
   "metadata": {},
   "outputs": [
    {
     "name": "stdout",
     "output_type": "stream",
     "text": [
      "0\n",
      "1\n",
      "5\n",
      "14\n",
      "30\n"
     ]
    },
    {
     "data": {
      "text/plain": [
       "True"
      ]
     },
     "execution_count": 70,
     "metadata": {},
     "output_type": "execute_result"
    }
   ],
   "source": [
    "pp=PrintStats()\n",
    "slow_calculation(pp)"
   ]
  }
 ],
 "metadata": {
  "kernelspec": {
   "display_name": "python (dl)",
   "language": "python",
   "name": "dl"
  },
  "language_info": {
   "codemirror_mode": {
    "name": "ipython",
    "version": 3
   },
   "file_extension": ".py",
   "mimetype": "text/x-python",
   "name": "python",
   "nbconvert_exporter": "python",
   "pygments_lexer": "ipython3",
   "version": "3.7.6"
  }
 },
 "nbformat": 4,
 "nbformat_minor": 4
}
