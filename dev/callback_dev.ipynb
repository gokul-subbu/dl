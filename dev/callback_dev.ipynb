{
 "cells": [
  {
   "cell_type": "code",
   "execution_count": 96,
   "metadata": {},
   "outputs": [],
   "source": [
    "from typing import List, Callable\n",
    "from time import sleep\n",
    "from tqdm import tqdm, trange\n",
    "import re"
   ]
  },
  {
   "cell_type": "code",
   "execution_count": 34,
   "metadata": {},
   "outputs": [],
   "source": [
    "class StatsMgr:\n",
    "    def __init__(self, name:str):\n",
    "        self.val= 0.\n",
    "        self.name=name\n",
    "        self.iter=0\n",
    "        \n",
    "    def reset(self):\n",
    "        self.val, self.iter= 0., 0\n",
    "    \n",
    "    def update(self, val):\n",
    "        pass\n",
    "        \n",
    "    def __repr__(self):\n",
    "        return f'{self.name} : {self.val}'"
   ]
  },
  {
   "cell_type": "code",
   "execution_count": 35,
   "metadata": {},
   "outputs": [],
   "source": [
    "class AvgStatsMgr(StatsMgr):\n",
    "    def update(self, val):\n",
    "        self.iter+=1\n",
    "        self.val+=val/self.iter"
   ]
  },
  {
   "cell_type": "code",
   "execution_count": 40,
   "metadata": {},
   "outputs": [],
   "source": [
    "avg_stat = AvgStatsMgr('avg')"
   ]
  },
  {
   "cell_type": "code",
   "execution_count": 41,
   "metadata": {},
   "outputs": [
    {
     "name": "stdout",
     "output_type": "stream",
     "text": [
      "avg : 0.0\n",
      "avg : 0.5\n",
      "avg : 1.1666666666666665\n",
      "avg : 1.9166666666666665\n",
      "avg : 2.716666666666667\n",
      "avg : 3.5500000000000003\n",
      "avg : 4.4071428571428575\n",
      "avg : 5.2821428571428575\n",
      "avg : 6.171031746031746\n",
      "avg : 7.071031746031746\n"
     ]
    }
   ],
   "source": [
    "for i in range(10):\n",
    "    avg_stat.update(i)\n",
    "    print(avg_stat)"
   ]
  },
  {
   "cell_type": "code",
   "execution_count": 115,
   "metadata": {},
   "outputs": [],
   "source": [
    "class Callback():\n",
    "    def __init__(self, )"
   ]
  },
  {
   "cell_type": "code",
   "execution_count": 111,
   "metadata": {},
   "outputs": [],
   "source": [
    "class PrintStats(Callback):\n",
    "    def after_calc(self, i, val):\n",
    "        tqdm.write(f'val: {val}')"
   ]
  },
  {
   "cell_type": "code",
   "execution_count": 121,
   "metadata": {},
   "outputs": [],
   "source": [
    "class slow_calculation():\n",
    "    def __init__(self, cb=None):\n",
    "        self.cb=cb\n",
    "        self.res=0\n",
    "        self.callbacks=['before_calc', 'after_calc']\n",
    "    \n",
    "    def __call__(self):\n",
    "        for i in trange(5):\n",
    "            if self.cb: self.cb.before_calc(i)\n",
    "            self.res+=i\n",
    "            sleep(1)\n",
    "            if self.cb: self.cb.after_calc(i, val=self.res)"
   ]
  },
  {
   "cell_type": "code",
   "execution_count": 122,
   "metadata": {},
   "outputs": [
    {
     "data": {
      "text/plain": [
       "<__main__.slow_calculation at 0x13fb2258f08>"
      ]
     },
     "execution_count": 122,
     "metadata": {},
     "output_type": "execute_result"
    }
   ],
   "source": [
    "slow_calculation()"
   ]
  },
  {
   "cell_type": "code",
   "execution_count": null,
   "metadata": {},
   "outputs": [],
   "source": []
  }
 ],
 "metadata": {
  "kernelspec": {
   "display_name": "python (dl)",
   "language": "python",
   "name": "dl"
  },
  "language_info": {
   "codemirror_mode": {
    "name": "ipython",
    "version": 3
   },
   "file_extension": ".py",
   "mimetype": "text/x-python",
   "name": "python",
   "nbconvert_exporter": "python",
   "pygments_lexer": "ipython3",
   "version": "3.7.6"
  }
 },
 "nbformat": 4,
 "nbformat_minor": 4
}
