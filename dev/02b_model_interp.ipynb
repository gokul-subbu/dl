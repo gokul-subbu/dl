{
 "cells": [
  {
   "cell_type": "code",
   "execution_count": 1,
   "metadata": {},
   "outputs": [],
   "source": [
    "%matplotlib inline"
   ]
  },
  {
   "cell_type": "code",
   "execution_count": 16,
   "metadata": {},
   "outputs": [],
   "source": [
    "#export\n",
    "from export.nb_02 import *\n",
    "import scipy\n",
    "from concurrent.futures import ProcessPoolExecutor"
   ]
  },
  {
   "cell_type": "code",
   "execution_count": 6,
   "metadata": {},
   "outputs": [],
   "source": [
    "#export\n",
    "def set_plot_sane_defaults(mode='classic'):\n",
    "    set_plot_sizes(sml=12, med=14, big=16)\n",
    "    # see https://matplotlib.org/gallery/style_sheets/style_sheets_reference.html\n",
    "    mpl.style.use({\n",
    "        'classic': 'default',\n",
    "        'serious': 'bmh',\n",
    "        'dark': 'dark_background',\n",
    "        'boring': 'classic',\n",
    "        'cool': 'ggplot',\n",
    "        'seaborn': 'seaborn',\n",
    "    }[mode])\n",
    "    mpl.rcParams['figure.facecolor'] = 'white' if mode != 'dark' else 'black'"
   ]
  },
  {
   "cell_type": "code",
   "execution_count": 8,
   "metadata": {},
   "outputs": [],
   "source": [
    "#export\n",
    "def set_plot_sizes(sml=12, med=14, big=16):\n",
    "    plt.rc('font', size=sml)          # controls default text sizes\n",
    "    plt.rc('axes', titlesize=sml)     # fontsize of the axes title\n",
    "    plt.rc('axes', labelsize=med)     # fontsize of the x and y labels\n",
    "    plt.rc('xtick', labelsize=sml)    # fontsize of the tick labels\n",
    "    plt.rc('ytick', labelsize=sml)    # fontsize of the tick labels\n",
    "    plt.rc('legend', fontsize=sml)    # legend fontsize\n",
    "    plt.rc('figure', titlesize=big)   # fontsize of the figure title"
   ]
  },
  {
   "cell_type": "code",
   "execution_count": 9,
   "metadata": {},
   "outputs": [],
   "source": [
    "#export\n",
    "def set_plot_bgs(color='white'):\n",
    "    mpl.rcParams['figure.facecolor'] = 'white'"
   ]
  },
  {
   "cell_type": "code",
   "execution_count": 10,
   "metadata": {},
   "outputs": [],
   "source": [
    "#export\n",
    "def plot_heatmap(df, figsize=(16, 16)):\n",
    "    fig, ax = plt.subplots(figsize=figsize)\n",
    "    return sns.heatmap(df.corr(), annot=True, ax=ax)"
   ]
  },
  {
   "cell_type": "code",
   "execution_count": 11,
   "metadata": {},
   "outputs": [],
   "source": [
    "#export\n",
    "def plot_dendrogram(df, figsize=(16, 10)):\n",
    "    corr = np.round(scipy.stats.spearmanr(df).correlation, 4)\n",
    "    corr_condensed = scipy.cluster.hierarchy.distance.squareform(1 - corr)\n",
    "    z = scipy.cluster.hierarchy.linkage(corr_condensed, method='average')\n",
    "    plt.figure(figsize=figsize)\n",
    "    return scipy.cluster.hierarchy.dendrogram(\n",
    "        z, labels=df.columns, orientation='left', leaf_font_size=16)"
   ]
  },
  {
   "cell_type": "code",
   "execution_count": 13,
   "metadata": {},
   "outputs": [],
   "source": [
    "#export\n",
    "def plot_pairs_corr(df, figsize=(18, 16)):\n",
    "    axes = pd.plotting.scatter_matrix(df, alpha=0.3, figsize=figsize, diagonal='kde')\n",
    "    corr = df.corr().values\n",
    "    for i, j in zip(*np.triu_indices_from(axes, k=1)):\n",
    "        axes[i, j].annotate(\"%.3f\" % corr[i, j], (0.8, 0.8), xycoords='axes fraction', ha='center', va='center')"
   ]
  },
  {
   "cell_type": "code",
   "execution_count": 21,
   "metadata": {},
   "outputs": [],
   "source": [
    "#export\n",
    "def parallel_trees(m, fn, n_jobs=8):\n",
    "    return list(ProcessPoolExecutor(n_jobs).map(fn, m.estimators_))"
   ]
  },
  {
   "cell_type": "code",
   "execution_count": 22,
   "metadata": {},
   "outputs": [],
   "source": [
    "#export\n",
    "def get_ensamble_preds(model, x):\n",
    "    \"\"\"Return separately the predictions done by all the estimators in ensemble.\n",
    "    Parameters\n",
    "    ----------\n",
    "    model\n",
    "    x\n",
    "    Returns\n",
    "    -------\n",
    "    predictions : ndarray shaped (estimators, n_samples)\n",
    "    \"\"\"\n",
    "    # TODO: figure out how to get the faster version commented below working\n",
    "    # (AttributeError: Can't pickle local object 'get_ensamble_preds.<locals>.get_preds')\n",
    "    # def get_preds(t):\n",
    "    #     return t.predict(x)\n",
    "    #\n",
    "    # return np.stack(parallel_trees(model, get_preds))\n",
    "\n",
    "    # WORKAROUND for large datasets:\n",
    "    # run code above manually (eg. in script.notebook), then use\n",
    "    # make_ensemble_preds_with_confidence_table directly instead of get_ensemble_preds_with_confidence\n",
    "\n",
    "    return np.stack([t.predict(x) for t in model.estimators_])"
   ]
  },
  {
   "cell_type": "code",
   "execution_count": 14,
   "metadata": {},
   "outputs": [],
   "source": [
    "#export\n",
    "def show_cat_feature_vs_y(df, fld, y_fld, id_fld=None):\n",
    "    pivot_args = dict(\n",
    "        data=df, index=fld, columns=y_fld,\n",
    "        aggfunc='size', fill_value=0,\n",
    "    )\n",
    "    tbl_args = pivot_args.copy()\n",
    "    if id_fld:  # explicit id field is required to show \"All\" in table\n",
    "        tbl_args.update(aggfunc='count', values=id_fld, margins=True)\n",
    "    tbl = pd.pivot_table(**tbl_args)\n",
    "    print(tbl)\n",
    "    plot_tbl = pd.pivot_table(**pivot_args)\n",
    "    plot_tbl.plot.bar()"
   ]
  },
  {
   "cell_type": "code",
   "execution_count": 17,
   "metadata": {},
   "outputs": [],
   "source": [
    "#export\n",
    "def make_ensemble_preds_with_confidence_table(df_raw_val, preds, fld, y_fld):\n",
    "    df = df_raw_val.copy()\n",
    "\n",
    "    df['pred_std'] = np.std(preds, axis=0)\n",
    "    df['pred'] = np.mean(preds, axis=0)\n",
    "\n",
    "    flds = [fld, y_fld, 'pred', 'pred_std']\n",
    "    tbl = df[flds].groupby(flds[0], as_index=False).mean()\n",
    "\n",
    "    return tbl"
   ]
  },
  {
   "cell_type": "code",
   "execution_count": 18,
   "metadata": {},
   "outputs": [],
   "source": [
    "#export\n",
    "def get_ensemble_preds_with_confidence(\n",
    "        model, x_val, df_raw_val, fld, y_fld\n",
    "):\n",
    "    preds = get_ensamble_preds(model, x_val)\n",
    "    return make_ensemble_preds_with_confidence_table(df_raw_val, preds, fld, y_fld)"
   ]
  },
  {
   "cell_type": "code",
   "execution_count": 19,
   "metadata": {},
   "outputs": [],
   "source": [
    "#export\n",
    "def rf_feat_importance(model, df):\n",
    "    return pd.DataFrame(\n",
    "        {'cols': df.columns, 'imp': model.feature_importances_}\n",
    "    ).sort_values('imp', ascending=False)"
   ]
  },
  {
   "cell_type": "code",
   "execution_count": 20,
   "metadata": {},
   "outputs": [],
   "source": [
    "#export\n",
    "def rf_show_plot_fi(model, df, figsize=(12,7)):\n",
    "    fi = rf_feat_importance(model, df)\n",
    "    print(fi)\n",
    "    fi.plot('cols', 'imp', 'barh', figsize=figsize, legend=False)"
   ]
  },
  {
   "cell_type": "code",
   "execution_count": null,
   "metadata": {},
   "outputs": [],
   "source": []
  }
 ],
 "metadata": {
  "kernelspec": {
   "display_name": "python (dl)",
   "language": "python",
   "name": "dl"
  },
  "language_info": {
   "codemirror_mode": {
    "name": "ipython",
    "version": 3
   },
   "file_extension": ".py",
   "mimetype": "text/x-python",
   "name": "python",
   "nbconvert_exporter": "python",
   "pygments_lexer": "ipython3",
   "version": "3.7.6"
  }
 },
 "nbformat": 4,
 "nbformat_minor": 2
}
