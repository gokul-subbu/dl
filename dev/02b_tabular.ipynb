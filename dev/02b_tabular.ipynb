{
 "cells": [
  {
   "cell_type": "code",
   "execution_count": 110,
   "metadata": {},
   "outputs": [],
   "source": [
    "import pandas as pd, os, numpy as np, torch\n",
    "from torch import nn\n",
    "from torch.utils.data import Dataset, DataLoader, SequentialSampler, RandomSampler\n",
    "from pathlib import Path\n",
    "from collections import OrderedDict\n",
    "import torch.nn.functional as F\n",
    "\n",
    "Path.ls= lambda x: [i.name for i in os.scandir(x)]"
   ]
  },
  {
   "cell_type": "code",
   "execution_count": 10,
   "metadata": {},
   "outputs": [
    {
     "data": {
      "text/plain": [
       "['adult',\n",
       " 'car.csv',\n",
       " 'doc',\n",
       " 'dont-overfit-ii',\n",
       " 'he',\n",
       " 'house-prices-advanced-regression-techniques',\n",
       " 'image-files',\n",
       " 'katta',\n",
       " 'titanic.csv',\n",
       " 'train_1.csv',\n",
       " 'twitter-emoji-prediction.zip']"
      ]
     },
     "execution_count": 10,
     "metadata": {},
     "output_type": "execute_result"
    }
   ],
   "source": [
    "small_datasets=Path(r'd:\\datasets\\small_datasets')\n",
    "small_datasets.ls()"
   ]
  },
  {
   "cell_type": "code",
   "execution_count": 67,
   "metadata": {},
   "outputs": [
    {
     "data": {
      "text/html": [
       "<div>\n",
       "<style scoped>\n",
       "    .dataframe tbody tr th:only-of-type {\n",
       "        vertical-align: middle;\n",
       "    }\n",
       "\n",
       "    .dataframe tbody tr th {\n",
       "        vertical-align: top;\n",
       "    }\n",
       "\n",
       "    .dataframe thead th {\n",
       "        text-align: right;\n",
       "    }\n",
       "</style>\n",
       "<table border=\"1\" class=\"dataframe\">\n",
       "  <thead>\n",
       "    <tr style=\"text-align: right;\">\n",
       "      <th></th>\n",
       "      <th>0</th>\n",
       "      <th>1</th>\n",
       "      <th>2</th>\n",
       "      <th>3</th>\n",
       "      <th>4</th>\n",
       "      <th>5</th>\n",
       "      <th>6</th>\n",
       "    </tr>\n",
       "  </thead>\n",
       "  <tbody>\n",
       "    <tr>\n",
       "      <th>0</th>\n",
       "      <td>vhigh</td>\n",
       "      <td>vhigh</td>\n",
       "      <td>2</td>\n",
       "      <td>2</td>\n",
       "      <td>small</td>\n",
       "      <td>low</td>\n",
       "      <td>unacc</td>\n",
       "    </tr>\n",
       "    <tr>\n",
       "      <th>1</th>\n",
       "      <td>vhigh</td>\n",
       "      <td>vhigh</td>\n",
       "      <td>2</td>\n",
       "      <td>2</td>\n",
       "      <td>small</td>\n",
       "      <td>med</td>\n",
       "      <td>unacc</td>\n",
       "    </tr>\n",
       "    <tr>\n",
       "      <th>2</th>\n",
       "      <td>vhigh</td>\n",
       "      <td>vhigh</td>\n",
       "      <td>2</td>\n",
       "      <td>2</td>\n",
       "      <td>small</td>\n",
       "      <td>high</td>\n",
       "      <td>unacc</td>\n",
       "    </tr>\n",
       "    <tr>\n",
       "      <th>3</th>\n",
       "      <td>vhigh</td>\n",
       "      <td>vhigh</td>\n",
       "      <td>2</td>\n",
       "      <td>2</td>\n",
       "      <td>med</td>\n",
       "      <td>low</td>\n",
       "      <td>unacc</td>\n",
       "    </tr>\n",
       "    <tr>\n",
       "      <th>4</th>\n",
       "      <td>vhigh</td>\n",
       "      <td>vhigh</td>\n",
       "      <td>2</td>\n",
       "      <td>2</td>\n",
       "      <td>med</td>\n",
       "      <td>med</td>\n",
       "      <td>unacc</td>\n",
       "    </tr>\n",
       "  </tbody>\n",
       "</table>\n",
       "</div>"
      ],
      "text/plain": [
       "       0      1  2  3      4     5      6\n",
       "0  vhigh  vhigh  2  2  small   low  unacc\n",
       "1  vhigh  vhigh  2  2  small   med  unacc\n",
       "2  vhigh  vhigh  2  2  small  high  unacc\n",
       "3  vhigh  vhigh  2  2    med   low  unacc\n",
       "4  vhigh  vhigh  2  2    med   med  unacc"
      ]
     },
     "execution_count": 67,
     "metadata": {},
     "output_type": "execute_result"
    }
   ],
   "source": [
    "df=pd.read_csv(small_datasets/'car.csv', header=None); df.head()"
   ]
  },
  {
   "cell_type": "code",
   "execution_count": 141,
   "metadata": {},
   "outputs": [],
   "source": [
    "df=df.reindex(np.random.permutation(df.index))"
   ]
  },
  {
   "cell_type": "code",
   "execution_count": 142,
   "metadata": {},
   "outputs": [
    {
     "data": {
      "text/plain": [
       "(1728, 7)"
      ]
     },
     "execution_count": 142,
     "metadata": {},
     "output_type": "execute_result"
    }
   ],
   "source": [
    "df.shape"
   ]
  },
  {
   "cell_type": "code",
   "execution_count": 143,
   "metadata": {},
   "outputs": [],
   "source": [
    "y=df.iloc[:, 6]\n",
    "x=df.iloc[:, :6]"
   ]
  },
  {
   "cell_type": "code",
   "execution_count": 144,
   "metadata": {},
   "outputs": [
    {
     "data": {
      "text/plain": [
       "((1728, 6), (1728,))"
      ]
     },
     "execution_count": 144,
     "metadata": {},
     "output_type": "execute_result"
    }
   ],
   "source": [
    "x.shape, y.shape"
   ]
  },
  {
   "cell_type": "code",
   "execution_count": 145,
   "metadata": {},
   "outputs": [],
   "source": [
    "x_train, y_train, x_val, y_val= x[:1200], y[:1200], x[1201:], y[1201:]"
   ]
  },
  {
   "cell_type": "code",
   "execution_count": 146,
   "metadata": {},
   "outputs": [
    {
     "data": {
      "text/html": [
       "<div>\n",
       "<style scoped>\n",
       "    .dataframe tbody tr th:only-of-type {\n",
       "        vertical-align: middle;\n",
       "    }\n",
       "\n",
       "    .dataframe tbody tr th {\n",
       "        vertical-align: top;\n",
       "    }\n",
       "\n",
       "    .dataframe thead th {\n",
       "        text-align: right;\n",
       "    }\n",
       "</style>\n",
       "<table border=\"1\" class=\"dataframe\">\n",
       "  <thead>\n",
       "    <tr style=\"text-align: right;\">\n",
       "      <th></th>\n",
       "      <th>0</th>\n",
       "      <th>1</th>\n",
       "      <th>2</th>\n",
       "      <th>3</th>\n",
       "      <th>4</th>\n",
       "      <th>5</th>\n",
       "    </tr>\n",
       "  </thead>\n",
       "  <tbody>\n",
       "    <tr>\n",
       "      <th>41</th>\n",
       "      <td>vhigh</td>\n",
       "      <td>vhigh</td>\n",
       "      <td>3</td>\n",
       "      <td>4</td>\n",
       "      <td>med</td>\n",
       "      <td>high</td>\n",
       "    </tr>\n",
       "    <tr>\n",
       "      <th>899</th>\n",
       "      <td>med</td>\n",
       "      <td>vhigh</td>\n",
       "      <td>3</td>\n",
       "      <td>2</td>\n",
       "      <td>big</td>\n",
       "      <td>high</td>\n",
       "    </tr>\n",
       "    <tr>\n",
       "      <th>842</th>\n",
       "      <td>high</td>\n",
       "      <td>low</td>\n",
       "      <td>5more</td>\n",
       "      <td>2</td>\n",
       "      <td>med</td>\n",
       "      <td>high</td>\n",
       "    </tr>\n",
       "    <tr>\n",
       "      <th>473</th>\n",
       "      <td>high</td>\n",
       "      <td>vhigh</td>\n",
       "      <td>3</td>\n",
       "      <td>4</td>\n",
       "      <td>med</td>\n",
       "      <td>high</td>\n",
       "    </tr>\n",
       "    <tr>\n",
       "      <th>1241</th>\n",
       "      <td>med</td>\n",
       "      <td>low</td>\n",
       "      <td>3</td>\n",
       "      <td>more</td>\n",
       "      <td>big</td>\n",
       "      <td>high</td>\n",
       "    </tr>\n",
       "  </tbody>\n",
       "</table>\n",
       "</div>"
      ],
      "text/plain": [
       "          0      1      2     3    4     5\n",
       "41    vhigh  vhigh      3     4  med  high\n",
       "899     med  vhigh      3     2  big  high\n",
       "842    high    low  5more     2  med  high\n",
       "473    high  vhigh      3     4  med  high\n",
       "1241    med    low      3  more  big  high"
      ]
     },
     "execution_count": 146,
     "metadata": {},
     "output_type": "execute_result"
    }
   ],
   "source": [
    "x_train.head()"
   ]
  },
  {
   "cell_type": "code",
   "execution_count": 147,
   "metadata": {},
   "outputs": [
    {
     "data": {
      "text/plain": [
       "((1200, 6), (527, 6))"
      ]
     },
     "execution_count": 147,
     "metadata": {},
     "output_type": "execute_result"
    }
   ],
   "source": [
    "x_train.shape, x_val.shape"
   ]
  },
  {
   "cell_type": "code",
   "execution_count": 148,
   "metadata": {},
   "outputs": [
    {
     "data": {
      "text/plain": [
       "0    object\n",
       "1    object\n",
       "2    object\n",
       "3    object\n",
       "4    object\n",
       "5    object\n",
       "dtype: object"
      ]
     },
     "execution_count": 148,
     "metadata": {},
     "output_type": "execute_result"
    }
   ],
   "source": [
    "x_train.dtypes"
   ]
  },
  {
   "cell_type": "code",
   "execution_count": 149,
   "metadata": {},
   "outputs": [],
   "source": [
    "class Data:\n",
    "    def __init__(self, x, y):\n",
    "        self.x, self.y= x.copy(), y.copy()"
   ]
  },
  {
   "cell_type": "code",
   "execution_count": 150,
   "metadata": {},
   "outputs": [],
   "source": [
    "train, val= Data(x_train, y_train), Data(x_val, y_val)"
   ]
  },
  {
   "cell_type": "code",
   "execution_count": 151,
   "metadata": {},
   "outputs": [],
   "source": [
    "def frames_encoder(df):\n",
    "    cat_dict={}\n",
    "    for col in df.columns:\n",
    "        if df[col].dtype=='object':\n",
    "            cat_dict[col]=OrderedDict(map(reversed, enumerate(df[col].unique())))\n",
    "    return cat_dict\n",
    "\n",
    "def encode_data(train, val):\n",
    "    d= frames_encoder(train.x)\n",
    "    for col in train.x.columns:\n",
    "        if train.x[col].dtype=='O':\n",
    "            train.x.loc[:,col].replace(d[col], inplace=True)\n",
    "            val.x.loc[:,col].replace(d[col], inplace=True)\n",
    "    return d"
   ]
  },
  {
   "cell_type": "code",
   "execution_count": 152,
   "metadata": {},
   "outputs": [
    {
     "data": {
      "text/plain": [
       "{0: OrderedDict([('vhigh', 0), ('med', 1), ('high', 2), ('low', 3)]),\n",
       " 1: OrderedDict([('vhigh', 0), ('low', 1), ('med', 2), ('high', 3)]),\n",
       " 2: OrderedDict([('3', 0), ('5more', 1), ('4', 2), ('2', 3)]),\n",
       " 3: OrderedDict([('4', 0), ('2', 1), ('more', 2)]),\n",
       " 4: OrderedDict([('med', 0), ('big', 1), ('small', 2)]),\n",
       " 5: OrderedDict([('high', 0), ('med', 1), ('low', 2)])}"
      ]
     },
     "execution_count": 152,
     "metadata": {},
     "output_type": "execute_result"
    }
   ],
   "source": [
    "encode_data(train, val)"
   ]
  },
  {
   "cell_type": "code",
   "execution_count": 155,
   "metadata": {},
   "outputs": [],
   "source": [
    "def encode_y(train, val):\n",
    "    d=OrderedDict(map(reversed, enumerate(train.y.unique())))\n",
    "    train.y.replace(d, inplace=True), val.y.replace(d, inplace=True)\n",
    "    return d"
   ]
  },
  {
   "cell_type": "code",
   "execution_count": 156,
   "metadata": {},
   "outputs": [
    {
     "data": {
      "text/plain": [
       "OrderedDict([('unacc', 0), ('vgood', 1), ('acc', 2), ('good', 3)])"
      ]
     },
     "execution_count": 156,
     "metadata": {},
     "output_type": "execute_result"
    }
   ],
   "source": [
    "encode_y(train, val)"
   ]
  },
  {
   "cell_type": "code",
   "execution_count": 159,
   "metadata": {},
   "outputs": [
    {
     "data": {
      "text/plain": [
       "[4, 4, 4, 3, 3, 3]"
      ]
     },
     "execution_count": 159,
     "metadata": {},
     "output_type": "execute_result"
    }
   ],
   "source": [
    "cat_levels = [len(np.unique(train.x[col].values)) for col in train.x.columns]\n",
    "cat_levels"
   ]
  },
  {
   "cell_type": "code",
   "execution_count": 172,
   "metadata": {},
   "outputs": [],
   "source": [
    "class TabularModel(nn.Module):\n",
    "    def __init__(self, cat_levels, emb_size=5, n_class=4):\n",
    "        super().__init__()\n",
    "        self.embs = nn.ModuleList([nn.Embedding(c, emb_size) for c in cat_levels])\n",
    "        self.lin1 = nn.Linear(6*emb_size, 20)\n",
    "        self.lin2 = nn.Linear(20, n_class)\n",
    "        self.bn = nn.BatchNorm1d(20)\n",
    "        self.emb_drop = nn.Dropout(0.2)\n",
    "        self.drops = nn.Dropout(0.2)\n",
    "\n",
    "    def forward(self, x):\n",
    "        # try to write a shorter code\n",
    "        e0 = self.embs[0](x[:,0])\n",
    "        e1 = self.embs[1](x[:,1])\n",
    "        e2 = self.embs[2](x[:,2])\n",
    "        e3 = self.embs[3](x[:,3])\n",
    "        e4 = self.embs[4](x[:,4])\n",
    "        e5 = self.embs[5](x[:,5])\n",
    "        x = torch.cat([e0, e1, e2, e3, e4, e5], 1)\n",
    "        x = self.emb_drop(x)\n",
    "        x = F.relu(self.lin1(x))\n",
    "        x = self.drops(x)\n",
    "        x = self.bn(x)\n",
    "        x = self.lin2(x)\n",
    "        return x"
   ]
  },
  {
   "cell_type": "code",
   "execution_count": 174,
   "metadata": {},
   "outputs": [],
   "source": [
    "embs=nn.ModuleList([nn.Embedding(c, 5) for c in cat_levels])"
   ]
  },
  {
   "cell_type": "code",
   "execution_count": 175,
   "metadata": {},
   "outputs": [
    {
     "data": {
      "text/plain": [
       "ModuleList(\n",
       "  (0): Embedding(4, 5)\n",
       "  (1): Embedding(4, 5)\n",
       "  (2): Embedding(4, 5)\n",
       "  (3): Embedding(3, 5)\n",
       "  (4): Embedding(3, 5)\n",
       "  (5): Embedding(3, 5)\n",
       ")"
      ]
     },
     "execution_count": 175,
     "metadata": {},
     "output_type": "execute_result"
    }
   ],
   "source": [
    "embs"
   ]
  },
  {
   "cell_type": "code",
   "execution_count": 176,
   "metadata": {},
   "outputs": [],
   "source": [
    "def get_optimizer(model, lr = 0.01, wd = 0.0):\n",
    "    optim = torch.optim.Adam(model.parameters(), lr=lr, weight_decay=wd)\n",
    "    return optim"
   ]
  },
  {
   "cell_type": "code",
   "execution_count": 177,
   "metadata": {},
   "outputs": [],
   "source": [
    "x_train = torch.LongTensor(train.x.values)\n",
    "y_train = torch.LongTensor(train.y.values)"
   ]
  },
  {
   "cell_type": "code",
   "execution_count": 178,
   "metadata": {
    "scrolled": true
   },
   "outputs": [],
   "source": [
    "x_val=torch.LongTensor(val.x.values)\n",
    "y_val=torch.LongTensor(val.y.values)"
   ]
  },
  {
   "cell_type": "code",
   "execution_count": 179,
   "metadata": {},
   "outputs": [],
   "source": [
    "def val_metric(model):\n",
    "    model.eval()\n",
    "    correct = 0\n",
    "    out = model(x_val)\n",
    "    loss = F.cross_entropy(out, y_val)\n",
    "    pred = torch.max(out, 1)[1]\n",
    "    correct += (pred == y_val).float().sum().item()\n",
    "    return loss, correct/y_val.shape[0]"
   ]
  },
  {
   "cell_type": "code",
   "execution_count": 180,
   "metadata": {},
   "outputs": [],
   "source": [
    "model = TabularModel(cat_levels)\n",
    "optim = get_optimizer(model, lr = 0.01, wd = 0.0)"
   ]
  },
  {
   "cell_type": "code",
   "execution_count": 181,
   "metadata": {},
   "outputs": [],
   "source": [
    "def train_model(model, optim, epochs=5):\n",
    "    for i in range(epochs):\n",
    "        model.train()\n",
    "        out = model(x_train)\n",
    "        loss = F.cross_entropy(out, y_train)   \n",
    "        optim.zero_grad()\n",
    "        loss.backward()\n",
    "        optim.step()\n",
    "        val_loss, val_acc = val_metric(model)\n",
    "        if i % 15 == 0: \n",
    "            print(\"train loss %.3f val loss %.3f and accuracy %.3f\" % (loss, val_loss, val_acc))"
   ]
  },
  {
   "cell_type": "code",
   "execution_count": 182,
   "metadata": {
    "scrolled": true
   },
   "outputs": [
    {
     "name": "stdout",
     "output_type": "stream",
     "text": [
      "train loss 1.461 val loss 1.160 and accuracy 0.694\n",
      "train loss 0.779 val loss 0.634 and accuracy 0.776\n",
      "train loss 0.494 val loss 0.399 and accuracy 0.871\n",
      "train loss 0.344 val loss 0.290 and accuracy 0.901\n",
      "train loss 0.278 val loss 0.242 and accuracy 0.918\n",
      "train loss 0.264 val loss 0.200 and accuracy 0.943\n",
      "train loss 0.235 val loss 0.179 and accuracy 0.941\n",
      "train loss 0.224 val loss 0.177 and accuracy 0.939\n",
      "train loss 0.221 val loss 0.161 and accuracy 0.941\n",
      "train loss 0.216 val loss 0.140 and accuracy 0.947\n"
     ]
    }
   ],
   "source": [
    "train_model(model, optim, epochs=150)"
   ]
  },
  {
   "cell_type": "code",
   "execution_count": null,
   "metadata": {},
   "outputs": [],
   "source": []
  },
  {
   "cell_type": "code",
   "execution_count": 185,
   "metadata": {},
   "outputs": [
    {
     "data": {
      "text/plain": [
       "['data_dictionary.txt',\n",
       " 'macro.csv.zip',\n",
       " 'New folder',\n",
       " 'sample_submission.csv.zip',\n",
       " 'test.csv',\n",
       " 'train.csv',\n",
       " '__MACOSX']"
      ]
     },
     "execution_count": 185,
     "metadata": {},
     "output_type": "execute_result"
    }
   ],
   "source": [
    "path_data=Path(r'd:\\datasets\\new_datasets\\sberbank-russian-housing-market')\n",
    "path_data.ls()"
   ]
  },
  {
   "cell_type": "code",
   "execution_count": 186,
   "metadata": {},
   "outputs": [
    {
     "data": {
      "text/html": [
       "<div>\n",
       "<style scoped>\n",
       "    .dataframe tbody tr th:only-of-type {\n",
       "        vertical-align: middle;\n",
       "    }\n",
       "\n",
       "    .dataframe tbody tr th {\n",
       "        vertical-align: top;\n",
       "    }\n",
       "\n",
       "    .dataframe thead th {\n",
       "        text-align: right;\n",
       "    }\n",
       "</style>\n",
       "<table border=\"1\" class=\"dataframe\">\n",
       "  <thead>\n",
       "    <tr style=\"text-align: right;\">\n",
       "      <th></th>\n",
       "      <th>id</th>\n",
       "      <th>timestamp</th>\n",
       "      <th>full_sq</th>\n",
       "      <th>life_sq</th>\n",
       "      <th>floor</th>\n",
       "      <th>max_floor</th>\n",
       "      <th>material</th>\n",
       "      <th>build_year</th>\n",
       "      <th>num_room</th>\n",
       "      <th>kitch_sq</th>\n",
       "      <th>...</th>\n",
       "      <th>cafe_count_5000_price_2500</th>\n",
       "      <th>cafe_count_5000_price_4000</th>\n",
       "      <th>cafe_count_5000_price_high</th>\n",
       "      <th>big_church_count_5000</th>\n",
       "      <th>church_count_5000</th>\n",
       "      <th>mosque_count_5000</th>\n",
       "      <th>leisure_count_5000</th>\n",
       "      <th>sport_count_5000</th>\n",
       "      <th>market_count_5000</th>\n",
       "      <th>price_doc</th>\n",
       "    </tr>\n",
       "  </thead>\n",
       "  <tbody>\n",
       "    <tr>\n",
       "      <th>0</th>\n",
       "      <td>1</td>\n",
       "      <td>2011-08-20</td>\n",
       "      <td>43</td>\n",
       "      <td>27.0</td>\n",
       "      <td>4.0</td>\n",
       "      <td>NaN</td>\n",
       "      <td>NaN</td>\n",
       "      <td>NaN</td>\n",
       "      <td>NaN</td>\n",
       "      <td>NaN</td>\n",
       "      <td>...</td>\n",
       "      <td>9</td>\n",
       "      <td>4</td>\n",
       "      <td>0</td>\n",
       "      <td>13</td>\n",
       "      <td>22</td>\n",
       "      <td>1</td>\n",
       "      <td>0</td>\n",
       "      <td>52</td>\n",
       "      <td>4</td>\n",
       "      <td>5850000</td>\n",
       "    </tr>\n",
       "    <tr>\n",
       "      <th>1</th>\n",
       "      <td>2</td>\n",
       "      <td>2011-08-23</td>\n",
       "      <td>34</td>\n",
       "      <td>19.0</td>\n",
       "      <td>3.0</td>\n",
       "      <td>NaN</td>\n",
       "      <td>NaN</td>\n",
       "      <td>NaN</td>\n",
       "      <td>NaN</td>\n",
       "      <td>NaN</td>\n",
       "      <td>...</td>\n",
       "      <td>15</td>\n",
       "      <td>3</td>\n",
       "      <td>0</td>\n",
       "      <td>15</td>\n",
       "      <td>29</td>\n",
       "      <td>1</td>\n",
       "      <td>10</td>\n",
       "      <td>66</td>\n",
       "      <td>14</td>\n",
       "      <td>6000000</td>\n",
       "    </tr>\n",
       "    <tr>\n",
       "      <th>2</th>\n",
       "      <td>3</td>\n",
       "      <td>2011-08-27</td>\n",
       "      <td>43</td>\n",
       "      <td>29.0</td>\n",
       "      <td>2.0</td>\n",
       "      <td>NaN</td>\n",
       "      <td>NaN</td>\n",
       "      <td>NaN</td>\n",
       "      <td>NaN</td>\n",
       "      <td>NaN</td>\n",
       "      <td>...</td>\n",
       "      <td>10</td>\n",
       "      <td>3</td>\n",
       "      <td>0</td>\n",
       "      <td>11</td>\n",
       "      <td>27</td>\n",
       "      <td>0</td>\n",
       "      <td>4</td>\n",
       "      <td>67</td>\n",
       "      <td>10</td>\n",
       "      <td>5700000</td>\n",
       "    </tr>\n",
       "    <tr>\n",
       "      <th>3</th>\n",
       "      <td>4</td>\n",
       "      <td>2011-09-01</td>\n",
       "      <td>89</td>\n",
       "      <td>50.0</td>\n",
       "      <td>9.0</td>\n",
       "      <td>NaN</td>\n",
       "      <td>NaN</td>\n",
       "      <td>NaN</td>\n",
       "      <td>NaN</td>\n",
       "      <td>NaN</td>\n",
       "      <td>...</td>\n",
       "      <td>11</td>\n",
       "      <td>2</td>\n",
       "      <td>1</td>\n",
       "      <td>4</td>\n",
       "      <td>4</td>\n",
       "      <td>0</td>\n",
       "      <td>0</td>\n",
       "      <td>26</td>\n",
       "      <td>3</td>\n",
       "      <td>13100000</td>\n",
       "    </tr>\n",
       "    <tr>\n",
       "      <th>4</th>\n",
       "      <td>5</td>\n",
       "      <td>2011-09-05</td>\n",
       "      <td>77</td>\n",
       "      <td>77.0</td>\n",
       "      <td>4.0</td>\n",
       "      <td>NaN</td>\n",
       "      <td>NaN</td>\n",
       "      <td>NaN</td>\n",
       "      <td>NaN</td>\n",
       "      <td>NaN</td>\n",
       "      <td>...</td>\n",
       "      <td>319</td>\n",
       "      <td>108</td>\n",
       "      <td>17</td>\n",
       "      <td>135</td>\n",
       "      <td>236</td>\n",
       "      <td>2</td>\n",
       "      <td>91</td>\n",
       "      <td>195</td>\n",
       "      <td>14</td>\n",
       "      <td>16331452</td>\n",
       "    </tr>\n",
       "  </tbody>\n",
       "</table>\n",
       "<p>5 rows × 292 columns</p>\n",
       "</div>"
      ],
      "text/plain": [
       "   id   timestamp  full_sq  life_sq  floor  max_floor  material  build_year  \\\n",
       "0   1  2011-08-20       43     27.0    4.0        NaN       NaN         NaN   \n",
       "1   2  2011-08-23       34     19.0    3.0        NaN       NaN         NaN   \n",
       "2   3  2011-08-27       43     29.0    2.0        NaN       NaN         NaN   \n",
       "3   4  2011-09-01       89     50.0    9.0        NaN       NaN         NaN   \n",
       "4   5  2011-09-05       77     77.0    4.0        NaN       NaN         NaN   \n",
       "\n",
       "   num_room  kitch_sq  ...  cafe_count_5000_price_2500  \\\n",
       "0       NaN       NaN  ...                           9   \n",
       "1       NaN       NaN  ...                          15   \n",
       "2       NaN       NaN  ...                          10   \n",
       "3       NaN       NaN  ...                          11   \n",
       "4       NaN       NaN  ...                         319   \n",
       "\n",
       "  cafe_count_5000_price_4000 cafe_count_5000_price_high  \\\n",
       "0                          4                          0   \n",
       "1                          3                          0   \n",
       "2                          3                          0   \n",
       "3                          2                          1   \n",
       "4                        108                         17   \n",
       "\n",
       "   big_church_count_5000  church_count_5000  mosque_count_5000  \\\n",
       "0                     13                 22                  1   \n",
       "1                     15                 29                  1   \n",
       "2                     11                 27                  0   \n",
       "3                      4                  4                  0   \n",
       "4                    135                236                  2   \n",
       "\n",
       "   leisure_count_5000  sport_count_5000  market_count_5000  price_doc  \n",
       "0                   0                52                  4    5850000  \n",
       "1                  10                66                 14    6000000  \n",
       "2                   4                67                 10    5700000  \n",
       "3                   0                26                  3   13100000  \n",
       "4                  91               195                 14   16331452  \n",
       "\n",
       "[5 rows x 292 columns]"
      ]
     },
     "execution_count": 186,
     "metadata": {},
     "output_type": "execute_result"
    }
   ],
   "source": [
    "df=pd.read_csv(path_data/'train.csv');df.head()"
   ]
  },
  {
   "cell_type": "code",
   "execution_count": 187,
   "metadata": {},
   "outputs": [
    {
     "data": {
      "text/plain": [
       "(30471, 292)"
      ]
     },
     "execution_count": 187,
     "metadata": {},
     "output_type": "execute_result"
    }
   ],
   "source": [
    "df.shape"
   ]
  },
  {
   "cell_type": "code",
   "execution_count": 190,
   "metadata": {},
   "outputs": [
    {
     "data": {
      "text/html": [
       "<div>\n",
       "<style scoped>\n",
       "    .dataframe tbody tr th:only-of-type {\n",
       "        vertical-align: middle;\n",
       "    }\n",
       "\n",
       "    .dataframe tbody tr th {\n",
       "        vertical-align: top;\n",
       "    }\n",
       "\n",
       "    .dataframe thead th {\n",
       "        text-align: right;\n",
       "    }\n",
       "</style>\n",
       "<table border=\"1\" class=\"dataframe\">\n",
       "  <thead>\n",
       "    <tr style=\"text-align: right;\">\n",
       "      <th></th>\n",
       "      <th>0</th>\n",
       "    </tr>\n",
       "  </thead>\n",
       "  <tbody>\n",
       "    <tr>\n",
       "      <th>id</th>\n",
       "      <td>0.000000</td>\n",
       "    </tr>\n",
       "    <tr>\n",
       "      <th>timestamp</th>\n",
       "      <td>0.000000</td>\n",
       "    </tr>\n",
       "    <tr>\n",
       "      <th>full_sq</th>\n",
       "      <td>0.000000</td>\n",
       "    </tr>\n",
       "    <tr>\n",
       "      <th>life_sq</th>\n",
       "      <td>0.209478</td>\n",
       "    </tr>\n",
       "    <tr>\n",
       "      <th>floor</th>\n",
       "      <td>0.005481</td>\n",
       "    </tr>\n",
       "  </tbody>\n",
       "</table>\n",
       "</div>"
      ],
      "text/plain": [
       "                  0\n",
       "id         0.000000\n",
       "timestamp  0.000000\n",
       "full_sq    0.000000\n",
       "life_sq    0.209478\n",
       "floor      0.005481"
      ]
     },
     "execution_count": 190,
     "metadata": {},
     "output_type": "execute_result"
    }
   ],
   "source": [
    "mis=pd.DataFrame(df.isna().mean()); mis.head()"
   ]
  },
  {
   "cell_type": "code",
   "execution_count": 192,
   "metadata": {},
   "outputs": [
    {
     "data": {
      "text/html": [
       "<div>\n",
       "<style scoped>\n",
       "    .dataframe tbody tr th:only-of-type {\n",
       "        vertical-align: middle;\n",
       "    }\n",
       "\n",
       "    .dataframe tbody tr th {\n",
       "        vertical-align: top;\n",
       "    }\n",
       "\n",
       "    .dataframe thead th {\n",
       "        text-align: right;\n",
       "    }\n",
       "</style>\n",
       "<table border=\"1\" class=\"dataframe\">\n",
       "  <thead>\n",
       "    <tr style=\"text-align: right;\">\n",
       "      <th></th>\n",
       "      <th>0</th>\n",
       "    </tr>\n",
       "  </thead>\n",
       "  <tbody>\n",
       "    <tr>\n",
       "      <th>life_sq</th>\n",
       "      <td>0.209478</td>\n",
       "    </tr>\n",
       "    <tr>\n",
       "      <th>floor</th>\n",
       "      <td>0.005481</td>\n",
       "    </tr>\n",
       "    <tr>\n",
       "      <th>max_floor</th>\n",
       "      <td>0.314135</td>\n",
       "    </tr>\n",
       "    <tr>\n",
       "      <th>material</th>\n",
       "      <td>0.314135</td>\n",
       "    </tr>\n",
       "    <tr>\n",
       "      <th>build_year</th>\n",
       "      <td>0.446490</td>\n",
       "    </tr>\n",
       "    <tr>\n",
       "      <th>num_room</th>\n",
       "      <td>0.314135</td>\n",
       "    </tr>\n",
       "    <tr>\n",
       "      <th>kitch_sq</th>\n",
       "      <td>0.314135</td>\n",
       "    </tr>\n",
       "    <tr>\n",
       "      <th>state</th>\n",
       "      <td>0.444980</td>\n",
       "    </tr>\n",
       "    <tr>\n",
       "      <th>preschool_quota</th>\n",
       "      <td>0.219487</td>\n",
       "    </tr>\n",
       "    <tr>\n",
       "      <th>school_quota</th>\n",
       "      <td>0.219389</td>\n",
       "    </tr>\n",
       "    <tr>\n",
       "      <th>hospital_beds_raion</th>\n",
       "      <td>0.473926</td>\n",
       "    </tr>\n",
       "    <tr>\n",
       "      <th>raion_build_count_with_material_info</th>\n",
       "      <td>0.163795</td>\n",
       "    </tr>\n",
       "    <tr>\n",
       "      <th>build_count_block</th>\n",
       "      <td>0.163795</td>\n",
       "    </tr>\n",
       "    <tr>\n",
       "      <th>build_count_wood</th>\n",
       "      <td>0.163795</td>\n",
       "    </tr>\n",
       "    <tr>\n",
       "      <th>build_count_frame</th>\n",
       "      <td>0.163795</td>\n",
       "    </tr>\n",
       "    <tr>\n",
       "      <th>build_count_brick</th>\n",
       "      <td>0.163795</td>\n",
       "    </tr>\n",
       "    <tr>\n",
       "      <th>build_count_monolith</th>\n",
       "      <td>0.163795</td>\n",
       "    </tr>\n",
       "    <tr>\n",
       "      <th>build_count_panel</th>\n",
       "      <td>0.163795</td>\n",
       "    </tr>\n",
       "    <tr>\n",
       "      <th>build_count_foam</th>\n",
       "      <td>0.163795</td>\n",
       "    </tr>\n",
       "    <tr>\n",
       "      <th>build_count_slag</th>\n",
       "      <td>0.163795</td>\n",
       "    </tr>\n",
       "    <tr>\n",
       "      <th>build_count_mix</th>\n",
       "      <td>0.163795</td>\n",
       "    </tr>\n",
       "    <tr>\n",
       "      <th>raion_build_count_with_builddate_info</th>\n",
       "      <td>0.163795</td>\n",
       "    </tr>\n",
       "    <tr>\n",
       "      <th>build_count_before_1920</th>\n",
       "      <td>0.163795</td>\n",
       "    </tr>\n",
       "    <tr>\n",
       "      <th>build_count_1921-1945</th>\n",
       "      <td>0.163795</td>\n",
       "    </tr>\n",
       "    <tr>\n",
       "      <th>build_count_1946-1970</th>\n",
       "      <td>0.163795</td>\n",
       "    </tr>\n",
       "    <tr>\n",
       "      <th>build_count_1971-1995</th>\n",
       "      <td>0.163795</td>\n",
       "    </tr>\n",
       "    <tr>\n",
       "      <th>build_count_after_1995</th>\n",
       "      <td>0.163795</td>\n",
       "    </tr>\n",
       "    <tr>\n",
       "      <th>metro_min_walk</th>\n",
       "      <td>0.000820</td>\n",
       "    </tr>\n",
       "    <tr>\n",
       "      <th>metro_km_walk</th>\n",
       "      <td>0.000820</td>\n",
       "    </tr>\n",
       "    <tr>\n",
       "      <th>railroad_station_walk_km</th>\n",
       "      <td>0.000820</td>\n",
       "    </tr>\n",
       "    <tr>\n",
       "      <th>railroad_station_walk_min</th>\n",
       "      <td>0.000820</td>\n",
       "    </tr>\n",
       "    <tr>\n",
       "      <th>ID_railroad_station_walk</th>\n",
       "      <td>0.000820</td>\n",
       "    </tr>\n",
       "    <tr>\n",
       "      <th>cafe_sum_500_min_price_avg</th>\n",
       "      <td>0.435857</td>\n",
       "    </tr>\n",
       "    <tr>\n",
       "      <th>cafe_sum_500_max_price_avg</th>\n",
       "      <td>0.435857</td>\n",
       "    </tr>\n",
       "    <tr>\n",
       "      <th>cafe_avg_price_500</th>\n",
       "      <td>0.435857</td>\n",
       "    </tr>\n",
       "    <tr>\n",
       "      <th>cafe_sum_1000_min_price_avg</th>\n",
       "      <td>0.214105</td>\n",
       "    </tr>\n",
       "    <tr>\n",
       "      <th>cafe_sum_1000_max_price_avg</th>\n",
       "      <td>0.214105</td>\n",
       "    </tr>\n",
       "    <tr>\n",
       "      <th>cafe_avg_price_1000</th>\n",
       "      <td>0.214105</td>\n",
       "    </tr>\n",
       "    <tr>\n",
       "      <th>cafe_sum_1500_min_price_avg</th>\n",
       "      <td>0.137803</td>\n",
       "    </tr>\n",
       "    <tr>\n",
       "      <th>cafe_sum_1500_max_price_avg</th>\n",
       "      <td>0.137803</td>\n",
       "    </tr>\n",
       "    <tr>\n",
       "      <th>cafe_avg_price_1500</th>\n",
       "      <td>0.137803</td>\n",
       "    </tr>\n",
       "    <tr>\n",
       "      <th>cafe_sum_2000_min_price_avg</th>\n",
       "      <td>0.056611</td>\n",
       "    </tr>\n",
       "    <tr>\n",
       "      <th>cafe_sum_2000_max_price_avg</th>\n",
       "      <td>0.056611</td>\n",
       "    </tr>\n",
       "    <tr>\n",
       "      <th>cafe_avg_price_2000</th>\n",
       "      <td>0.056611</td>\n",
       "    </tr>\n",
       "    <tr>\n",
       "      <th>cafe_sum_3000_min_price_avg</th>\n",
       "      <td>0.032523</td>\n",
       "    </tr>\n",
       "    <tr>\n",
       "      <th>cafe_sum_3000_max_price_avg</th>\n",
       "      <td>0.032523</td>\n",
       "    </tr>\n",
       "    <tr>\n",
       "      <th>cafe_avg_price_3000</th>\n",
       "      <td>0.032523</td>\n",
       "    </tr>\n",
       "    <tr>\n",
       "      <th>prom_part_5000</th>\n",
       "      <td>0.005842</td>\n",
       "    </tr>\n",
       "    <tr>\n",
       "      <th>cafe_sum_5000_min_price_avg</th>\n",
       "      <td>0.009747</td>\n",
       "    </tr>\n",
       "    <tr>\n",
       "      <th>cafe_sum_5000_max_price_avg</th>\n",
       "      <td>0.009747</td>\n",
       "    </tr>\n",
       "    <tr>\n",
       "      <th>cafe_avg_price_5000</th>\n",
       "      <td>0.009747</td>\n",
       "    </tr>\n",
       "  </tbody>\n",
       "</table>\n",
       "</div>"
      ],
      "text/plain": [
       "                                              0\n",
       "life_sq                                0.209478\n",
       "floor                                  0.005481\n",
       "max_floor                              0.314135\n",
       "material                               0.314135\n",
       "build_year                             0.446490\n",
       "num_room                               0.314135\n",
       "kitch_sq                               0.314135\n",
       "state                                  0.444980\n",
       "preschool_quota                        0.219487\n",
       "school_quota                           0.219389\n",
       "hospital_beds_raion                    0.473926\n",
       "raion_build_count_with_material_info   0.163795\n",
       "build_count_block                      0.163795\n",
       "build_count_wood                       0.163795\n",
       "build_count_frame                      0.163795\n",
       "build_count_brick                      0.163795\n",
       "build_count_monolith                   0.163795\n",
       "build_count_panel                      0.163795\n",
       "build_count_foam                       0.163795\n",
       "build_count_slag                       0.163795\n",
       "build_count_mix                        0.163795\n",
       "raion_build_count_with_builddate_info  0.163795\n",
       "build_count_before_1920                0.163795\n",
       "build_count_1921-1945                  0.163795\n",
       "build_count_1946-1970                  0.163795\n",
       "build_count_1971-1995                  0.163795\n",
       "build_count_after_1995                 0.163795\n",
       "metro_min_walk                         0.000820\n",
       "metro_km_walk                          0.000820\n",
       "railroad_station_walk_km               0.000820\n",
       "railroad_station_walk_min              0.000820\n",
       "ID_railroad_station_walk               0.000820\n",
       "cafe_sum_500_min_price_avg             0.435857\n",
       "cafe_sum_500_max_price_avg             0.435857\n",
       "cafe_avg_price_500                     0.435857\n",
       "cafe_sum_1000_min_price_avg            0.214105\n",
       "cafe_sum_1000_max_price_avg            0.214105\n",
       "cafe_avg_price_1000                    0.214105\n",
       "cafe_sum_1500_min_price_avg            0.137803\n",
       "cafe_sum_1500_max_price_avg            0.137803\n",
       "cafe_avg_price_1500                    0.137803\n",
       "cafe_sum_2000_min_price_avg            0.056611\n",
       "cafe_sum_2000_max_price_avg            0.056611\n",
       "cafe_avg_price_2000                    0.056611\n",
       "cafe_sum_3000_min_price_avg            0.032523\n",
       "cafe_sum_3000_max_price_avg            0.032523\n",
       "cafe_avg_price_3000                    0.032523\n",
       "prom_part_5000                         0.005842\n",
       "cafe_sum_5000_min_price_avg            0.009747\n",
       "cafe_sum_5000_max_price_avg            0.009747\n",
       "cafe_avg_price_5000                    0.009747"
      ]
     },
     "execution_count": 192,
     "metadata": {},
     "output_type": "execute_result"
    }
   ],
   "source": [
    "mis[mis.iloc[:,0]>0]"
   ]
  },
  {
   "cell_type": "code",
   "execution_count": null,
   "metadata": {},
   "outputs": [],
   "source": []
  }
 ],
 "metadata": {
  "kernelspec": {
   "display_name": "python (dl)",
   "language": "python",
   "name": "dl"
  },
  "language_info": {
   "codemirror_mode": {
    "name": "ipython",
    "version": 3
   },
   "file_extension": ".py",
   "mimetype": "text/x-python",
   "name": "python",
   "nbconvert_exporter": "python",
   "pygments_lexer": "ipython3",
   "version": "3.7.6"
  }
 },
 "nbformat": 4,
 "nbformat_minor": 2
}
