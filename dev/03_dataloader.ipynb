{
 "cells": [
  {
   "cell_type": "code",
   "execution_count": 59,
   "metadata": {},
   "outputs": [],
   "source": [
    "#export\n",
    "from export.nb_02 import *\n",
    "from mimetypes import types_map\n",
    "from collections import OrderedDict\n",
    "from PIL import Image\n",
    "from numpy import array"
   ]
  },
  {
   "cell_type": "code",
   "execution_count": 2,
   "metadata": {},
   "outputs": [
    {
     "data": {
      "text/plain": [
       "['imagenette2-160.tar', 'train', 'val']"
      ]
     },
     "execution_count": 2,
     "metadata": {},
     "output_type": "execute_result"
    }
   ],
   "source": [
    "data_path=Path(r'd:\\datasets\\data\\imagenette2-160')\n",
    "\n",
    "data_path.ls()"
   ]
  },
  {
   "cell_type": "code",
   "execution_count": 3,
   "metadata": {},
   "outputs": [],
   "source": [
    "#export\n",
    "def get_extensions(file_type):  return [i for i,j in types_map.items() if j.startswith(file_type)]"
   ]
  },
  {
   "cell_type": "code",
   "execution_count": 4,
   "metadata": {},
   "outputs": [],
   "source": [
    "#export\n",
    "image_extensions= get_extensions('image')"
   ]
  },
  {
   "cell_type": "code",
   "execution_count": 5,
   "metadata": {},
   "outputs": [],
   "source": [
    "#export\n",
    "def dir_files(p, fs, extensions=None):\n",
    "    p=Path(p)\n",
    "    files=[p/f for f in fs if not f.startswith('.')\n",
    "          and ((not extensions) or f'.{f.split(\".\")[-1].lower()}' in extensions)]\n",
    "    return files"
   ]
  },
  {
   "cell_type": "code",
   "execution_count": 6,
   "metadata": {},
   "outputs": [],
   "source": [
    "#export\n",
    "def get_files(root:Path, recurse=False, extensions=None):\n",
    "    root= Path(root)\n",
    "    if recurse:\n",
    "        res=[]\n",
    "        for p,d,f in os.walk(root):\n",
    "            d[:] = [o for o in d if not o.startswith('.')]\n",
    "            res+=dir_files(p, f, extensions)\n",
    "        return res\n",
    "    else:\n",
    "        f=[o.name for o in os.scandir(root) if o.is_file()]\n",
    "        return dir_files(root, f, extensions)"
   ]
  },
  {
   "cell_type": "code",
   "execution_count": 7,
   "metadata": {},
   "outputs": [],
   "source": [
    "img_files=get_files(data_path, recurse=True, extensions=image_extensions)\n",
    "img_class=[i.parent.name for i in img_files]"
   ]
  },
  {
   "cell_type": "code",
   "execution_count": 29,
   "metadata": {},
   "outputs": [
    {
     "data": {
      "text/plain": [
       "OrderedDict([('c', 0), ('a', 1), ('b', 2)])"
      ]
     },
     "execution_count": 29,
     "metadata": {},
     "output_type": "execute_result"
    }
   ],
   "source": [
    "OrderedDict(map(reversed, enumerate(set(b))))"
   ]
  },
  {
   "cell_type": "code",
   "execution_count": 33,
   "metadata": {},
   "outputs": [],
   "source": [
    "#export\n",
    "class Labeler():\n",
    "    def __init__(self, y_train):\n",
    "        self.label_dict=OrderedDict(map(reversed, enumerate(set(y_train))))\n",
    "        \n",
    "    def transform(self, ys):\n",
    "        return [self.label_dict[i] for i in ys]"
   ]
  },
  {
   "cell_type": "code",
   "execution_count": 37,
   "metadata": {},
   "outputs": [],
   "source": [
    "train_img=[i for i in img_files if i.parent.parent.name=='train']\n",
    "val_img=[i for i in img_files if i.parent.parent.name!='train']\n",
    "train_label=[i.parent.name for i in train_img]\n",
    "val_label=[i.parent.name for i in val_img]"
   ]
  },
  {
   "cell_type": "code",
   "execution_count": 38,
   "metadata": {},
   "outputs": [],
   "source": [
    "labels=Labeler(train_label)\n",
    "y_train=labels.transform(train_label)\n",
    "y_val=labels.transform(val_label)"
   ]
  },
  {
   "cell_type": "code",
   "execution_count": 39,
   "metadata": {},
   "outputs": [],
   "source": [
    "assert len(y_train)==len(train_img)\n",
    "assert len(y_val)==len(val_img)"
   ]
  },
  {
   "cell_type": "code",
   "execution_count": 40,
   "metadata": {},
   "outputs": [
    {
     "data": {
      "text/plain": [
       "(3925, 3925)"
      ]
     },
     "execution_count": 40,
     "metadata": {},
     "output_type": "execute_result"
    }
   ],
   "source": [
    "len(y_val), len(val_img)"
   ]
  },
  {
   "cell_type": "code",
   "execution_count": 90,
   "metadata": {},
   "outputs": [
    {
     "data": {
      "text/plain": [
       "torch.Size([160, 213, 3])"
      ]
     },
     "execution_count": 90,
     "metadata": {},
     "output_type": "execute_result"
    }
   ],
   "source": [
    "torch.tensor(array(Image.open(train_img[0])), dtype=torch.uint8).shape"
   ]
  },
  {
   "cell_type": "code",
   "execution_count": null,
   "metadata": {},
   "outputs": [],
   "source": []
  },
  {
   "cell_type": "code",
   "execution_count": 80,
   "metadata": {},
   "outputs": [],
   "source": [
    "#export\n",
    "class Dataset():\n",
    "    def __init__(self, x, y):\n",
    "        self.x, self.y= x, y\n",
    "        \n",
    "    def __getitem__(self, i):\n",
    "        return torch.tensor(array(Image.open(self.x[i])), dtype=torch.uint8), self.y[i]\n",
    "    \n",
    "    def __len__(self):\n",
    "        return len(self.x)"
   ]
  },
  {
   "cell_type": "code",
   "execution_count": 81,
   "metadata": {},
   "outputs": [],
   "source": [
    "train_ds, val_ds= Dataset(train_img, y_train), Dataset(val_img, y_val)"
   ]
  },
  {
   "cell_type": "code",
   "execution_count": 86,
   "metadata": {},
   "outputs": [
    {
     "data": {
      "text/plain": [
       "9469"
      ]
     },
     "execution_count": 86,
     "metadata": {},
     "output_type": "execute_result"
    }
   ],
   "source": [
    "len(train_ds)"
   ]
  },
  {
   "cell_type": "code",
   "execution_count": 50,
   "metadata": {},
   "outputs": [],
   "source": [
    "train_dl, valid_dl= DataLoader(train_ds), DataLoader(val_ds)"
   ]
  },
  {
   "cell_type": "code",
   "execution_count": null,
   "metadata": {},
   "outputs": [],
   "source": []
  }
 ],
 "metadata": {
  "kernelspec": {
   "display_name": "python (dl)",
   "language": "python",
   "name": "dl"
  },
  "language_info": {
   "codemirror_mode": {
    "name": "ipython",
    "version": 3
   },
   "file_extension": ".py",
   "mimetype": "text/x-python",
   "name": "python",
   "nbconvert_exporter": "python",
   "pygments_lexer": "ipython3",
   "version": "3.7.6"
  }
 },
 "nbformat": 4,
 "nbformat_minor": 2
}
