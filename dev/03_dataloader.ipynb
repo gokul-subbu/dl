{
 "cells": [
  {
   "cell_type": "code",
   "execution_count": 40,
   "metadata": {},
   "outputs": [],
   "source": [
    "#export\n",
    "from export.nb_02 import *\n",
    "from mimetypes import types_map"
   ]
  },
  {
   "cell_type": "code",
   "execution_count": 41,
   "metadata": {},
   "outputs": [
    {
     "data": {
      "text/plain": [
       "['imagenette2-160.tar', 'train', 'val']"
      ]
     },
     "execution_count": 41,
     "metadata": {},
     "output_type": "execute_result"
    }
   ],
   "source": [
    "data_path=Path(r'd:\\datasets\\data\\imagenette2-160')\n",
    "\n",
    "data_path.ls()"
   ]
  },
  {
   "cell_type": "code",
   "execution_count": 42,
   "metadata": {},
   "outputs": [],
   "source": [
    "#export\n",
    "def get_extensions(file_type):  return [i for i,j in types_map.items() if j.startswith(file_type)]"
   ]
  },
  {
   "cell_type": "code",
   "execution_count": 43,
   "metadata": {},
   "outputs": [],
   "source": [
    "#export\n",
    "image_extensions= get_extensions('image')"
   ]
  },
  {
   "cell_type": "code",
   "execution_count": 57,
   "metadata": {},
   "outputs": [],
   "source": [
    "#export\n",
    "def dir_files(p, fs, extensions=None):\n",
    "    p=Path(p)\n",
    "    files=[p/f for f in fs if not f.startswith('.')\n",
    "          and ((not extensions) or f'.{f.split(\".\")[-1].lower()}' in extensions)]\n",
    "    return files"
   ]
  },
  {
   "cell_type": "code",
   "execution_count": 58,
   "metadata": {},
   "outputs": [],
   "source": [
    "#export\n",
    "def get_files(root:Path, recurse=False, extensions=None):\n",
    "    root= Path(root)\n",
    "    if recurse:\n",
    "        res=[]\n",
    "        for p,d,f in os.walk(root):\n",
    "            d[:] = [o for o in d if not o.startswith('.')]\n",
    "            res+=dir_files(p, f, extensions)\n",
    "        return res\n",
    "    else:\n",
    "        f=[o.name for o in os.scandir(root) if o.is_file()]\n",
    "        return dir_files(root, f, extensions)"
   ]
  },
  {
   "cell_type": "code",
   "execution_count": 64,
   "metadata": {},
   "outputs": [],
   "source": [
    "img_files=get_files(data_path, recurse=True, extensions=image_extensions)\n",
    "img_class=[i.parent.name for i in img_files]"
   ]
  },
  {
   "cell_type": "code",
   "execution_count": 67,
   "metadata": {},
   "outputs": [],
   "source": [
    "class Dataset():\n",
    "    def __init__(self, x, y):\n",
    "        self.x, self.y= x, y\n",
    "        \n",
    "    def __getitem__(self, i):\n",
    "        return self.x[i], self.y[i]\n",
    "    \n",
    "    def __len__(self):\n",
    "        return len(self.x)"
   ]
  },
  {
   "cell_type": "code",
   "execution_count": null,
   "metadata": {},
   "outputs": [],
   "source": []
  }
 ],
 "metadata": {
  "kernelspec": {
   "display_name": "python (dl)",
   "language": "python",
   "name": "dl"
  },
  "language_info": {
   "codemirror_mode": {
    "name": "ipython",
    "version": 3
   },
   "file_extension": ".py",
   "mimetype": "text/x-python",
   "name": "python",
   "nbconvert_exporter": "python",
   "pygments_lexer": "ipython3",
   "version": "3.7.6"
  }
 },
 "nbformat": 4,
 "nbformat_minor": 2
}
