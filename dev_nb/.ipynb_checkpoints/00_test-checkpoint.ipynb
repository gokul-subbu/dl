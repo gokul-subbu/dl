{
 "cells": [
  {
   "cell_type": "code",
   "execution_count": 1,
   "metadata": {},
   "outputs": [],
   "source": [
    "%load_ext autoreload\n",
    "%autoreload 2\n",
    "\n",
    "%matplotlib inline"
   ]
  },
  {
   "cell_type": "code",
   "execution_count": 3,
   "metadata": {},
   "outputs": [],
   "source": [
    "#export\n",
    "\n",
    "import operator\n",
    "from functools import partial\n",
    "from collections import deque\n",
    "from numpy import array, ndarray\n",
    "import pandas as pd\n",
    "from typing import Any, Collection, Callable, NewType, List, Union, TypeVar, Optional, Generator, Iterable\n",
    "import itertools\n",
    "from pandas.api.types import is_categorical_dtype,is_numeric_dtype\n",
    "from numpy import array,ndarray\n",
    "from scipy import ndimage\n",
    "from IPython.core.debugger import set_trace\n",
    "import numpy as np\n",
    "try:\n",
    "    from types import WrapperDescriptorType,MethodWrapperType,MethodDescriptorType\n",
    "except ImportError:\n",
    "    WrapperDescriptorType = type(object.__init__)\n",
    "    MethodWrapperType = type(object().__str__)\n",
    "    MethodDescriptorType = type(str.join)\n",
    "from types import BuiltinFunctionType,BuiltinMethodType,MethodType,FunctionType\n",
    "\n",
    "pd.options.display.max_colwidth = 600\n",
    "NoneType = type(None)\n",
    "string_classes = (str,bytes)"
   ]
  },
  {
   "cell_type": "code",
   "execution_count": 3,
   "metadata": {},
   "outputs": [],
   "source": [
    "#export\n",
    "\n",
    "def all_equal(a,b):\n",
    "    \"Compares whether `a` and `b` are the same length and have the same contents\"\n",
    "    if not is_iter(b): return False\n",
    "    return all(equals(a_,b_) for a_,b_ in itertools.zip_longest(a,b))"
   ]
  },
  {
   "cell_type": "code",
   "execution_count": 4,
   "metadata": {},
   "outputs": [],
   "source": [
    "#export\n",
    "\n",
    "def equals(a,b):\n",
    "    \"Compares `a` and `b` for equality; supports sublists, tensors and arrays too\"\n",
    "    if one_is_instance(a,b,type): return a==b\n",
    "    if hasattr(a, '__array_eq__'): return a.__array_eq__(b)\n",
    "    if hasattr(b, '__array_eq__'): return b.__array_eq__(a)\n",
    "    cmp = (np.array_equal if one_is_instance(a, b, ndarray       ) else\n",
    "           operator.eq    if one_is_instance(a, b, (str,dict,set)) else\n",
    "           all_equal      if is_iter(a) or is_iter(b) else\n",
    "           operator.eq)\n",
    "    return cmp(a,b)"
   ]
  },
  {
   "cell_type": "code",
   "execution_count": 5,
   "metadata": {},
   "outputs": [],
   "source": [
    "#export\n",
    "\n",
    "def test(a, b, cmp, cname=None):\n",
    "    'assert cmp(a,b)'\n",
    "    if cname is None: cname=cmp.__name__\n",
    "    assert cmp(a, b), f'{cname}: \\na\\nb'"
   ]
  },
  {
   "cell_type": "code",
   "execution_count": null,
   "metadata": {},
   "outputs": [],
   "source": [
    "#export\n",
    "def is_iter(o):\n",
    "    \"Test whether `o` can be used in a `for` loop\"\n",
    "    #Rank 0 tensors in PyTorch are not really iterable\n",
    "    return isinstance(o, (Iterable,Generator)) and getattr(o,'ndim',1)\n",
    "\n",
    "def is_coll(o):\n",
    "    \"Test whether `o` is a collection (i.e. has a usable `len`)\"\n",
    "    #Rank 0 tensors in PyTorch do not have working `len`\n",
    "    return hasattr(o, '__len__') and getattr(o,'ndim',1)\n",
    "\n",
    "def all_equal(a,b):\n",
    "    \"Compares whether `a` and `b` are the same length and have the same contents\"\n",
    "    if not is_iter(b): return False\n",
    "    return all(equals(a_,b_) for a_,b_ in itertools.zip_longest(a,b))\n",
    "\n",
    "def noop (x=None, *args, **kwargs):\n",
    "    \"Do nothing\"\n",
    "    return x\n",
    "\n",
    "def noops(self, x=None, *args, **kwargs):\n",
    "    \"Do nothing (method)\"\n",
    "    return x\n",
    "\n",
    "def one_is_instance(a, b, t): return isinstance(a,t) or isinstance(b,t)\n",
    "\n",
    "def equals(a,b):\n",
    "    \"Compares `a` and `b` for equality; supports sublists, tensors and arrays too\"\n",
    "    if one_is_instance(a,b,type): return a==b\n",
    "    if hasattr(a, '__array_eq__'): return a.__array_eq__(b)\n",
    "    if hasattr(b, '__array_eq__'): return b.__array_eq__(a)\n",
    "    cmp = (np.array_equal if one_is_instance(a, b, ndarray       ) else\n",
    "           operator.eq    if one_is_instance(a, b, (str,dict,set)) else\n",
    "           all_equal      if is_iter(a) or is_iter(b) else\n",
    "           operator.eq)\n",
    "    return cmp(a,b)"
   ]
  },
  {
   "cell_type": "code",
   "execution_count": 6,
   "metadata": {},
   "outputs": [],
   "source": [
    "#export\n",
    "\n",
    "test_eq= partial(test,cmp=operator.eq, cname='==')\n",
    "test_ne= partial(test,cmp=operator.ne)"
   ]
  },
  {
   "cell_type": "code",
   "execution_count": 7,
   "metadata": {},
   "outputs": [],
   "source": [
    "# tests\n",
    "\n",
    "test_eq(5, 5.)\n",
    "test_eq('narain', 'nar'+'ain')\n",
    "test_eq('aaaa', 'a'*4)\n",
    "test_ne('narain', 'mon')\n",
    "test_ne(deque([5,4,3,2]), 'na')"
   ]
  },
  {
   "cell_type": "code",
   "execution_count": 8,
   "metadata": {},
   "outputs": [],
   "source": [
    "#export\n",
    "\n",
    "def test_type_eq(a, b):\n",
    "    test_eq(a,b)\n",
    "    test_eq(type(a), type(b))\n",
    "    if isinstance(a, (list, tuple)): test_eq(map(type, a), map(type, b))"
   ]
  },
  {
   "cell_type": "code",
   "execution_count": 9,
   "metadata": {},
   "outputs": [],
   "source": [
    "#export\n",
    "\n",
    "def is_iter(a):\n",
    "    return isinstance(a, (Iterable, Generator)) and getattr(a, 'ndim', 1)"
   ]
  },
  {
   "cell_type": "code",
   "execution_count": 10,
   "metadata": {},
   "outputs": [],
   "source": [
    "#export\n",
    "\n",
    "def is_coll(a):\n",
    "    return hasattr(a, '__len__') and getattr(a, 'ndim', 1)"
   ]
  },
  {
   "cell_type": "code",
   "execution_count": 2,
   "metadata": {},
   "outputs": [],
   "source": [
    "#export\n",
    "def test_shuffled(a,b):\n",
    "    \"`test` that `a` and `b` are shuffled versions of the same sequence of items\"\n",
    "    test_ne(a, b)\n",
    "    test_eq(Counter(a), Counter(b))"
   ]
  },
  {
   "cell_type": "code",
   "execution_count": 3,
   "metadata": {},
   "outputs": [],
   "source": [
    "#export\n",
    "def test_close(a,b,eps=1e-5):\n",
    "    \"`test` that `a` is within `eps` of `b`\"\n",
    "    test(a,b,partial(is_close,eps=eps),'close')"
   ]
  },
  {
   "cell_type": "code",
   "execution_count": 4,
   "metadata": {},
   "outputs": [],
   "source": [
    "#export\n",
    "def test_is(a,b):\n",
    "    \"`test` that `a is b`\"\n",
    "    test(a,b,operator.is_, 'is')"
   ]
  },
  {
   "cell_type": "code",
   "execution_count": 5,
   "metadata": {},
   "outputs": [],
   "source": [
    "#export\n",
    "def test_stdout(f, exp, regex=False):\n",
    "    \"Test that `f` prints `exp` to stdout, optionally checking as `regex`\"\n",
    "    s = io.StringIO()\n",
    "    with redirect_stdout(s): f()\n",
    "    if regex: assert re.search(exp, s.getvalue()) is not None\n",
    "    else: test_eq(s.getvalue(), f'{exp}\\n' if len(exp) > 0 else '')"
   ]
  },
  {
   "cell_type": "code",
   "execution_count": 6,
   "metadata": {},
   "outputs": [],
   "source": [
    "#export\n",
    "def test_warns(f, show=False):\n",
    "    with warnings.catch_warnings(record=True) as w:\n",
    "        f()\n",
    "        test_ne(len(w), 0)\n",
    "        if show: \n",
    "            for e in w: print(f\"{e.category}: {e.message}\")"
   ]
  },
  {
   "cell_type": "code",
   "execution_count": 7,
   "metadata": {},
   "outputs": [],
   "source": [
    "#export\n",
    "def test_fig_exists(ax):\n",
    "    \"Test there is a figure displayed in `ax`\"\n",
    "    assert ax and len(np.frombuffer(ax.figure.canvas.tostring_argb(), dtype=np.uint8))"
   ]
  },
  {
   "cell_type": "code",
   "execution_count": 1,
   "metadata": {},
   "outputs": [
    {
     "name": "stderr",
     "output_type": "stream",
     "text": [
      "Traceback (most recent call last):\n",
      "  File \"notebook2script.py\", line 3, in <module>\n",
      "    import json,fire,re\n",
      "ModuleNotFoundError: No module named 'fire'\n"
     ]
    }
   ],
   "source": [
    "!python notebook2script.py 00_test.ipynb"
   ]
  },
  {
   "cell_type": "code",
   "execution_count": null,
   "metadata": {},
   "outputs": [],
   "source": []
  }
 ],
 "metadata": {
  "@webio": {
   "lastCommId": null,
   "lastKernelId": null
  },
  "kernelspec": {
   "display_name": "torch env",
   "language": "python",
   "name": "torch"
  },
  "language_info": {
   "codemirror_mode": {
    "name": "ipython",
    "version": 3
   },
   "file_extension": ".py",
   "mimetype": "text/x-python",
   "name": "python",
   "nbconvert_exporter": "python",
   "pygments_lexer": "ipython3",
   "version": "3.7.5"
  }
 },
 "nbformat": 4,
 "nbformat_minor": 4
}
