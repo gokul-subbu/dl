{
 "cells": [
  {
   "cell_type": "code",
   "execution_count": 1,
   "metadata": {},
   "outputs": [],
   "source": [
    "%load_ext autoreload\n",
    "%autoreload 2\n",
    "\n",
    "%matplotlib inline"
   ]
  },
  {
   "cell_type": "code",
   "execution_count": 2,
   "metadata": {},
   "outputs": [
    {
     "ename": "ModuleNotFoundError",
     "evalue": "No module named 'scipy'",
     "output_type": "error",
     "traceback": [
      "\u001b[1;31m---------------------------------------------------------------------------\u001b[0m",
      "\u001b[1;31mModuleNotFoundError\u001b[0m                       Traceback (most recent call last)",
      "\u001b[1;32m<ipython-input-2-e8291b22ea7f>\u001b[0m in \u001b[0;36m<module>\u001b[1;34m\u001b[0m\n\u001b[0;32m      8\u001b[0m \u001b[1;32mfrom\u001b[0m \u001b[0mpandas\u001b[0m\u001b[1;33m.\u001b[0m\u001b[0mapi\u001b[0m\u001b[1;33m.\u001b[0m\u001b[0mtypes\u001b[0m \u001b[1;32mimport\u001b[0m \u001b[0mis_categorical_dtype\u001b[0m\u001b[1;33m,\u001b[0m\u001b[0mis_numeric_dtype\u001b[0m\u001b[1;33m\u001b[0m\u001b[1;33m\u001b[0m\u001b[0m\n\u001b[0;32m      9\u001b[0m \u001b[1;32mfrom\u001b[0m \u001b[0mnumpy\u001b[0m \u001b[1;32mimport\u001b[0m \u001b[0marray\u001b[0m\u001b[1;33m,\u001b[0m\u001b[0mndarray\u001b[0m\u001b[1;33m\u001b[0m\u001b[1;33m\u001b[0m\u001b[0m\n\u001b[1;32m---> 10\u001b[1;33m \u001b[1;32mfrom\u001b[0m \u001b[0mscipy\u001b[0m \u001b[1;32mimport\u001b[0m \u001b[0mndimage\u001b[0m\u001b[1;33m\u001b[0m\u001b[1;33m\u001b[0m\u001b[0m\n\u001b[0m\u001b[0;32m     11\u001b[0m \u001b[1;32mfrom\u001b[0m \u001b[0mIPython\u001b[0m\u001b[1;33m.\u001b[0m\u001b[0mcore\u001b[0m\u001b[1;33m.\u001b[0m\u001b[0mdebugger\u001b[0m \u001b[1;32mimport\u001b[0m \u001b[0mset_trace\u001b[0m\u001b[1;33m\u001b[0m\u001b[1;33m\u001b[0m\u001b[0m\n\u001b[0;32m     12\u001b[0m \u001b[1;33m\u001b[0m\u001b[0m\n",
      "\u001b[1;31mModuleNotFoundError\u001b[0m: No module named 'scipy'"
     ]
    }
   ],
   "source": [
    "# export imports\n",
    "\n",
    "import operator\n",
    "from functools import partial\n",
    "from collections import deque\n",
    "from numpy import array, ndarray\n",
    "\n",
    "from pandas.api.types import is_categorical_dtype,is_numeric_dtype\n",
    "from numpy import array,ndarray\n",
    "from scipy import ndimage\n",
    "from IPython.core.debugger import set_trace\n",
    "\n",
    "try:\n",
    "    from types import WrapperDescriptorType,MethodWrapperType,MethodDescriptorType\n",
    "except ImportError:\n",
    "    WrapperDescriptorType = type(object.__init__)\n",
    "    MethodWrapperType = type(object().__str__)\n",
    "    MethodDescriptorType = type(str.join)\n",
    "from types import BuiltinFunctionType,BuiltinMethodType,MethodType,FunctionType\n",
    "\n",
    "pd.options.display.max_colwidth = 600\n",
    "NoneType = type(None)\n",
    "string_classes = (str,bytes)"
   ]
  },
  {
   "cell_type": "code",
   "execution_count": 3,
   "metadata": {},
   "outputs": [],
   "source": [
    "# export test\n",
    "\n",
    "def all_equal(a,b):\n",
    "    \"Compares whether `a` and `b` are the same length and have the same contents\"\n",
    "    if not is_iter(b): return False\n",
    "    return all(equals(a_,b_) for a_,b_ in itertools.zip_longest(a,b))"
   ]
  },
  {
   "cell_type": "code",
   "execution_count": 4,
   "metadata": {},
   "outputs": [],
   "source": [
    "# export test\n",
    "\n",
    "def equals(a,b):\n",
    "    \"Compares `a` and `b` for equality; supports sublists, tensors and arrays too\"\n",
    "    if one_is_instance(a,b,type): return a==b\n",
    "    if hasattr(a, '__array_eq__'): return a.__array_eq__(b)\n",
    "    if hasattr(b, '__array_eq__'): return b.__array_eq__(a)\n",
    "    cmp = (np.array_equal if one_is_instance(a, b, ndarray       ) else\n",
    "           operator.eq    if one_is_instance(a, b, (str,dict,set)) else\n",
    "           all_equal      if is_iter(a) or is_iter(b) else\n",
    "           operator.eq)\n",
    "    return cmp(a,b)"
   ]
  },
  {
   "cell_type": "code",
   "execution_count": 5,
   "metadata": {},
   "outputs": [],
   "source": [
    "# export test\n",
    "\n",
    "def test(a, b, cmp, cname=None):\n",
    "    'assert cmp(a,b)'\n",
    "    if cname is None: cname=cmp.__name__\n",
    "    assert cmp(a, b), f'{cname}: \\na\\nb'"
   ]
  },
  {
   "cell_type": "code",
   "execution_count": 6,
   "metadata": {},
   "outputs": [],
   "source": [
    "# export test\n",
    "\n",
    "test_eq= partial(test,cmp=operator.eq, cname='==')\n",
    "test_ne= partial(test,cmp=operator.ne)"
   ]
  },
  {
   "cell_type": "code",
   "execution_count": 7,
   "metadata": {},
   "outputs": [],
   "source": [
    "# tests\n",
    "\n",
    "test_eq(5, 5.)\n",
    "test_eq('narain', 'nar'+'ain')\n",
    "test_eq('aaaa', 'a'*4)\n",
    "test_ne('narain', 'mon')\n",
    "test_ne(deque([5,4,3,2]), 'na')"
   ]
  },
  {
   "cell_type": "code",
   "execution_count": 8,
   "metadata": {},
   "outputs": [],
   "source": [
    "# export test\n",
    "\n",
    "def test_type_eq(a, b):\n",
    "    test_eq(a,b)\n",
    "    test_eq(type(a), type(b))\n",
    "    if isinstance(a, (list, tuple)): test_eq(map(type, a), map(type, b))"
   ]
  },
  {
   "cell_type": "code",
   "execution_count": 9,
   "metadata": {},
   "outputs": [],
   "source": [
    "# export test\n",
    "\n",
    "def is_iter(a):\n",
    "    return isinstance(a, (Iterable, Generator)) and getattr(a, 'ndim', 1)"
   ]
  },
  {
   "cell_type": "code",
   "execution_count": 10,
   "metadata": {},
   "outputs": [],
   "source": [
    "# export test\n",
    "\n",
    "def is_coll(a):\n",
    "    return hasattr(a, '__len__') and getattr(a, 'ndim', 1)"
   ]
  },
  {
   "cell_type": "code",
   "execution_count": 17,
   "metadata": {},
   "outputs": [],
   "source": [
    "import os, json\n",
    "\n",
    "cwd=os.getcwd()\n",
    "jup_files=[i for i in os.listdir(cwd) if i.endswith('.ipynb')]"
   ]
  },
  {
   "cell_type": "code",
   "execution_count": 14,
   "metadata": {},
   "outputs": [
    {
     "data": {
      "text/plain": [
       "['00_test.ipynb', '01_core_foundation.ipynb', '02_datablock.ipynb']"
      ]
     },
     "execution_count": 14,
     "metadata": {},
     "output_type": "execute_result"
    }
   ],
   "source": [
    "jup_files"
   ]
  },
  {
   "cell_type": "code",
   "execution_count": 35,
   "metadata": {},
   "outputs": [
    {
     "data": {
      "text/plain": [
       "[]"
      ]
     },
     "execution_count": 35,
     "metadata": {},
     "output_type": "execute_result"
    }
   ],
   "source": [
    "cell_source"
   ]
  },
  {
   "cell_type": "code",
   "execution_count": 55,
   "metadata": {},
   "outputs": [
    {
     "data": {
      "text/plain": [
       "['# export test\\n',\n",
       " '\\n',\n",
       " 'def all_equal(a,b):\\n',\n",
       " '    \"Compares whether `a` and `b` are the same length and have the same contents\"\\n',\n",
       " '    if not is_iter(b): return False\\n',\n",
       " '    return all(equals(a_,b_) for a_,b_ in itertools.zip_longest(a,b))']"
      ]
     },
     "execution_count": 55,
     "metadata": {},
     "output_type": "execute_result"
    }
   ],
   "source": [
    "json.load(open(jup_files[0]))['cells'][2]['source']"
   ]
  },
  {
   "cell_type": "code",
   "execution_count": 58,
   "metadata": {},
   "outputs": [
    {
     "name": "stdout",
     "output_type": "stream",
     "text": [
      "['# export imports\\n', '\\n', 'import operator\\n', 'from functools import partial\\n', 'from collections import deque\\n', 'from numpy import array, ndarray\\n', '\\n', 'from pandas.api.types import is_categorical_dtype,is_numeric_dtype\\n', 'from numpy import array,ndarray\\n', 'from scipy import ndimage\\n', 'from IPython.core.debugger import set_trace\\n', '\\n', 'try:\\n', '    from types import WrapperDescriptorType,MethodWrapperType,MethodDescriptorType\\n', 'except ImportError:\\n', '    WrapperDescriptorType = type(object.__init__)\\n', '    MethodWrapperType = type(object().__str__)\\n', '    MethodDescriptorType = type(str.join)\\n', 'from types import BuiltinFunctionType,BuiltinMethodType,MethodType,FunctionType\\n', '\\n', 'pd.options.display.max_colwidth = 600\\n', 'NoneType = type(None)\\n', 'string_classes = (str,bytes)']\n",
      "['# export test\\n', '\\n', 'def all_equal(a,b):\\n', '    \"Compares whether `a` and `b` are the same length and have the same contents\"\\n', '    if not is_iter(b): return False\\n', '    return all(equals(a_,b_) for a_,b_ in itertools.zip_longest(a,b))']\n",
      "['# export test\\n', '\\n', 'def equals(a,b):\\n', '    \"Compares `a` and `b` for equality; supports sublists, tensors and arrays too\"\\n', '    if one_is_instance(a,b,type): return a==b\\n', \"    if hasattr(a, '__array_eq__'): return a.__array_eq__(b)\\n\", \"    if hasattr(b, '__array_eq__'): return b.__array_eq__(a)\\n\", '    cmp = (np.array_equal if one_is_instance(a, b, ndarray       ) else\\n', '           operator.eq    if one_is_instance(a, b, (str,dict,set)) else\\n', '           all_equal      if is_iter(a) or is_iter(b) else\\n', '           operator.eq)\\n', '    return cmp(a,b)']\n",
      "['# export test\\n', '\\n', 'def test(a, b, cmp, cname=None):\\n', \"    'assert cmp(a,b)'\\n\", '    if cname is None: cname=cmp.__name__\\n', \"    assert cmp(a, b), f'{cname}: \\\\na\\\\nb'\"]\n",
      "['# export test\\n', '\\n', \"test_eq= partial(test,cmp=operator.eq, cname='==')\\n\", 'test_ne= partial(test,cmp=operator.ne)']\n",
      "['# export test\\n', '\\n', 'def test_type_eq(a, b):\\n', '    test_eq(a,b)\\n', '    test_eq(type(a), type(b))\\n', '    if isinstance(a, (list, tuple)): test_eq(map(type, a), map(type, b))']\n",
      "['# export test\\n', '\\n', 'def is_iter(a):\\n', \"    return isinstance(a, (Iterable, Generator)) and getattr(a, 'ndim', 1)\"]\n",
      "['# export test\\n', '\\n', 'def is_coll(a):\\n', \"    return hasattr(a, '__len__') and getattr(a, 'ndim', 1)\"]\n"
     ]
    },
    {
     "ename": "IndexError",
     "evalue": "list index out of range",
     "output_type": "error",
     "traceback": [
      "\u001b[1;31m---------------------------------------------------------------------------\u001b[0m",
      "\u001b[1;31mIndexError\u001b[0m                                Traceback (most recent call last)",
      "\u001b[1;32m<ipython-input-58-d7955dfdcec6>\u001b[0m in \u001b[0;36m<module>\u001b[1;34m\u001b[0m\n\u001b[0;32m      1\u001b[0m \u001b[1;32mfor\u001b[0m \u001b[0mi\u001b[0m \u001b[1;32min\u001b[0m \u001b[0mjson\u001b[0m\u001b[1;33m.\u001b[0m\u001b[0mload\u001b[0m\u001b[1;33m(\u001b[0m\u001b[0mopen\u001b[0m\u001b[1;33m(\u001b[0m\u001b[0mjup_files\u001b[0m\u001b[1;33m[\u001b[0m\u001b[1;36m0\u001b[0m\u001b[1;33m]\u001b[0m\u001b[1;33m)\u001b[0m\u001b[1;33m)\u001b[0m\u001b[1;33m[\u001b[0m\u001b[1;34m'cells'\u001b[0m\u001b[1;33m]\u001b[0m\u001b[1;33m:\u001b[0m\u001b[1;33m\u001b[0m\u001b[1;33m\u001b[0m\u001b[0m\n\u001b[1;32m----> 2\u001b[1;33m     \u001b[1;32mif\u001b[0m \u001b[1;33m(\u001b[0m\u001b[0mi\u001b[0m\u001b[1;33m[\u001b[0m\u001b[1;34m'source'\u001b[0m\u001b[1;33m]\u001b[0m\u001b[1;33m[\u001b[0m\u001b[1;36m0\u001b[0m\u001b[1;33m]\u001b[0m\u001b[1;33m)\u001b[0m\u001b[1;33m.\u001b[0m\u001b[0mstartswith\u001b[0m\u001b[1;33m(\u001b[0m\u001b[1;34m'# export'\u001b[0m\u001b[1;33m)\u001b[0m\u001b[1;33m:\u001b[0m\u001b[1;33m\u001b[0m\u001b[1;33m\u001b[0m\u001b[0m\n\u001b[0m\u001b[0;32m      3\u001b[0m         \u001b[0mprint\u001b[0m\u001b[1;33m(\u001b[0m\u001b[0mi\u001b[0m\u001b[1;33m[\u001b[0m\u001b[1;34m'source'\u001b[0m\u001b[1;33m]\u001b[0m\u001b[1;33m)\u001b[0m\u001b[1;33m\u001b[0m\u001b[1;33m\u001b[0m\u001b[0m\n",
      "\u001b[1;31mIndexError\u001b[0m: list index out of range"
     ]
    }
   ],
   "source": [
    "for i in json.load(open(jup_files[0]))['cells']:\n",
    "    if (i['source'][0]).startswith('# export'):\n",
    "        print(i['source'])"
   ]
  },
  {
   "cell_type": "code",
   "execution_count": null,
   "metadata": {},
   "outputs": [],
   "source": []
  }
 ],
 "metadata": {
  "@webio": {
   "lastCommId": null,
   "lastKernelId": null
  },
  "kernelspec": {
   "display_name": "torch env",
   "language": "python",
   "name": "torch"
  },
  "language_info": {
   "codemirror_mode": {
    "name": "ipython",
    "version": 3
   },
   "file_extension": ".py",
   "mimetype": "text/x-python",
   "name": "python",
   "nbconvert_exporter": "python",
   "pygments_lexer": "ipython3",
   "version": "3.7.5"
  }
 },
 "nbformat": 4,
 "nbformat_minor": 2
}
